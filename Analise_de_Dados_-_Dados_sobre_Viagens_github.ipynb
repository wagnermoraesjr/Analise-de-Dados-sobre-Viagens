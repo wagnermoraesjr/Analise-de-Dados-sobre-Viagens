{
  "nbformat": 4,
  "nbformat_minor": 0,
  "metadata": {
    "colab": {
      "provenance": [],
      "authorship_tag": "ABX9TyNkBLJo/gzNz9/0ZRtS6hlC",
      "include_colab_link": true
    },
    "kernelspec": {
      "name": "python3",
      "display_name": "Python 3"
    },
    "language_info": {
      "name": "python"
    },
    "widgets": {
      "application/vnd.jupyter.widget-state+json": {
        "86e20630fc33489ea71fa06351be1578": {
          "model_module": "@jupyter-widgets/controls",
          "model_name": "HBoxModel",
          "model_module_version": "1.5.0",
          "state": {
            "_dom_classes": [],
            "_model_module": "@jupyter-widgets/controls",
            "_model_module_version": "1.5.0",
            "_model_name": "HBoxModel",
            "_view_count": null,
            "_view_module": "@jupyter-widgets/controls",
            "_view_module_version": "1.5.0",
            "_view_name": "HBoxView",
            "box_style": "",
            "children": [
              "IPY_MODEL_145aaeb009794612ae14e7baa4a2928d",
              "IPY_MODEL_bb76f86d52504f418cd3234f5130d15f",
              "IPY_MODEL_a6858ac54fad4e5993c7f79a2612bb7f"
            ],
            "layout": "IPY_MODEL_af7f0250a28247eebc0fcc926dee4097"
          }
        },
        "145aaeb009794612ae14e7baa4a2928d": {
          "model_module": "@jupyter-widgets/controls",
          "model_name": "HTMLModel",
          "model_module_version": "1.5.0",
          "state": {
            "_dom_classes": [],
            "_model_module": "@jupyter-widgets/controls",
            "_model_module_version": "1.5.0",
            "_model_name": "HTMLModel",
            "_view_count": null,
            "_view_module": "@jupyter-widgets/controls",
            "_view_module_version": "1.5.0",
            "_view_name": "HTMLView",
            "description": "",
            "description_tooltip": null,
            "layout": "IPY_MODEL_2b9a55b7a65e4126bce21402ba8f0b8c",
            "placeholder": "​",
            "style": "IPY_MODEL_3ba6809248c449cdb5115233d4f6fa69",
            "value": "Summarize dataset: 100%"
          }
        },
        "bb76f86d52504f418cd3234f5130d15f": {
          "model_module": "@jupyter-widgets/controls",
          "model_name": "FloatProgressModel",
          "model_module_version": "1.5.0",
          "state": {
            "_dom_classes": [],
            "_model_module": "@jupyter-widgets/controls",
            "_model_module_version": "1.5.0",
            "_model_name": "FloatProgressModel",
            "_view_count": null,
            "_view_module": "@jupyter-widgets/controls",
            "_view_module_version": "1.5.0",
            "_view_name": "ProgressView",
            "bar_style": "success",
            "description": "",
            "description_tooltip": null,
            "layout": "IPY_MODEL_9f20693160d6427daab4318438c9a5ea",
            "max": 5,
            "min": 0,
            "orientation": "horizontal",
            "style": "IPY_MODEL_7f4944c025ed4cb5a34af24bd1fd605f",
            "value": 5
          }
        },
        "a6858ac54fad4e5993c7f79a2612bb7f": {
          "model_module": "@jupyter-widgets/controls",
          "model_name": "HTMLModel",
          "model_module_version": "1.5.0",
          "state": {
            "_dom_classes": [],
            "_model_module": "@jupyter-widgets/controls",
            "_model_module_version": "1.5.0",
            "_model_name": "HTMLModel",
            "_view_count": null,
            "_view_module": "@jupyter-widgets/controls",
            "_view_module_version": "1.5.0",
            "_view_name": "HTMLView",
            "description": "",
            "description_tooltip": null,
            "layout": "IPY_MODEL_565d1beeaa504c6db1353ad59a724970",
            "placeholder": "​",
            "style": "IPY_MODEL_2fc10b96a52f42609659bd8846c87942",
            "value": " 58/58 [00:14&lt;00:00,  3.82it/s, Completed]"
          }
        },
        "af7f0250a28247eebc0fcc926dee4097": {
          "model_module": "@jupyter-widgets/base",
          "model_name": "LayoutModel",
          "model_module_version": "1.2.0",
          "state": {
            "_model_module": "@jupyter-widgets/base",
            "_model_module_version": "1.2.0",
            "_model_name": "LayoutModel",
            "_view_count": null,
            "_view_module": "@jupyter-widgets/base",
            "_view_module_version": "1.2.0",
            "_view_name": "LayoutView",
            "align_content": null,
            "align_items": null,
            "align_self": null,
            "border": null,
            "bottom": null,
            "display": null,
            "flex": null,
            "flex_flow": null,
            "grid_area": null,
            "grid_auto_columns": null,
            "grid_auto_flow": null,
            "grid_auto_rows": null,
            "grid_column": null,
            "grid_gap": null,
            "grid_row": null,
            "grid_template_areas": null,
            "grid_template_columns": null,
            "grid_template_rows": null,
            "height": null,
            "justify_content": null,
            "justify_items": null,
            "left": null,
            "margin": null,
            "max_height": null,
            "max_width": null,
            "min_height": null,
            "min_width": null,
            "object_fit": null,
            "object_position": null,
            "order": null,
            "overflow": null,
            "overflow_x": null,
            "overflow_y": null,
            "padding": null,
            "right": null,
            "top": null,
            "visibility": null,
            "width": null
          }
        },
        "2b9a55b7a65e4126bce21402ba8f0b8c": {
          "model_module": "@jupyter-widgets/base",
          "model_name": "LayoutModel",
          "model_module_version": "1.2.0",
          "state": {
            "_model_module": "@jupyter-widgets/base",
            "_model_module_version": "1.2.0",
            "_model_name": "LayoutModel",
            "_view_count": null,
            "_view_module": "@jupyter-widgets/base",
            "_view_module_version": "1.2.0",
            "_view_name": "LayoutView",
            "align_content": null,
            "align_items": null,
            "align_self": null,
            "border": null,
            "bottom": null,
            "display": null,
            "flex": null,
            "flex_flow": null,
            "grid_area": null,
            "grid_auto_columns": null,
            "grid_auto_flow": null,
            "grid_auto_rows": null,
            "grid_column": null,
            "grid_gap": null,
            "grid_row": null,
            "grid_template_areas": null,
            "grid_template_columns": null,
            "grid_template_rows": null,
            "height": null,
            "justify_content": null,
            "justify_items": null,
            "left": null,
            "margin": null,
            "max_height": null,
            "max_width": null,
            "min_height": null,
            "min_width": null,
            "object_fit": null,
            "object_position": null,
            "order": null,
            "overflow": null,
            "overflow_x": null,
            "overflow_y": null,
            "padding": null,
            "right": null,
            "top": null,
            "visibility": null,
            "width": null
          }
        },
        "3ba6809248c449cdb5115233d4f6fa69": {
          "model_module": "@jupyter-widgets/controls",
          "model_name": "DescriptionStyleModel",
          "model_module_version": "1.5.0",
          "state": {
            "_model_module": "@jupyter-widgets/controls",
            "_model_module_version": "1.5.0",
            "_model_name": "DescriptionStyleModel",
            "_view_count": null,
            "_view_module": "@jupyter-widgets/base",
            "_view_module_version": "1.2.0",
            "_view_name": "StyleView",
            "description_width": ""
          }
        },
        "9f20693160d6427daab4318438c9a5ea": {
          "model_module": "@jupyter-widgets/base",
          "model_name": "LayoutModel",
          "model_module_version": "1.2.0",
          "state": {
            "_model_module": "@jupyter-widgets/base",
            "_model_module_version": "1.2.0",
            "_model_name": "LayoutModel",
            "_view_count": null,
            "_view_module": "@jupyter-widgets/base",
            "_view_module_version": "1.2.0",
            "_view_name": "LayoutView",
            "align_content": null,
            "align_items": null,
            "align_self": null,
            "border": null,
            "bottom": null,
            "display": null,
            "flex": null,
            "flex_flow": null,
            "grid_area": null,
            "grid_auto_columns": null,
            "grid_auto_flow": null,
            "grid_auto_rows": null,
            "grid_column": null,
            "grid_gap": null,
            "grid_row": null,
            "grid_template_areas": null,
            "grid_template_columns": null,
            "grid_template_rows": null,
            "height": null,
            "justify_content": null,
            "justify_items": null,
            "left": null,
            "margin": null,
            "max_height": null,
            "max_width": null,
            "min_height": null,
            "min_width": null,
            "object_fit": null,
            "object_position": null,
            "order": null,
            "overflow": null,
            "overflow_x": null,
            "overflow_y": null,
            "padding": null,
            "right": null,
            "top": null,
            "visibility": null,
            "width": null
          }
        },
        "7f4944c025ed4cb5a34af24bd1fd605f": {
          "model_module": "@jupyter-widgets/controls",
          "model_name": "ProgressStyleModel",
          "model_module_version": "1.5.0",
          "state": {
            "_model_module": "@jupyter-widgets/controls",
            "_model_module_version": "1.5.0",
            "_model_name": "ProgressStyleModel",
            "_view_count": null,
            "_view_module": "@jupyter-widgets/base",
            "_view_module_version": "1.2.0",
            "_view_name": "StyleView",
            "bar_color": null,
            "description_width": ""
          }
        },
        "565d1beeaa504c6db1353ad59a724970": {
          "model_module": "@jupyter-widgets/base",
          "model_name": "LayoutModel",
          "model_module_version": "1.2.0",
          "state": {
            "_model_module": "@jupyter-widgets/base",
            "_model_module_version": "1.2.0",
            "_model_name": "LayoutModel",
            "_view_count": null,
            "_view_module": "@jupyter-widgets/base",
            "_view_module_version": "1.2.0",
            "_view_name": "LayoutView",
            "align_content": null,
            "align_items": null,
            "align_self": null,
            "border": null,
            "bottom": null,
            "display": null,
            "flex": null,
            "flex_flow": null,
            "grid_area": null,
            "grid_auto_columns": null,
            "grid_auto_flow": null,
            "grid_auto_rows": null,
            "grid_column": null,
            "grid_gap": null,
            "grid_row": null,
            "grid_template_areas": null,
            "grid_template_columns": null,
            "grid_template_rows": null,
            "height": null,
            "justify_content": null,
            "justify_items": null,
            "left": null,
            "margin": null,
            "max_height": null,
            "max_width": null,
            "min_height": null,
            "min_width": null,
            "object_fit": null,
            "object_position": null,
            "order": null,
            "overflow": null,
            "overflow_x": null,
            "overflow_y": null,
            "padding": null,
            "right": null,
            "top": null,
            "visibility": null,
            "width": null
          }
        },
        "2fc10b96a52f42609659bd8846c87942": {
          "model_module": "@jupyter-widgets/controls",
          "model_name": "DescriptionStyleModel",
          "model_module_version": "1.5.0",
          "state": {
            "_model_module": "@jupyter-widgets/controls",
            "_model_module_version": "1.5.0",
            "_model_name": "DescriptionStyleModel",
            "_view_count": null,
            "_view_module": "@jupyter-widgets/base",
            "_view_module_version": "1.2.0",
            "_view_name": "StyleView",
            "description_width": ""
          }
        },
        "61a2e94f5abd4baf94d55abd31c120f8": {
          "model_module": "@jupyter-widgets/controls",
          "model_name": "HBoxModel",
          "model_module_version": "1.5.0",
          "state": {
            "_dom_classes": [],
            "_model_module": "@jupyter-widgets/controls",
            "_model_module_version": "1.5.0",
            "_model_name": "HBoxModel",
            "_view_count": null,
            "_view_module": "@jupyter-widgets/controls",
            "_view_module_version": "1.5.0",
            "_view_name": "HBoxView",
            "box_style": "",
            "children": [
              "IPY_MODEL_92dc7c803f3e4fb786f9b9f55da2f60b",
              "IPY_MODEL_437ee329dada46059d2b5458f44f03e0",
              "IPY_MODEL_647526a9b33e4e7bb6ae718f80612334"
            ],
            "layout": "IPY_MODEL_53c7049e897e4f66984c94eb5e8dbac8"
          }
        },
        "92dc7c803f3e4fb786f9b9f55da2f60b": {
          "model_module": "@jupyter-widgets/controls",
          "model_name": "HTMLModel",
          "model_module_version": "1.5.0",
          "state": {
            "_dom_classes": [],
            "_model_module": "@jupyter-widgets/controls",
            "_model_module_version": "1.5.0",
            "_model_name": "HTMLModel",
            "_view_count": null,
            "_view_module": "@jupyter-widgets/controls",
            "_view_module_version": "1.5.0",
            "_view_name": "HTMLView",
            "description": "",
            "description_tooltip": null,
            "layout": "IPY_MODEL_45c41f7ed3aa415781228f2cdd3f7c32",
            "placeholder": "​",
            "style": "IPY_MODEL_d8f5a0f79a684f959c31122206a18f9a",
            "value": "Generate report structure: 100%"
          }
        },
        "437ee329dada46059d2b5458f44f03e0": {
          "model_module": "@jupyter-widgets/controls",
          "model_name": "FloatProgressModel",
          "model_module_version": "1.5.0",
          "state": {
            "_dom_classes": [],
            "_model_module": "@jupyter-widgets/controls",
            "_model_module_version": "1.5.0",
            "_model_name": "FloatProgressModel",
            "_view_count": null,
            "_view_module": "@jupyter-widgets/controls",
            "_view_module_version": "1.5.0",
            "_view_name": "ProgressView",
            "bar_style": "success",
            "description": "",
            "description_tooltip": null,
            "layout": "IPY_MODEL_db6655aa92ea4cefa92c259c163f1c85",
            "max": 1,
            "min": 0,
            "orientation": "horizontal",
            "style": "IPY_MODEL_d38c4994026d4649810052d6811c01a7",
            "value": 1
          }
        },
        "647526a9b33e4e7bb6ae718f80612334": {
          "model_module": "@jupyter-widgets/controls",
          "model_name": "HTMLModel",
          "model_module_version": "1.5.0",
          "state": {
            "_dom_classes": [],
            "_model_module": "@jupyter-widgets/controls",
            "_model_module_version": "1.5.0",
            "_model_name": "HTMLModel",
            "_view_count": null,
            "_view_module": "@jupyter-widgets/controls",
            "_view_module_version": "1.5.0",
            "_view_name": "HTMLView",
            "description": "",
            "description_tooltip": null,
            "layout": "IPY_MODEL_bbd6a01e2e024271970e53b86ba1c601",
            "placeholder": "​",
            "style": "IPY_MODEL_4991185bf20d43a5a9fc61db29563493",
            "value": " 1/1 [00:09&lt;00:00,  9.09s/it]"
          }
        },
        "53c7049e897e4f66984c94eb5e8dbac8": {
          "model_module": "@jupyter-widgets/base",
          "model_name": "LayoutModel",
          "model_module_version": "1.2.0",
          "state": {
            "_model_module": "@jupyter-widgets/base",
            "_model_module_version": "1.2.0",
            "_model_name": "LayoutModel",
            "_view_count": null,
            "_view_module": "@jupyter-widgets/base",
            "_view_module_version": "1.2.0",
            "_view_name": "LayoutView",
            "align_content": null,
            "align_items": null,
            "align_self": null,
            "border": null,
            "bottom": null,
            "display": null,
            "flex": null,
            "flex_flow": null,
            "grid_area": null,
            "grid_auto_columns": null,
            "grid_auto_flow": null,
            "grid_auto_rows": null,
            "grid_column": null,
            "grid_gap": null,
            "grid_row": null,
            "grid_template_areas": null,
            "grid_template_columns": null,
            "grid_template_rows": null,
            "height": null,
            "justify_content": null,
            "justify_items": null,
            "left": null,
            "margin": null,
            "max_height": null,
            "max_width": null,
            "min_height": null,
            "min_width": null,
            "object_fit": null,
            "object_position": null,
            "order": null,
            "overflow": null,
            "overflow_x": null,
            "overflow_y": null,
            "padding": null,
            "right": null,
            "top": null,
            "visibility": null,
            "width": null
          }
        },
        "45c41f7ed3aa415781228f2cdd3f7c32": {
          "model_module": "@jupyter-widgets/base",
          "model_name": "LayoutModel",
          "model_module_version": "1.2.0",
          "state": {
            "_model_module": "@jupyter-widgets/base",
            "_model_module_version": "1.2.0",
            "_model_name": "LayoutModel",
            "_view_count": null,
            "_view_module": "@jupyter-widgets/base",
            "_view_module_version": "1.2.0",
            "_view_name": "LayoutView",
            "align_content": null,
            "align_items": null,
            "align_self": null,
            "border": null,
            "bottom": null,
            "display": null,
            "flex": null,
            "flex_flow": null,
            "grid_area": null,
            "grid_auto_columns": null,
            "grid_auto_flow": null,
            "grid_auto_rows": null,
            "grid_column": null,
            "grid_gap": null,
            "grid_row": null,
            "grid_template_areas": null,
            "grid_template_columns": null,
            "grid_template_rows": null,
            "height": null,
            "justify_content": null,
            "justify_items": null,
            "left": null,
            "margin": null,
            "max_height": null,
            "max_width": null,
            "min_height": null,
            "min_width": null,
            "object_fit": null,
            "object_position": null,
            "order": null,
            "overflow": null,
            "overflow_x": null,
            "overflow_y": null,
            "padding": null,
            "right": null,
            "top": null,
            "visibility": null,
            "width": null
          }
        },
        "d8f5a0f79a684f959c31122206a18f9a": {
          "model_module": "@jupyter-widgets/controls",
          "model_name": "DescriptionStyleModel",
          "model_module_version": "1.5.0",
          "state": {
            "_model_module": "@jupyter-widgets/controls",
            "_model_module_version": "1.5.0",
            "_model_name": "DescriptionStyleModel",
            "_view_count": null,
            "_view_module": "@jupyter-widgets/base",
            "_view_module_version": "1.2.0",
            "_view_name": "StyleView",
            "description_width": ""
          }
        },
        "db6655aa92ea4cefa92c259c163f1c85": {
          "model_module": "@jupyter-widgets/base",
          "model_name": "LayoutModel",
          "model_module_version": "1.2.0",
          "state": {
            "_model_module": "@jupyter-widgets/base",
            "_model_module_version": "1.2.0",
            "_model_name": "LayoutModel",
            "_view_count": null,
            "_view_module": "@jupyter-widgets/base",
            "_view_module_version": "1.2.0",
            "_view_name": "LayoutView",
            "align_content": null,
            "align_items": null,
            "align_self": null,
            "border": null,
            "bottom": null,
            "display": null,
            "flex": null,
            "flex_flow": null,
            "grid_area": null,
            "grid_auto_columns": null,
            "grid_auto_flow": null,
            "grid_auto_rows": null,
            "grid_column": null,
            "grid_gap": null,
            "grid_row": null,
            "grid_template_areas": null,
            "grid_template_columns": null,
            "grid_template_rows": null,
            "height": null,
            "justify_content": null,
            "justify_items": null,
            "left": null,
            "margin": null,
            "max_height": null,
            "max_width": null,
            "min_height": null,
            "min_width": null,
            "object_fit": null,
            "object_position": null,
            "order": null,
            "overflow": null,
            "overflow_x": null,
            "overflow_y": null,
            "padding": null,
            "right": null,
            "top": null,
            "visibility": null,
            "width": null
          }
        },
        "d38c4994026d4649810052d6811c01a7": {
          "model_module": "@jupyter-widgets/controls",
          "model_name": "ProgressStyleModel",
          "model_module_version": "1.5.0",
          "state": {
            "_model_module": "@jupyter-widgets/controls",
            "_model_module_version": "1.5.0",
            "_model_name": "ProgressStyleModel",
            "_view_count": null,
            "_view_module": "@jupyter-widgets/base",
            "_view_module_version": "1.2.0",
            "_view_name": "StyleView",
            "bar_color": null,
            "description_width": ""
          }
        },
        "bbd6a01e2e024271970e53b86ba1c601": {
          "model_module": "@jupyter-widgets/base",
          "model_name": "LayoutModel",
          "model_module_version": "1.2.0",
          "state": {
            "_model_module": "@jupyter-widgets/base",
            "_model_module_version": "1.2.0",
            "_model_name": "LayoutModel",
            "_view_count": null,
            "_view_module": "@jupyter-widgets/base",
            "_view_module_version": "1.2.0",
            "_view_name": "LayoutView",
            "align_content": null,
            "align_items": null,
            "align_self": null,
            "border": null,
            "bottom": null,
            "display": null,
            "flex": null,
            "flex_flow": null,
            "grid_area": null,
            "grid_auto_columns": null,
            "grid_auto_flow": null,
            "grid_auto_rows": null,
            "grid_column": null,
            "grid_gap": null,
            "grid_row": null,
            "grid_template_areas": null,
            "grid_template_columns": null,
            "grid_template_rows": null,
            "height": null,
            "justify_content": null,
            "justify_items": null,
            "left": null,
            "margin": null,
            "max_height": null,
            "max_width": null,
            "min_height": null,
            "min_width": null,
            "object_fit": null,
            "object_position": null,
            "order": null,
            "overflow": null,
            "overflow_x": null,
            "overflow_y": null,
            "padding": null,
            "right": null,
            "top": null,
            "visibility": null,
            "width": null
          }
        },
        "4991185bf20d43a5a9fc61db29563493": {
          "model_module": "@jupyter-widgets/controls",
          "model_name": "DescriptionStyleModel",
          "model_module_version": "1.5.0",
          "state": {
            "_model_module": "@jupyter-widgets/controls",
            "_model_module_version": "1.5.0",
            "_model_name": "DescriptionStyleModel",
            "_view_count": null,
            "_view_module": "@jupyter-widgets/base",
            "_view_module_version": "1.2.0",
            "_view_name": "StyleView",
            "description_width": ""
          }
        },
        "de57d7986acf4f8ea3ff9744155a7b82": {
          "model_module": "@jupyter-widgets/controls",
          "model_name": "HBoxModel",
          "model_module_version": "1.5.0",
          "state": {
            "_dom_classes": [],
            "_model_module": "@jupyter-widgets/controls",
            "_model_module_version": "1.5.0",
            "_model_name": "HBoxModel",
            "_view_count": null,
            "_view_module": "@jupyter-widgets/controls",
            "_view_module_version": "1.5.0",
            "_view_name": "HBoxView",
            "box_style": "",
            "children": [
              "IPY_MODEL_2eb97fbf98b14cdcbed103421b9744d6",
              "IPY_MODEL_c0591893661444d294f9516a38e328bc",
              "IPY_MODEL_9b9caad2b06644e98e886f2a7073970c"
            ],
            "layout": "IPY_MODEL_4858509f82f34edfa27ad4f7bb285416"
          }
        },
        "2eb97fbf98b14cdcbed103421b9744d6": {
          "model_module": "@jupyter-widgets/controls",
          "model_name": "HTMLModel",
          "model_module_version": "1.5.0",
          "state": {
            "_dom_classes": [],
            "_model_module": "@jupyter-widgets/controls",
            "_model_module_version": "1.5.0",
            "_model_name": "HTMLModel",
            "_view_count": null,
            "_view_module": "@jupyter-widgets/controls",
            "_view_module_version": "1.5.0",
            "_view_name": "HTMLView",
            "description": "",
            "description_tooltip": null,
            "layout": "IPY_MODEL_f7af43af396a43b8b59599ec17292ef1",
            "placeholder": "​",
            "style": "IPY_MODEL_09f977f9644b4845a3c7c1981f459e13",
            "value": "Render HTML: 100%"
          }
        },
        "c0591893661444d294f9516a38e328bc": {
          "model_module": "@jupyter-widgets/controls",
          "model_name": "FloatProgressModel",
          "model_module_version": "1.5.0",
          "state": {
            "_dom_classes": [],
            "_model_module": "@jupyter-widgets/controls",
            "_model_module_version": "1.5.0",
            "_model_name": "FloatProgressModel",
            "_view_count": null,
            "_view_module": "@jupyter-widgets/controls",
            "_view_module_version": "1.5.0",
            "_view_name": "ProgressView",
            "bar_style": "success",
            "description": "",
            "description_tooltip": null,
            "layout": "IPY_MODEL_6042e09919414a0eb671b252e804bb61",
            "max": 1,
            "min": 0,
            "orientation": "horizontal",
            "style": "IPY_MODEL_323e4acb0a514adeaf4e117f0b1971ad",
            "value": 1
          }
        },
        "9b9caad2b06644e98e886f2a7073970c": {
          "model_module": "@jupyter-widgets/controls",
          "model_name": "HTMLModel",
          "model_module_version": "1.5.0",
          "state": {
            "_dom_classes": [],
            "_model_module": "@jupyter-widgets/controls",
            "_model_module_version": "1.5.0",
            "_model_name": "HTMLModel",
            "_view_count": null,
            "_view_module": "@jupyter-widgets/controls",
            "_view_module_version": "1.5.0",
            "_view_name": "HTMLView",
            "description": "",
            "description_tooltip": null,
            "layout": "IPY_MODEL_8ae38e83df0b4e90abbdbf1ce067cc88",
            "placeholder": "​",
            "style": "IPY_MODEL_8e8537eee80942f3a613aa929aac5bf0",
            "value": " 1/1 [00:01&lt;00:00,  1.17s/it]"
          }
        },
        "4858509f82f34edfa27ad4f7bb285416": {
          "model_module": "@jupyter-widgets/base",
          "model_name": "LayoutModel",
          "model_module_version": "1.2.0",
          "state": {
            "_model_module": "@jupyter-widgets/base",
            "_model_module_version": "1.2.0",
            "_model_name": "LayoutModel",
            "_view_count": null,
            "_view_module": "@jupyter-widgets/base",
            "_view_module_version": "1.2.0",
            "_view_name": "LayoutView",
            "align_content": null,
            "align_items": null,
            "align_self": null,
            "border": null,
            "bottom": null,
            "display": null,
            "flex": null,
            "flex_flow": null,
            "grid_area": null,
            "grid_auto_columns": null,
            "grid_auto_flow": null,
            "grid_auto_rows": null,
            "grid_column": null,
            "grid_gap": null,
            "grid_row": null,
            "grid_template_areas": null,
            "grid_template_columns": null,
            "grid_template_rows": null,
            "height": null,
            "justify_content": null,
            "justify_items": null,
            "left": null,
            "margin": null,
            "max_height": null,
            "max_width": null,
            "min_height": null,
            "min_width": null,
            "object_fit": null,
            "object_position": null,
            "order": null,
            "overflow": null,
            "overflow_x": null,
            "overflow_y": null,
            "padding": null,
            "right": null,
            "top": null,
            "visibility": null,
            "width": null
          }
        },
        "f7af43af396a43b8b59599ec17292ef1": {
          "model_module": "@jupyter-widgets/base",
          "model_name": "LayoutModel",
          "model_module_version": "1.2.0",
          "state": {
            "_model_module": "@jupyter-widgets/base",
            "_model_module_version": "1.2.0",
            "_model_name": "LayoutModel",
            "_view_count": null,
            "_view_module": "@jupyter-widgets/base",
            "_view_module_version": "1.2.0",
            "_view_name": "LayoutView",
            "align_content": null,
            "align_items": null,
            "align_self": null,
            "border": null,
            "bottom": null,
            "display": null,
            "flex": null,
            "flex_flow": null,
            "grid_area": null,
            "grid_auto_columns": null,
            "grid_auto_flow": null,
            "grid_auto_rows": null,
            "grid_column": null,
            "grid_gap": null,
            "grid_row": null,
            "grid_template_areas": null,
            "grid_template_columns": null,
            "grid_template_rows": null,
            "height": null,
            "justify_content": null,
            "justify_items": null,
            "left": null,
            "margin": null,
            "max_height": null,
            "max_width": null,
            "min_height": null,
            "min_width": null,
            "object_fit": null,
            "object_position": null,
            "order": null,
            "overflow": null,
            "overflow_x": null,
            "overflow_y": null,
            "padding": null,
            "right": null,
            "top": null,
            "visibility": null,
            "width": null
          }
        },
        "09f977f9644b4845a3c7c1981f459e13": {
          "model_module": "@jupyter-widgets/controls",
          "model_name": "DescriptionStyleModel",
          "model_module_version": "1.5.0",
          "state": {
            "_model_module": "@jupyter-widgets/controls",
            "_model_module_version": "1.5.0",
            "_model_name": "DescriptionStyleModel",
            "_view_count": null,
            "_view_module": "@jupyter-widgets/base",
            "_view_module_version": "1.2.0",
            "_view_name": "StyleView",
            "description_width": ""
          }
        },
        "6042e09919414a0eb671b252e804bb61": {
          "model_module": "@jupyter-widgets/base",
          "model_name": "LayoutModel",
          "model_module_version": "1.2.0",
          "state": {
            "_model_module": "@jupyter-widgets/base",
            "_model_module_version": "1.2.0",
            "_model_name": "LayoutModel",
            "_view_count": null,
            "_view_module": "@jupyter-widgets/base",
            "_view_module_version": "1.2.0",
            "_view_name": "LayoutView",
            "align_content": null,
            "align_items": null,
            "align_self": null,
            "border": null,
            "bottom": null,
            "display": null,
            "flex": null,
            "flex_flow": null,
            "grid_area": null,
            "grid_auto_columns": null,
            "grid_auto_flow": null,
            "grid_auto_rows": null,
            "grid_column": null,
            "grid_gap": null,
            "grid_row": null,
            "grid_template_areas": null,
            "grid_template_columns": null,
            "grid_template_rows": null,
            "height": null,
            "justify_content": null,
            "justify_items": null,
            "left": null,
            "margin": null,
            "max_height": null,
            "max_width": null,
            "min_height": null,
            "min_width": null,
            "object_fit": null,
            "object_position": null,
            "order": null,
            "overflow": null,
            "overflow_x": null,
            "overflow_y": null,
            "padding": null,
            "right": null,
            "top": null,
            "visibility": null,
            "width": null
          }
        },
        "323e4acb0a514adeaf4e117f0b1971ad": {
          "model_module": "@jupyter-widgets/controls",
          "model_name": "ProgressStyleModel",
          "model_module_version": "1.5.0",
          "state": {
            "_model_module": "@jupyter-widgets/controls",
            "_model_module_version": "1.5.0",
            "_model_name": "ProgressStyleModel",
            "_view_count": null,
            "_view_module": "@jupyter-widgets/base",
            "_view_module_version": "1.2.0",
            "_view_name": "StyleView",
            "bar_color": null,
            "description_width": ""
          }
        },
        "8ae38e83df0b4e90abbdbf1ce067cc88": {
          "model_module": "@jupyter-widgets/base",
          "model_name": "LayoutModel",
          "model_module_version": "1.2.0",
          "state": {
            "_model_module": "@jupyter-widgets/base",
            "_model_module_version": "1.2.0",
            "_model_name": "LayoutModel",
            "_view_count": null,
            "_view_module": "@jupyter-widgets/base",
            "_view_module_version": "1.2.0",
            "_view_name": "LayoutView",
            "align_content": null,
            "align_items": null,
            "align_self": null,
            "border": null,
            "bottom": null,
            "display": null,
            "flex": null,
            "flex_flow": null,
            "grid_area": null,
            "grid_auto_columns": null,
            "grid_auto_flow": null,
            "grid_auto_rows": null,
            "grid_column": null,
            "grid_gap": null,
            "grid_row": null,
            "grid_template_areas": null,
            "grid_template_columns": null,
            "grid_template_rows": null,
            "height": null,
            "justify_content": null,
            "justify_items": null,
            "left": null,
            "margin": null,
            "max_height": null,
            "max_width": null,
            "min_height": null,
            "min_width": null,
            "object_fit": null,
            "object_position": null,
            "order": null,
            "overflow": null,
            "overflow_x": null,
            "overflow_y": null,
            "padding": null,
            "right": null,
            "top": null,
            "visibility": null,
            "width": null
          }
        },
        "8e8537eee80942f3a613aa929aac5bf0": {
          "model_module": "@jupyter-widgets/controls",
          "model_name": "DescriptionStyleModel",
          "model_module_version": "1.5.0",
          "state": {
            "_model_module": "@jupyter-widgets/controls",
            "_model_module_version": "1.5.0",
            "_model_name": "DescriptionStyleModel",
            "_view_count": null,
            "_view_module": "@jupyter-widgets/base",
            "_view_module_version": "1.2.0",
            "_view_name": "StyleView",
            "description_width": ""
          }
        },
        "354804d811d54146b6808218687a7be3": {
          "model_module": "@jupyter-widgets/controls",
          "model_name": "HBoxModel",
          "model_module_version": "1.5.0",
          "state": {
            "_dom_classes": [],
            "_model_module": "@jupyter-widgets/controls",
            "_model_module_version": "1.5.0",
            "_model_name": "HBoxModel",
            "_view_count": null,
            "_view_module": "@jupyter-widgets/controls",
            "_view_module_version": "1.5.0",
            "_view_name": "HBoxView",
            "box_style": "",
            "children": [
              "IPY_MODEL_3b7f97eedf264b13a759384cd879140b",
              "IPY_MODEL_a438c379674045b89f9babff161c759f",
              "IPY_MODEL_f89ed764425948d0b07751d60760df2a"
            ],
            "layout": "IPY_MODEL_bc34183fbf764294990f9422a7f55be7"
          }
        },
        "3b7f97eedf264b13a759384cd879140b": {
          "model_module": "@jupyter-widgets/controls",
          "model_name": "HTMLModel",
          "model_module_version": "1.5.0",
          "state": {
            "_dom_classes": [],
            "_model_module": "@jupyter-widgets/controls",
            "_model_module_version": "1.5.0",
            "_model_name": "HTMLModel",
            "_view_count": null,
            "_view_module": "@jupyter-widgets/controls",
            "_view_module_version": "1.5.0",
            "_view_name": "HTMLView",
            "description": "",
            "description_tooltip": null,
            "layout": "IPY_MODEL_cc1efca2ca724e5199199c580a3b1d40",
            "placeholder": "​",
            "style": "IPY_MODEL_232d9654ea964335bb3cc9c662706f07",
            "value": "Export report to file: 100%"
          }
        },
        "a438c379674045b89f9babff161c759f": {
          "model_module": "@jupyter-widgets/controls",
          "model_name": "FloatProgressModel",
          "model_module_version": "1.5.0",
          "state": {
            "_dom_classes": [],
            "_model_module": "@jupyter-widgets/controls",
            "_model_module_version": "1.5.0",
            "_model_name": "FloatProgressModel",
            "_view_count": null,
            "_view_module": "@jupyter-widgets/controls",
            "_view_module_version": "1.5.0",
            "_view_name": "ProgressView",
            "bar_style": "success",
            "description": "",
            "description_tooltip": null,
            "layout": "IPY_MODEL_9308522ee63b452da9c0282b66fc58fe",
            "max": 1,
            "min": 0,
            "orientation": "horizontal",
            "style": "IPY_MODEL_47cfaaca84a24858bfb4d52b8230dcfa",
            "value": 1
          }
        },
        "f89ed764425948d0b07751d60760df2a": {
          "model_module": "@jupyter-widgets/controls",
          "model_name": "HTMLModel",
          "model_module_version": "1.5.0",
          "state": {
            "_dom_classes": [],
            "_model_module": "@jupyter-widgets/controls",
            "_model_module_version": "1.5.0",
            "_model_name": "HTMLModel",
            "_view_count": null,
            "_view_module": "@jupyter-widgets/controls",
            "_view_module_version": "1.5.0",
            "_view_name": "HTMLView",
            "description": "",
            "description_tooltip": null,
            "layout": "IPY_MODEL_da2d5ede4e17438080ff39411659c42a",
            "placeholder": "​",
            "style": "IPY_MODEL_70ef393087de4fa9a0d0766070afb4f2",
            "value": " 1/1 [00:00&lt;00:00, 32.38it/s]"
          }
        },
        "bc34183fbf764294990f9422a7f55be7": {
          "model_module": "@jupyter-widgets/base",
          "model_name": "LayoutModel",
          "model_module_version": "1.2.0",
          "state": {
            "_model_module": "@jupyter-widgets/base",
            "_model_module_version": "1.2.0",
            "_model_name": "LayoutModel",
            "_view_count": null,
            "_view_module": "@jupyter-widgets/base",
            "_view_module_version": "1.2.0",
            "_view_name": "LayoutView",
            "align_content": null,
            "align_items": null,
            "align_self": null,
            "border": null,
            "bottom": null,
            "display": null,
            "flex": null,
            "flex_flow": null,
            "grid_area": null,
            "grid_auto_columns": null,
            "grid_auto_flow": null,
            "grid_auto_rows": null,
            "grid_column": null,
            "grid_gap": null,
            "grid_row": null,
            "grid_template_areas": null,
            "grid_template_columns": null,
            "grid_template_rows": null,
            "height": null,
            "justify_content": null,
            "justify_items": null,
            "left": null,
            "margin": null,
            "max_height": null,
            "max_width": null,
            "min_height": null,
            "min_width": null,
            "object_fit": null,
            "object_position": null,
            "order": null,
            "overflow": null,
            "overflow_x": null,
            "overflow_y": null,
            "padding": null,
            "right": null,
            "top": null,
            "visibility": null,
            "width": null
          }
        },
        "cc1efca2ca724e5199199c580a3b1d40": {
          "model_module": "@jupyter-widgets/base",
          "model_name": "LayoutModel",
          "model_module_version": "1.2.0",
          "state": {
            "_model_module": "@jupyter-widgets/base",
            "_model_module_version": "1.2.0",
            "_model_name": "LayoutModel",
            "_view_count": null,
            "_view_module": "@jupyter-widgets/base",
            "_view_module_version": "1.2.0",
            "_view_name": "LayoutView",
            "align_content": null,
            "align_items": null,
            "align_self": null,
            "border": null,
            "bottom": null,
            "display": null,
            "flex": null,
            "flex_flow": null,
            "grid_area": null,
            "grid_auto_columns": null,
            "grid_auto_flow": null,
            "grid_auto_rows": null,
            "grid_column": null,
            "grid_gap": null,
            "grid_row": null,
            "grid_template_areas": null,
            "grid_template_columns": null,
            "grid_template_rows": null,
            "height": null,
            "justify_content": null,
            "justify_items": null,
            "left": null,
            "margin": null,
            "max_height": null,
            "max_width": null,
            "min_height": null,
            "min_width": null,
            "object_fit": null,
            "object_position": null,
            "order": null,
            "overflow": null,
            "overflow_x": null,
            "overflow_y": null,
            "padding": null,
            "right": null,
            "top": null,
            "visibility": null,
            "width": null
          }
        },
        "232d9654ea964335bb3cc9c662706f07": {
          "model_module": "@jupyter-widgets/controls",
          "model_name": "DescriptionStyleModel",
          "model_module_version": "1.5.0",
          "state": {
            "_model_module": "@jupyter-widgets/controls",
            "_model_module_version": "1.5.0",
            "_model_name": "DescriptionStyleModel",
            "_view_count": null,
            "_view_module": "@jupyter-widgets/base",
            "_view_module_version": "1.2.0",
            "_view_name": "StyleView",
            "description_width": ""
          }
        },
        "9308522ee63b452da9c0282b66fc58fe": {
          "model_module": "@jupyter-widgets/base",
          "model_name": "LayoutModel",
          "model_module_version": "1.2.0",
          "state": {
            "_model_module": "@jupyter-widgets/base",
            "_model_module_version": "1.2.0",
            "_model_name": "LayoutModel",
            "_view_count": null,
            "_view_module": "@jupyter-widgets/base",
            "_view_module_version": "1.2.0",
            "_view_name": "LayoutView",
            "align_content": null,
            "align_items": null,
            "align_self": null,
            "border": null,
            "bottom": null,
            "display": null,
            "flex": null,
            "flex_flow": null,
            "grid_area": null,
            "grid_auto_columns": null,
            "grid_auto_flow": null,
            "grid_auto_rows": null,
            "grid_column": null,
            "grid_gap": null,
            "grid_row": null,
            "grid_template_areas": null,
            "grid_template_columns": null,
            "grid_template_rows": null,
            "height": null,
            "justify_content": null,
            "justify_items": null,
            "left": null,
            "margin": null,
            "max_height": null,
            "max_width": null,
            "min_height": null,
            "min_width": null,
            "object_fit": null,
            "object_position": null,
            "order": null,
            "overflow": null,
            "overflow_x": null,
            "overflow_y": null,
            "padding": null,
            "right": null,
            "top": null,
            "visibility": null,
            "width": null
          }
        },
        "47cfaaca84a24858bfb4d52b8230dcfa": {
          "model_module": "@jupyter-widgets/controls",
          "model_name": "ProgressStyleModel",
          "model_module_version": "1.5.0",
          "state": {
            "_model_module": "@jupyter-widgets/controls",
            "_model_module_version": "1.5.0",
            "_model_name": "ProgressStyleModel",
            "_view_count": null,
            "_view_module": "@jupyter-widgets/base",
            "_view_module_version": "1.2.0",
            "_view_name": "StyleView",
            "bar_color": null,
            "description_width": ""
          }
        },
        "da2d5ede4e17438080ff39411659c42a": {
          "model_module": "@jupyter-widgets/base",
          "model_name": "LayoutModel",
          "model_module_version": "1.2.0",
          "state": {
            "_model_module": "@jupyter-widgets/base",
            "_model_module_version": "1.2.0",
            "_model_name": "LayoutModel",
            "_view_count": null,
            "_view_module": "@jupyter-widgets/base",
            "_view_module_version": "1.2.0",
            "_view_name": "LayoutView",
            "align_content": null,
            "align_items": null,
            "align_self": null,
            "border": null,
            "bottom": null,
            "display": null,
            "flex": null,
            "flex_flow": null,
            "grid_area": null,
            "grid_auto_columns": null,
            "grid_auto_flow": null,
            "grid_auto_rows": null,
            "grid_column": null,
            "grid_gap": null,
            "grid_row": null,
            "grid_template_areas": null,
            "grid_template_columns": null,
            "grid_template_rows": null,
            "height": null,
            "justify_content": null,
            "justify_items": null,
            "left": null,
            "margin": null,
            "max_height": null,
            "max_width": null,
            "min_height": null,
            "min_width": null,
            "object_fit": null,
            "object_position": null,
            "order": null,
            "overflow": null,
            "overflow_x": null,
            "overflow_y": null,
            "padding": null,
            "right": null,
            "top": null,
            "visibility": null,
            "width": null
          }
        },
        "70ef393087de4fa9a0d0766070afb4f2": {
          "model_module": "@jupyter-widgets/controls",
          "model_name": "DescriptionStyleModel",
          "model_module_version": "1.5.0",
          "state": {
            "_model_module": "@jupyter-widgets/controls",
            "_model_module_version": "1.5.0",
            "_model_name": "DescriptionStyleModel",
            "_view_count": null,
            "_view_module": "@jupyter-widgets/base",
            "_view_module_version": "1.2.0",
            "_view_name": "StyleView",
            "description_width": ""
          }
        }
      }
    }
  },
  "cells": [
    {
      "cell_type": "markdown",
      "metadata": {
        "id": "view-in-github",
        "colab_type": "text"
      },
      "source": [
        "<a href=\"https://colab.research.google.com/github/wagnermoraesjr/Analise-de-Dados-sobre-Viagens/blob/main/Analise_de_Dados_-_Dados_sobre_Viagens_github.ipynb\" target=\"_parent\"><img src=\"https://colab.research.google.com/assets/colab-badge.svg\" alt=\"Open In Colab\"/></a>"
      ]
    },
    {
      "cell_type": "markdown",
      "source": [
        "# **Análise Exploratória de Dados - Dados sobre Viagens**"
      ],
      "metadata": {
        "id": "xsnUElqNNTsO"
      }
    },
    {
      "cell_type": "markdown",
      "source": [
        "![imagem_trip.jpg](https://raw.githubusercontent.com/wagnermoraesjr/Analise-de-Dados-sobre-Viagens/main/imagem_trip.jpg)"
      ],
      "metadata": {
        "id": "wBLOZW9YUfWS"
      }
    },
    {
      "cell_type": "markdown",
      "source": [
        "## **1. Objetivo**\n",
        "\n",
        "Fazer uma Análise Exploratória de Dados (EDA), em um Dataset escolhido por mim, com o objetivo de colocar em prática os estudos recentes de Python e bibliotecas Pandas e Matplotlib.\n",
        "\n",
        "Essa análise será feita atráves dos dados tabulados e plotados em gráficos, para responder as seguintes questões:<br><br>\n",
        "**Global**<br>\n",
        "1- Qual a primeira e última data de viagem registrada?<br>\n",
        "2- Qual o destino mais visitado?<br>\n",
        "3- Desse destino mais visitado, quais foram as nacionalidades que mais visitaram?<br>\n",
        "4- Qual a duração média das viagens?<br>\n",
        "5- Qual a duração de viagem mais comum?<br>\n",
        "6- Qual a média da idade dos viajantes?<br>\n",
        "7- Quem viaja mais, homens ou mulheres?<br>\n",
        "8- Qual o tipo de acomodação preferida?<br>\n",
        "9- Qual o meio de transporte preferido?<br>\n",
        "10- Qual é o custo médio com a viagem (considerando apenas acomodação e transporte)?<br>\n",
        "\n",
        "**Brasil**<br>\n",
        "11- Qual a porcentagem dos viajantes que visitaram o Brasil?<br>\n",
        "12- Quais as nacionalidades que mais visitaram o Brasil?<br>\n",
        "13- Qual é a duração mais comum dos visitantes do Brasil?<br>\n",
        "14- Qual a média de idade dos viajantes que visitaram o Brasil?<br>\n",
        "15- Qual o tipo de acomodação mais escolhido pelos visitantes do Brasil?<br>\n",
        "16- Qual o tipo de transporte mais escolhido pelos visitantes do Brasil?<br>\n",
        "17- Qual é o custo médio com a viagem ao Brasil (considerando apenas acomodação e transporte)?<br>"
      ],
      "metadata": {
        "id": "my0r8JtHU0z3"
      }
    },
    {
      "cell_type": "markdown",
      "source": [
        "## **2. Introdução**\n",
        "\n",
        "O Dataset utilizado para essa análise será o **[Traveler Trip Dataset](https://www.kaggle.com/datasets/rkiattisak/traveler-trip-data?resource=download)** disponível no Kaggle.<br><br>\n",
        "**Sobre o conjunto de dados:**<br>\n",
        "O conjunto de dados de viagem fornece informações detalhadas sobre várias viagens feitas pelos viajantes, incluindo seu destino, datas de viagem, duração da viagem em dias, dados demográficos do viajante (nome, idade, sexo e nacionalidade), bem como o tipo e custo da acomodação e transporte. Esse conjunto de dados pode ser usado para obter informações sobre padrões de viagem, preferências e comportamentos de diferentes tipos de viajantes. Também pode ser útil para empresas relacionadas a viagens, como agências de viagens, criar estratégias de marketing personalizadas e pacotes de viagens que atendam às necessidades e preferências de diferentes viajantes.<br><br>\n",
        "**Detalhes das Colunas:**<br>\n",
        "**Trip ID:** Um identificador exclusivo para cada viagem feita por um viajante.<br>\n",
        "**Destination:** O nome da cidade ou país visitado pelo viajante.<br>\n",
        "**Start date:** A data em que o viajante iniciou a viagem.<br>\n",
        "**End date:** A data em que o viajante terminou a viagem.<br>\n",
        "**Duration (days):** O número de dias que o viajante passou na viagem.<br>\n",
        "**Traveler name:** O nome do viajante.<br>\n",
        "**Traveler age:** A idade do viajante no momento da viagem.<br>\n",
        "**Traveler gender:** O sexo do viajante.<br>\n",
        "**Traveler nationality:** A nacionalidade do viajante.<br>\n",
        "**Accommodation type:** O tipo de acomodação em que o viajante se hospedou, como hotel, albergue ou Airbnb.<br>\n",
        "**Accommodation cost:** O custo do alojamento para toda a viagem (em USD).<br>\n",
        "**Transportation type:** O meio de transporte usado pelo viajante, como avião, trem ou carro.<br>\n",
        "**Transportation cost:** O custo do transporte para toda a viagem (em USD).<br>"
      ],
      "metadata": {
        "id": "8LuQLh7QWwzH"
      }
    },
    {
      "cell_type": "markdown",
      "source": [
        "## **3. Bibliotecas necessárias**\n",
        "\n",
        "Nesse projeto vou trabalhar com as seguintes bibliotecas:\n",
        "- **Pandas:** Para ajudar na manipulação da base da dados.\n",
        "- **Matplotlib:** Para plotagem de gráficos que irão nos auxiliar na análise.\n",
        "- **Numpy:** Ela torna mais fácil fazer cálculos matemáticos e manipular grandes conjuntos de dados."
      ],
      "metadata": {
        "id": "ViCXFgCfaZyh"
      }
    },
    {
      "cell_type": "code",
      "source": [
        "# Importando bibliotecas Pandas e Matplotlib.\n",
        "import pandas as pd\n",
        "import matplotlib.pyplot as plt\n",
        "import numpy as np\n",
        "%matplotlib inline"
      ],
      "metadata": {
        "id": "5s0u8COrP_p1"
      },
      "execution_count": 52,
      "outputs": []
    },
    {
      "cell_type": "markdown",
      "source": [
        "## **4. EDA - Exploratory Data Analysis (Análise Exploratória de Dados)**"
      ],
      "metadata": {
        "id": "00GsTarsar1r"
      }
    },
    {
      "cell_type": "markdown",
      "source": [
        "### **4.1 Leitura e informações do Dataset**"
      ],
      "metadata": {
        "id": "xlFHqWY8bEfp"
      }
    },
    {
      "cell_type": "code",
      "source": [
        "# Lendo o nosso dataset.\n",
        "df = pd.read_csv('https://raw.githubusercontent.com/wagnermoraesjr/Analise-de-Dados-sobre-Viagens/main/Travel_details_dataset.csv',sep=',')"
      ],
      "metadata": {
        "id": "2HvCZYpdajHm"
      },
      "execution_count": 53,
      "outputs": []
    },
    {
      "cell_type": "code",
      "source": [
        "# Mostrando as primeiras e últimas linhas do Dataset.\n",
        "display(df.head())\n",
        "display(df.tail())"
      ],
      "metadata": {
        "colab": {
          "base_uri": "https://localhost:8080/",
          "height": 684
        },
        "id": "Ai0ZcgCwb7CX",
        "outputId": "fe9fa4da-a2d8-4412-cfcf-4aa0a19fc2a5"
      },
      "execution_count": 54,
      "outputs": [
        {
          "output_type": "display_data",
          "data": {
            "text/plain": [
              "   Trip ID       Destination Start date   End date  Duration (days)  \\\n",
              "0        1        London, UK   5/1/2023   5/8/2023              7.0   \n",
              "1        2  Phuket, Thailand  6/15/2023  6/20/2023              5.0   \n",
              "2        3   Bali, Indonesia   7/1/2023   7/8/2023              7.0   \n",
              "3        4     New York, USA  8/15/2023  8/29/2023             14.0   \n",
              "4        5      Tokyo, Japan  9/10/2023  9/17/2023              7.0   \n",
              "\n",
              "   Traveler name  Traveler age Traveler gender Traveler nationality  \\\n",
              "0     John Smith          35.0            Male             American   \n",
              "1       Jane Doe          28.0          Female             Canadian   \n",
              "2      David Lee          45.0            Male               Korean   \n",
              "3  Sarah Johnson          29.0          Female              British   \n",
              "4     Kim Nguyen          26.0          Female           Vietnamese   \n",
              "\n",
              "  Accommodation type Accommodation cost Transportation type  \\\n",
              "0              Hotel               1200              Flight   \n",
              "1             Resort                800              Flight   \n",
              "2              Villa               1000              Flight   \n",
              "3              Hotel               2000              Flight   \n",
              "4             Airbnb                700               Train   \n",
              "\n",
              "  Transportation cost  \n",
              "0                 600  \n",
              "1                 500  \n",
              "2                 700  \n",
              "3                1000  \n",
              "4                 200  "
            ],
            "text/html": [
              "\n",
              "  <div id=\"df-6c33be97-e448-4f9a-8fc9-bab02f8ac8c9\">\n",
              "    <div class=\"colab-df-container\">\n",
              "      <div>\n",
              "<style scoped>\n",
              "    .dataframe tbody tr th:only-of-type {\n",
              "        vertical-align: middle;\n",
              "    }\n",
              "\n",
              "    .dataframe tbody tr th {\n",
              "        vertical-align: top;\n",
              "    }\n",
              "\n",
              "    .dataframe thead th {\n",
              "        text-align: right;\n",
              "    }\n",
              "</style>\n",
              "<table border=\"1\" class=\"dataframe\">\n",
              "  <thead>\n",
              "    <tr style=\"text-align: right;\">\n",
              "      <th></th>\n",
              "      <th>Trip ID</th>\n",
              "      <th>Destination</th>\n",
              "      <th>Start date</th>\n",
              "      <th>End date</th>\n",
              "      <th>Duration (days)</th>\n",
              "      <th>Traveler name</th>\n",
              "      <th>Traveler age</th>\n",
              "      <th>Traveler gender</th>\n",
              "      <th>Traveler nationality</th>\n",
              "      <th>Accommodation type</th>\n",
              "      <th>Accommodation cost</th>\n",
              "      <th>Transportation type</th>\n",
              "      <th>Transportation cost</th>\n",
              "    </tr>\n",
              "  </thead>\n",
              "  <tbody>\n",
              "    <tr>\n",
              "      <th>0</th>\n",
              "      <td>1</td>\n",
              "      <td>London, UK</td>\n",
              "      <td>5/1/2023</td>\n",
              "      <td>5/8/2023</td>\n",
              "      <td>7.0</td>\n",
              "      <td>John Smith</td>\n",
              "      <td>35.0</td>\n",
              "      <td>Male</td>\n",
              "      <td>American</td>\n",
              "      <td>Hotel</td>\n",
              "      <td>1200</td>\n",
              "      <td>Flight</td>\n",
              "      <td>600</td>\n",
              "    </tr>\n",
              "    <tr>\n",
              "      <th>1</th>\n",
              "      <td>2</td>\n",
              "      <td>Phuket, Thailand</td>\n",
              "      <td>6/15/2023</td>\n",
              "      <td>6/20/2023</td>\n",
              "      <td>5.0</td>\n",
              "      <td>Jane Doe</td>\n",
              "      <td>28.0</td>\n",
              "      <td>Female</td>\n",
              "      <td>Canadian</td>\n",
              "      <td>Resort</td>\n",
              "      <td>800</td>\n",
              "      <td>Flight</td>\n",
              "      <td>500</td>\n",
              "    </tr>\n",
              "    <tr>\n",
              "      <th>2</th>\n",
              "      <td>3</td>\n",
              "      <td>Bali, Indonesia</td>\n",
              "      <td>7/1/2023</td>\n",
              "      <td>7/8/2023</td>\n",
              "      <td>7.0</td>\n",
              "      <td>David Lee</td>\n",
              "      <td>45.0</td>\n",
              "      <td>Male</td>\n",
              "      <td>Korean</td>\n",
              "      <td>Villa</td>\n",
              "      <td>1000</td>\n",
              "      <td>Flight</td>\n",
              "      <td>700</td>\n",
              "    </tr>\n",
              "    <tr>\n",
              "      <th>3</th>\n",
              "      <td>4</td>\n",
              "      <td>New York, USA</td>\n",
              "      <td>8/15/2023</td>\n",
              "      <td>8/29/2023</td>\n",
              "      <td>14.0</td>\n",
              "      <td>Sarah Johnson</td>\n",
              "      <td>29.0</td>\n",
              "      <td>Female</td>\n",
              "      <td>British</td>\n",
              "      <td>Hotel</td>\n",
              "      <td>2000</td>\n",
              "      <td>Flight</td>\n",
              "      <td>1000</td>\n",
              "    </tr>\n",
              "    <tr>\n",
              "      <th>4</th>\n",
              "      <td>5</td>\n",
              "      <td>Tokyo, Japan</td>\n",
              "      <td>9/10/2023</td>\n",
              "      <td>9/17/2023</td>\n",
              "      <td>7.0</td>\n",
              "      <td>Kim Nguyen</td>\n",
              "      <td>26.0</td>\n",
              "      <td>Female</td>\n",
              "      <td>Vietnamese</td>\n",
              "      <td>Airbnb</td>\n",
              "      <td>700</td>\n",
              "      <td>Train</td>\n",
              "      <td>200</td>\n",
              "    </tr>\n",
              "  </tbody>\n",
              "</table>\n",
              "</div>\n",
              "      <button class=\"colab-df-convert\" onclick=\"convertToInteractive('df-6c33be97-e448-4f9a-8fc9-bab02f8ac8c9')\"\n",
              "              title=\"Convert this dataframe to an interactive table.\"\n",
              "              style=\"display:none;\">\n",
              "        \n",
              "  <svg xmlns=\"http://www.w3.org/2000/svg\" height=\"24px\"viewBox=\"0 0 24 24\"\n",
              "       width=\"24px\">\n",
              "    <path d=\"M0 0h24v24H0V0z\" fill=\"none\"/>\n",
              "    <path d=\"M18.56 5.44l.94 2.06.94-2.06 2.06-.94-2.06-.94-.94-2.06-.94 2.06-2.06.94zm-11 1L8.5 8.5l.94-2.06 2.06-.94-2.06-.94L8.5 2.5l-.94 2.06-2.06.94zm10 10l.94 2.06.94-2.06 2.06-.94-2.06-.94-.94-2.06-.94 2.06-2.06.94z\"/><path d=\"M17.41 7.96l-1.37-1.37c-.4-.4-.92-.59-1.43-.59-.52 0-1.04.2-1.43.59L10.3 9.45l-7.72 7.72c-.78.78-.78 2.05 0 2.83L4 21.41c.39.39.9.59 1.41.59.51 0 1.02-.2 1.41-.59l7.78-7.78 2.81-2.81c.8-.78.8-2.07 0-2.86zM5.41 20L4 18.59l7.72-7.72 1.47 1.35L5.41 20z\"/>\n",
              "  </svg>\n",
              "      </button>\n",
              "      \n",
              "  <style>\n",
              "    .colab-df-container {\n",
              "      display:flex;\n",
              "      flex-wrap:wrap;\n",
              "      gap: 12px;\n",
              "    }\n",
              "\n",
              "    .colab-df-convert {\n",
              "      background-color: #E8F0FE;\n",
              "      border: none;\n",
              "      border-radius: 50%;\n",
              "      cursor: pointer;\n",
              "      display: none;\n",
              "      fill: #1967D2;\n",
              "      height: 32px;\n",
              "      padding: 0 0 0 0;\n",
              "      width: 32px;\n",
              "    }\n",
              "\n",
              "    .colab-df-convert:hover {\n",
              "      background-color: #E2EBFA;\n",
              "      box-shadow: 0px 1px 2px rgba(60, 64, 67, 0.3), 0px 1px 3px 1px rgba(60, 64, 67, 0.15);\n",
              "      fill: #174EA6;\n",
              "    }\n",
              "\n",
              "    [theme=dark] .colab-df-convert {\n",
              "      background-color: #3B4455;\n",
              "      fill: #D2E3FC;\n",
              "    }\n",
              "\n",
              "    [theme=dark] .colab-df-convert:hover {\n",
              "      background-color: #434B5C;\n",
              "      box-shadow: 0px 1px 3px 1px rgba(0, 0, 0, 0.15);\n",
              "      filter: drop-shadow(0px 1px 2px rgba(0, 0, 0, 0.3));\n",
              "      fill: #FFFFFF;\n",
              "    }\n",
              "  </style>\n",
              "\n",
              "      <script>\n",
              "        const buttonEl =\n",
              "          document.querySelector('#df-6c33be97-e448-4f9a-8fc9-bab02f8ac8c9 button.colab-df-convert');\n",
              "        buttonEl.style.display =\n",
              "          google.colab.kernel.accessAllowed ? 'block' : 'none';\n",
              "\n",
              "        async function convertToInteractive(key) {\n",
              "          const element = document.querySelector('#df-6c33be97-e448-4f9a-8fc9-bab02f8ac8c9');\n",
              "          const dataTable =\n",
              "            await google.colab.kernel.invokeFunction('convertToInteractive',\n",
              "                                                     [key], {});\n",
              "          if (!dataTable) return;\n",
              "\n",
              "          const docLinkHtml = 'Like what you see? Visit the ' +\n",
              "            '<a target=\"_blank\" href=https://colab.research.google.com/notebooks/data_table.ipynb>data table notebook</a>'\n",
              "            + ' to learn more about interactive tables.';\n",
              "          element.innerHTML = '';\n",
              "          dataTable['output_type'] = 'display_data';\n",
              "          await google.colab.output.renderOutput(dataTable, element);\n",
              "          const docLink = document.createElement('div');\n",
              "          docLink.innerHTML = docLinkHtml;\n",
              "          element.appendChild(docLink);\n",
              "        }\n",
              "      </script>\n",
              "    </div>\n",
              "  </div>\n",
              "  "
            ]
          },
          "metadata": {}
        },
        {
          "output_type": "display_data",
          "data": {
            "text/plain": [
              "     Trip ID             Destination Start date   End date  Duration (days)  \\\n",
              "134      135  Rio de Janeiro, Brazil   8/1/2023  8/10/2023              9.0   \n",
              "135      136       Vancouver, Canada  8/15/2023  8/21/2023              6.0   \n",
              "136      137       Bangkok, Thailand   9/1/2023   9/8/2023              7.0   \n",
              "137      138        Barcelona, Spain  9/15/2023  9/22/2023              7.0   \n",
              "138      139   Auckland, New Zealand  10/1/2023  10/8/2023              7.0   \n",
              "\n",
              "       Traveler name  Traveler age Traveler gender Traveler nationality  \\\n",
              "134       Jose Perez          37.0            Male            Brazilian   \n",
              "135      Emma Wilson          29.0          Female             Canadian   \n",
              "136        Ryan Chen          34.0            Male              Chinese   \n",
              "137  Sofia Rodriguez          25.0          Female              Spanish   \n",
              "138    William Brown          39.0            Male        New Zealander   \n",
              "\n",
              "    Accommodation type Accommodation cost Transportation type  \\\n",
              "134             Hostel               2500                 Car   \n",
              "135              Hotel               5000            Airplane   \n",
              "136             Hostel               2000               Train   \n",
              "137             Airbnb               6000            Airplane   \n",
              "138              Hotel               7000               Train   \n",
              "\n",
              "    Transportation cost  \n",
              "134                2000  \n",
              "135                3000  \n",
              "136                1000  \n",
              "137                2500  \n",
              "138                2500  "
            ],
            "text/html": [
              "\n",
              "  <div id=\"df-c9ac3e0a-ee09-401a-9121-09c6912c4e6f\">\n",
              "    <div class=\"colab-df-container\">\n",
              "      <div>\n",
              "<style scoped>\n",
              "    .dataframe tbody tr th:only-of-type {\n",
              "        vertical-align: middle;\n",
              "    }\n",
              "\n",
              "    .dataframe tbody tr th {\n",
              "        vertical-align: top;\n",
              "    }\n",
              "\n",
              "    .dataframe thead th {\n",
              "        text-align: right;\n",
              "    }\n",
              "</style>\n",
              "<table border=\"1\" class=\"dataframe\">\n",
              "  <thead>\n",
              "    <tr style=\"text-align: right;\">\n",
              "      <th></th>\n",
              "      <th>Trip ID</th>\n",
              "      <th>Destination</th>\n",
              "      <th>Start date</th>\n",
              "      <th>End date</th>\n",
              "      <th>Duration (days)</th>\n",
              "      <th>Traveler name</th>\n",
              "      <th>Traveler age</th>\n",
              "      <th>Traveler gender</th>\n",
              "      <th>Traveler nationality</th>\n",
              "      <th>Accommodation type</th>\n",
              "      <th>Accommodation cost</th>\n",
              "      <th>Transportation type</th>\n",
              "      <th>Transportation cost</th>\n",
              "    </tr>\n",
              "  </thead>\n",
              "  <tbody>\n",
              "    <tr>\n",
              "      <th>134</th>\n",
              "      <td>135</td>\n",
              "      <td>Rio de Janeiro, Brazil</td>\n",
              "      <td>8/1/2023</td>\n",
              "      <td>8/10/2023</td>\n",
              "      <td>9.0</td>\n",
              "      <td>Jose Perez</td>\n",
              "      <td>37.0</td>\n",
              "      <td>Male</td>\n",
              "      <td>Brazilian</td>\n",
              "      <td>Hostel</td>\n",
              "      <td>2500</td>\n",
              "      <td>Car</td>\n",
              "      <td>2000</td>\n",
              "    </tr>\n",
              "    <tr>\n",
              "      <th>135</th>\n",
              "      <td>136</td>\n",
              "      <td>Vancouver, Canada</td>\n",
              "      <td>8/15/2023</td>\n",
              "      <td>8/21/2023</td>\n",
              "      <td>6.0</td>\n",
              "      <td>Emma Wilson</td>\n",
              "      <td>29.0</td>\n",
              "      <td>Female</td>\n",
              "      <td>Canadian</td>\n",
              "      <td>Hotel</td>\n",
              "      <td>5000</td>\n",
              "      <td>Airplane</td>\n",
              "      <td>3000</td>\n",
              "    </tr>\n",
              "    <tr>\n",
              "      <th>136</th>\n",
              "      <td>137</td>\n",
              "      <td>Bangkok, Thailand</td>\n",
              "      <td>9/1/2023</td>\n",
              "      <td>9/8/2023</td>\n",
              "      <td>7.0</td>\n",
              "      <td>Ryan Chen</td>\n",
              "      <td>34.0</td>\n",
              "      <td>Male</td>\n",
              "      <td>Chinese</td>\n",
              "      <td>Hostel</td>\n",
              "      <td>2000</td>\n",
              "      <td>Train</td>\n",
              "      <td>1000</td>\n",
              "    </tr>\n",
              "    <tr>\n",
              "      <th>137</th>\n",
              "      <td>138</td>\n",
              "      <td>Barcelona, Spain</td>\n",
              "      <td>9/15/2023</td>\n",
              "      <td>9/22/2023</td>\n",
              "      <td>7.0</td>\n",
              "      <td>Sofia Rodriguez</td>\n",
              "      <td>25.0</td>\n",
              "      <td>Female</td>\n",
              "      <td>Spanish</td>\n",
              "      <td>Airbnb</td>\n",
              "      <td>6000</td>\n",
              "      <td>Airplane</td>\n",
              "      <td>2500</td>\n",
              "    </tr>\n",
              "    <tr>\n",
              "      <th>138</th>\n",
              "      <td>139</td>\n",
              "      <td>Auckland, New Zealand</td>\n",
              "      <td>10/1/2023</td>\n",
              "      <td>10/8/2023</td>\n",
              "      <td>7.0</td>\n",
              "      <td>William Brown</td>\n",
              "      <td>39.0</td>\n",
              "      <td>Male</td>\n",
              "      <td>New Zealander</td>\n",
              "      <td>Hotel</td>\n",
              "      <td>7000</td>\n",
              "      <td>Train</td>\n",
              "      <td>2500</td>\n",
              "    </tr>\n",
              "  </tbody>\n",
              "</table>\n",
              "</div>\n",
              "      <button class=\"colab-df-convert\" onclick=\"convertToInteractive('df-c9ac3e0a-ee09-401a-9121-09c6912c4e6f')\"\n",
              "              title=\"Convert this dataframe to an interactive table.\"\n",
              "              style=\"display:none;\">\n",
              "        \n",
              "  <svg xmlns=\"http://www.w3.org/2000/svg\" height=\"24px\"viewBox=\"0 0 24 24\"\n",
              "       width=\"24px\">\n",
              "    <path d=\"M0 0h24v24H0V0z\" fill=\"none\"/>\n",
              "    <path d=\"M18.56 5.44l.94 2.06.94-2.06 2.06-.94-2.06-.94-.94-2.06-.94 2.06-2.06.94zm-11 1L8.5 8.5l.94-2.06 2.06-.94-2.06-.94L8.5 2.5l-.94 2.06-2.06.94zm10 10l.94 2.06.94-2.06 2.06-.94-2.06-.94-.94-2.06-.94 2.06-2.06.94z\"/><path d=\"M17.41 7.96l-1.37-1.37c-.4-.4-.92-.59-1.43-.59-.52 0-1.04.2-1.43.59L10.3 9.45l-7.72 7.72c-.78.78-.78 2.05 0 2.83L4 21.41c.39.39.9.59 1.41.59.51 0 1.02-.2 1.41-.59l7.78-7.78 2.81-2.81c.8-.78.8-2.07 0-2.86zM5.41 20L4 18.59l7.72-7.72 1.47 1.35L5.41 20z\"/>\n",
              "  </svg>\n",
              "      </button>\n",
              "      \n",
              "  <style>\n",
              "    .colab-df-container {\n",
              "      display:flex;\n",
              "      flex-wrap:wrap;\n",
              "      gap: 12px;\n",
              "    }\n",
              "\n",
              "    .colab-df-convert {\n",
              "      background-color: #E8F0FE;\n",
              "      border: none;\n",
              "      border-radius: 50%;\n",
              "      cursor: pointer;\n",
              "      display: none;\n",
              "      fill: #1967D2;\n",
              "      height: 32px;\n",
              "      padding: 0 0 0 0;\n",
              "      width: 32px;\n",
              "    }\n",
              "\n",
              "    .colab-df-convert:hover {\n",
              "      background-color: #E2EBFA;\n",
              "      box-shadow: 0px 1px 2px rgba(60, 64, 67, 0.3), 0px 1px 3px 1px rgba(60, 64, 67, 0.15);\n",
              "      fill: #174EA6;\n",
              "    }\n",
              "\n",
              "    [theme=dark] .colab-df-convert {\n",
              "      background-color: #3B4455;\n",
              "      fill: #D2E3FC;\n",
              "    }\n",
              "\n",
              "    [theme=dark] .colab-df-convert:hover {\n",
              "      background-color: #434B5C;\n",
              "      box-shadow: 0px 1px 3px 1px rgba(0, 0, 0, 0.15);\n",
              "      filter: drop-shadow(0px 1px 2px rgba(0, 0, 0, 0.3));\n",
              "      fill: #FFFFFF;\n",
              "    }\n",
              "  </style>\n",
              "\n",
              "      <script>\n",
              "        const buttonEl =\n",
              "          document.querySelector('#df-c9ac3e0a-ee09-401a-9121-09c6912c4e6f button.colab-df-convert');\n",
              "        buttonEl.style.display =\n",
              "          google.colab.kernel.accessAllowed ? 'block' : 'none';\n",
              "\n",
              "        async function convertToInteractive(key) {\n",
              "          const element = document.querySelector('#df-c9ac3e0a-ee09-401a-9121-09c6912c4e6f');\n",
              "          const dataTable =\n",
              "            await google.colab.kernel.invokeFunction('convertToInteractive',\n",
              "                                                     [key], {});\n",
              "          if (!dataTable) return;\n",
              "\n",
              "          const docLinkHtml = 'Like what you see? Visit the ' +\n",
              "            '<a target=\"_blank\" href=https://colab.research.google.com/notebooks/data_table.ipynb>data table notebook</a>'\n",
              "            + ' to learn more about interactive tables.';\n",
              "          element.innerHTML = '';\n",
              "          dataTable['output_type'] = 'display_data';\n",
              "          await google.colab.output.renderOutput(dataTable, element);\n",
              "          const docLink = document.createElement('div');\n",
              "          docLink.innerHTML = docLinkHtml;\n",
              "          element.appendChild(docLink);\n",
              "        }\n",
              "      </script>\n",
              "    </div>\n",
              "  </div>\n",
              "  "
            ]
          },
          "metadata": {}
        }
      ]
    },
    {
      "cell_type": "code",
      "source": [
        "# Mostrando quantidade de linhas e colunas do Dataset.\n",
        "df.shape"
      ],
      "metadata": {
        "colab": {
          "base_uri": "https://localhost:8080/"
        },
        "id": "RMIC2wrRdC6R",
        "outputId": "0eb22b4f-2076-4b2c-be07-5518a161ad10"
      },
      "execution_count": 55,
      "outputs": [
        {
          "output_type": "execute_result",
          "data": {
            "text/plain": [
              "(139, 13)"
            ]
          },
          "metadata": {},
          "execution_count": 55
        }
      ]
    },
    {
      "cell_type": "code",
      "source": [
        "# Mostrando informações sobre as variáveis do Dataset.\n",
        "df.info()"
      ],
      "metadata": {
        "colab": {
          "base_uri": "https://localhost:8080/"
        },
        "id": "C906a-JSfZZC",
        "outputId": "4760d201-7dba-4dac-87a3-71331e2ce152"
      },
      "execution_count": 56,
      "outputs": [
        {
          "output_type": "stream",
          "name": "stdout",
          "text": [
            "<class 'pandas.core.frame.DataFrame'>\n",
            "RangeIndex: 139 entries, 0 to 138\n",
            "Data columns (total 13 columns):\n",
            " #   Column                Non-Null Count  Dtype  \n",
            "---  ------                --------------  -----  \n",
            " 0   Trip ID               139 non-null    int64  \n",
            " 1   Destination           137 non-null    object \n",
            " 2   Start date            137 non-null    object \n",
            " 3   End date              137 non-null    object \n",
            " 4   Duration (days)       137 non-null    float64\n",
            " 5   Traveler name         137 non-null    object \n",
            " 6   Traveler age          137 non-null    float64\n",
            " 7   Traveler gender       137 non-null    object \n",
            " 8   Traveler nationality  137 non-null    object \n",
            " 9   Accommodation type    137 non-null    object \n",
            " 10  Accommodation cost    137 non-null    object \n",
            " 11  Transportation type   136 non-null    object \n",
            " 12  Transportation cost   136 non-null    object \n",
            "dtypes: float64(2), int64(1), object(10)\n",
            "memory usage: 14.2+ KB\n"
          ]
        }
      ]
    },
    {
      "cell_type": "markdown",
      "source": [
        "### **4.2 Limpeza e Transformação do Dataset**"
      ],
      "metadata": {
        "id": "VkGyBw40gd6K"
      }
    },
    {
      "cell_type": "code",
      "source": [
        "# Removendo coluna de nome do viajante, desnecessária para essa análise.\n",
        "df = df.drop(columns='Traveler name')\n",
        "df"
      ],
      "metadata": {
        "colab": {
          "base_uri": "https://localhost:8080/",
          "height": 661
        },
        "id": "m8oWVJw_hrDH",
        "outputId": "a69e6a80-3c2f-43c3-9208-b652a6401382"
      },
      "execution_count": 57,
      "outputs": [
        {
          "output_type": "execute_result",
          "data": {
            "text/plain": [
              "     Trip ID             Destination Start date   End date  Duration (days)  \\\n",
              "0          1              London, UK   5/1/2023   5/8/2023              7.0   \n",
              "1          2        Phuket, Thailand  6/15/2023  6/20/2023              5.0   \n",
              "2          3         Bali, Indonesia   7/1/2023   7/8/2023              7.0   \n",
              "3          4           New York, USA  8/15/2023  8/29/2023             14.0   \n",
              "4          5            Tokyo, Japan  9/10/2023  9/17/2023              7.0   \n",
              "..       ...                     ...        ...        ...              ...   \n",
              "134      135  Rio de Janeiro, Brazil   8/1/2023  8/10/2023              9.0   \n",
              "135      136       Vancouver, Canada  8/15/2023  8/21/2023              6.0   \n",
              "136      137       Bangkok, Thailand   9/1/2023   9/8/2023              7.0   \n",
              "137      138        Barcelona, Spain  9/15/2023  9/22/2023              7.0   \n",
              "138      139   Auckland, New Zealand  10/1/2023  10/8/2023              7.0   \n",
              "\n",
              "     Traveler age Traveler gender Traveler nationality Accommodation type  \\\n",
              "0            35.0            Male             American              Hotel   \n",
              "1            28.0          Female             Canadian             Resort   \n",
              "2            45.0            Male               Korean              Villa   \n",
              "3            29.0          Female              British              Hotel   \n",
              "4            26.0          Female           Vietnamese             Airbnb   \n",
              "..            ...             ...                  ...                ...   \n",
              "134          37.0            Male            Brazilian             Hostel   \n",
              "135          29.0          Female             Canadian              Hotel   \n",
              "136          34.0            Male              Chinese             Hostel   \n",
              "137          25.0          Female              Spanish             Airbnb   \n",
              "138          39.0            Male        New Zealander              Hotel   \n",
              "\n",
              "    Accommodation cost Transportation type Transportation cost  \n",
              "0                 1200              Flight                 600  \n",
              "1                  800              Flight                 500  \n",
              "2                 1000              Flight                 700  \n",
              "3                 2000              Flight                1000  \n",
              "4                  700               Train                 200  \n",
              "..                 ...                 ...                 ...  \n",
              "134               2500                 Car                2000  \n",
              "135               5000            Airplane                3000  \n",
              "136               2000               Train                1000  \n",
              "137               6000            Airplane                2500  \n",
              "138               7000               Train                2500  \n",
              "\n",
              "[139 rows x 12 columns]"
            ],
            "text/html": [
              "\n",
              "  <div id=\"df-68ae4630-36b7-478b-98f4-075999d9cf5c\">\n",
              "    <div class=\"colab-df-container\">\n",
              "      <div>\n",
              "<style scoped>\n",
              "    .dataframe tbody tr th:only-of-type {\n",
              "        vertical-align: middle;\n",
              "    }\n",
              "\n",
              "    .dataframe tbody tr th {\n",
              "        vertical-align: top;\n",
              "    }\n",
              "\n",
              "    .dataframe thead th {\n",
              "        text-align: right;\n",
              "    }\n",
              "</style>\n",
              "<table border=\"1\" class=\"dataframe\">\n",
              "  <thead>\n",
              "    <tr style=\"text-align: right;\">\n",
              "      <th></th>\n",
              "      <th>Trip ID</th>\n",
              "      <th>Destination</th>\n",
              "      <th>Start date</th>\n",
              "      <th>End date</th>\n",
              "      <th>Duration (days)</th>\n",
              "      <th>Traveler age</th>\n",
              "      <th>Traveler gender</th>\n",
              "      <th>Traveler nationality</th>\n",
              "      <th>Accommodation type</th>\n",
              "      <th>Accommodation cost</th>\n",
              "      <th>Transportation type</th>\n",
              "      <th>Transportation cost</th>\n",
              "    </tr>\n",
              "  </thead>\n",
              "  <tbody>\n",
              "    <tr>\n",
              "      <th>0</th>\n",
              "      <td>1</td>\n",
              "      <td>London, UK</td>\n",
              "      <td>5/1/2023</td>\n",
              "      <td>5/8/2023</td>\n",
              "      <td>7.0</td>\n",
              "      <td>35.0</td>\n",
              "      <td>Male</td>\n",
              "      <td>American</td>\n",
              "      <td>Hotel</td>\n",
              "      <td>1200</td>\n",
              "      <td>Flight</td>\n",
              "      <td>600</td>\n",
              "    </tr>\n",
              "    <tr>\n",
              "      <th>1</th>\n",
              "      <td>2</td>\n",
              "      <td>Phuket, Thailand</td>\n",
              "      <td>6/15/2023</td>\n",
              "      <td>6/20/2023</td>\n",
              "      <td>5.0</td>\n",
              "      <td>28.0</td>\n",
              "      <td>Female</td>\n",
              "      <td>Canadian</td>\n",
              "      <td>Resort</td>\n",
              "      <td>800</td>\n",
              "      <td>Flight</td>\n",
              "      <td>500</td>\n",
              "    </tr>\n",
              "    <tr>\n",
              "      <th>2</th>\n",
              "      <td>3</td>\n",
              "      <td>Bali, Indonesia</td>\n",
              "      <td>7/1/2023</td>\n",
              "      <td>7/8/2023</td>\n",
              "      <td>7.0</td>\n",
              "      <td>45.0</td>\n",
              "      <td>Male</td>\n",
              "      <td>Korean</td>\n",
              "      <td>Villa</td>\n",
              "      <td>1000</td>\n",
              "      <td>Flight</td>\n",
              "      <td>700</td>\n",
              "    </tr>\n",
              "    <tr>\n",
              "      <th>3</th>\n",
              "      <td>4</td>\n",
              "      <td>New York, USA</td>\n",
              "      <td>8/15/2023</td>\n",
              "      <td>8/29/2023</td>\n",
              "      <td>14.0</td>\n",
              "      <td>29.0</td>\n",
              "      <td>Female</td>\n",
              "      <td>British</td>\n",
              "      <td>Hotel</td>\n",
              "      <td>2000</td>\n",
              "      <td>Flight</td>\n",
              "      <td>1000</td>\n",
              "    </tr>\n",
              "    <tr>\n",
              "      <th>4</th>\n",
              "      <td>5</td>\n",
              "      <td>Tokyo, Japan</td>\n",
              "      <td>9/10/2023</td>\n",
              "      <td>9/17/2023</td>\n",
              "      <td>7.0</td>\n",
              "      <td>26.0</td>\n",
              "      <td>Female</td>\n",
              "      <td>Vietnamese</td>\n",
              "      <td>Airbnb</td>\n",
              "      <td>700</td>\n",
              "      <td>Train</td>\n",
              "      <td>200</td>\n",
              "    </tr>\n",
              "    <tr>\n",
              "      <th>...</th>\n",
              "      <td>...</td>\n",
              "      <td>...</td>\n",
              "      <td>...</td>\n",
              "      <td>...</td>\n",
              "      <td>...</td>\n",
              "      <td>...</td>\n",
              "      <td>...</td>\n",
              "      <td>...</td>\n",
              "      <td>...</td>\n",
              "      <td>...</td>\n",
              "      <td>...</td>\n",
              "      <td>...</td>\n",
              "    </tr>\n",
              "    <tr>\n",
              "      <th>134</th>\n",
              "      <td>135</td>\n",
              "      <td>Rio de Janeiro, Brazil</td>\n",
              "      <td>8/1/2023</td>\n",
              "      <td>8/10/2023</td>\n",
              "      <td>9.0</td>\n",
              "      <td>37.0</td>\n",
              "      <td>Male</td>\n",
              "      <td>Brazilian</td>\n",
              "      <td>Hostel</td>\n",
              "      <td>2500</td>\n",
              "      <td>Car</td>\n",
              "      <td>2000</td>\n",
              "    </tr>\n",
              "    <tr>\n",
              "      <th>135</th>\n",
              "      <td>136</td>\n",
              "      <td>Vancouver, Canada</td>\n",
              "      <td>8/15/2023</td>\n",
              "      <td>8/21/2023</td>\n",
              "      <td>6.0</td>\n",
              "      <td>29.0</td>\n",
              "      <td>Female</td>\n",
              "      <td>Canadian</td>\n",
              "      <td>Hotel</td>\n",
              "      <td>5000</td>\n",
              "      <td>Airplane</td>\n",
              "      <td>3000</td>\n",
              "    </tr>\n",
              "    <tr>\n",
              "      <th>136</th>\n",
              "      <td>137</td>\n",
              "      <td>Bangkok, Thailand</td>\n",
              "      <td>9/1/2023</td>\n",
              "      <td>9/8/2023</td>\n",
              "      <td>7.0</td>\n",
              "      <td>34.0</td>\n",
              "      <td>Male</td>\n",
              "      <td>Chinese</td>\n",
              "      <td>Hostel</td>\n",
              "      <td>2000</td>\n",
              "      <td>Train</td>\n",
              "      <td>1000</td>\n",
              "    </tr>\n",
              "    <tr>\n",
              "      <th>137</th>\n",
              "      <td>138</td>\n",
              "      <td>Barcelona, Spain</td>\n",
              "      <td>9/15/2023</td>\n",
              "      <td>9/22/2023</td>\n",
              "      <td>7.0</td>\n",
              "      <td>25.0</td>\n",
              "      <td>Female</td>\n",
              "      <td>Spanish</td>\n",
              "      <td>Airbnb</td>\n",
              "      <td>6000</td>\n",
              "      <td>Airplane</td>\n",
              "      <td>2500</td>\n",
              "    </tr>\n",
              "    <tr>\n",
              "      <th>138</th>\n",
              "      <td>139</td>\n",
              "      <td>Auckland, New Zealand</td>\n",
              "      <td>10/1/2023</td>\n",
              "      <td>10/8/2023</td>\n",
              "      <td>7.0</td>\n",
              "      <td>39.0</td>\n",
              "      <td>Male</td>\n",
              "      <td>New Zealander</td>\n",
              "      <td>Hotel</td>\n",
              "      <td>7000</td>\n",
              "      <td>Train</td>\n",
              "      <td>2500</td>\n",
              "    </tr>\n",
              "  </tbody>\n",
              "</table>\n",
              "<p>139 rows × 12 columns</p>\n",
              "</div>\n",
              "      <button class=\"colab-df-convert\" onclick=\"convertToInteractive('df-68ae4630-36b7-478b-98f4-075999d9cf5c')\"\n",
              "              title=\"Convert this dataframe to an interactive table.\"\n",
              "              style=\"display:none;\">\n",
              "        \n",
              "  <svg xmlns=\"http://www.w3.org/2000/svg\" height=\"24px\"viewBox=\"0 0 24 24\"\n",
              "       width=\"24px\">\n",
              "    <path d=\"M0 0h24v24H0V0z\" fill=\"none\"/>\n",
              "    <path d=\"M18.56 5.44l.94 2.06.94-2.06 2.06-.94-2.06-.94-.94-2.06-.94 2.06-2.06.94zm-11 1L8.5 8.5l.94-2.06 2.06-.94-2.06-.94L8.5 2.5l-.94 2.06-2.06.94zm10 10l.94 2.06.94-2.06 2.06-.94-2.06-.94-.94-2.06-.94 2.06-2.06.94z\"/><path d=\"M17.41 7.96l-1.37-1.37c-.4-.4-.92-.59-1.43-.59-.52 0-1.04.2-1.43.59L10.3 9.45l-7.72 7.72c-.78.78-.78 2.05 0 2.83L4 21.41c.39.39.9.59 1.41.59.51 0 1.02-.2 1.41-.59l7.78-7.78 2.81-2.81c.8-.78.8-2.07 0-2.86zM5.41 20L4 18.59l7.72-7.72 1.47 1.35L5.41 20z\"/>\n",
              "  </svg>\n",
              "      </button>\n",
              "      \n",
              "  <style>\n",
              "    .colab-df-container {\n",
              "      display:flex;\n",
              "      flex-wrap:wrap;\n",
              "      gap: 12px;\n",
              "    }\n",
              "\n",
              "    .colab-df-convert {\n",
              "      background-color: #E8F0FE;\n",
              "      border: none;\n",
              "      border-radius: 50%;\n",
              "      cursor: pointer;\n",
              "      display: none;\n",
              "      fill: #1967D2;\n",
              "      height: 32px;\n",
              "      padding: 0 0 0 0;\n",
              "      width: 32px;\n",
              "    }\n",
              "\n",
              "    .colab-df-convert:hover {\n",
              "      background-color: #E2EBFA;\n",
              "      box-shadow: 0px 1px 2px rgba(60, 64, 67, 0.3), 0px 1px 3px 1px rgba(60, 64, 67, 0.15);\n",
              "      fill: #174EA6;\n",
              "    }\n",
              "\n",
              "    [theme=dark] .colab-df-convert {\n",
              "      background-color: #3B4455;\n",
              "      fill: #D2E3FC;\n",
              "    }\n",
              "\n",
              "    [theme=dark] .colab-df-convert:hover {\n",
              "      background-color: #434B5C;\n",
              "      box-shadow: 0px 1px 3px 1px rgba(0, 0, 0, 0.15);\n",
              "      filter: drop-shadow(0px 1px 2px rgba(0, 0, 0, 0.3));\n",
              "      fill: #FFFFFF;\n",
              "    }\n",
              "  </style>\n",
              "\n",
              "      <script>\n",
              "        const buttonEl =\n",
              "          document.querySelector('#df-68ae4630-36b7-478b-98f4-075999d9cf5c button.colab-df-convert');\n",
              "        buttonEl.style.display =\n",
              "          google.colab.kernel.accessAllowed ? 'block' : 'none';\n",
              "\n",
              "        async function convertToInteractive(key) {\n",
              "          const element = document.querySelector('#df-68ae4630-36b7-478b-98f4-075999d9cf5c');\n",
              "          const dataTable =\n",
              "            await google.colab.kernel.invokeFunction('convertToInteractive',\n",
              "                                                     [key], {});\n",
              "          if (!dataTable) return;\n",
              "\n",
              "          const docLinkHtml = 'Like what you see? Visit the ' +\n",
              "            '<a target=\"_blank\" href=https://colab.research.google.com/notebooks/data_table.ipynb>data table notebook</a>'\n",
              "            + ' to learn more about interactive tables.';\n",
              "          element.innerHTML = '';\n",
              "          dataTable['output_type'] = 'display_data';\n",
              "          await google.colab.output.renderOutput(dataTable, element);\n",
              "          const docLink = document.createElement('div');\n",
              "          docLink.innerHTML = docLinkHtml;\n",
              "          element.appendChild(docLink);\n",
              "        }\n",
              "      </script>\n",
              "    </div>\n",
              "  </div>\n",
              "  "
            ]
          },
          "metadata": {},
          "execution_count": 57
        }
      ]
    },
    {
      "cell_type": "code",
      "source": [
        "# Renomeando colunas para o português, para facilitar o entendimento das mesmas.\n",
        "df = df.rename(columns={'Trip ID':'ID da viagem',\n",
        "                   'Destination':'Destino',\n",
        "                   'Start date':'Começo da viagem',\n",
        "                   'End date':'Fim da viagem',\n",
        "                   'Duration (days)':'Duração (dias)',\n",
        "                   'Traveler age':'Idade do viajante',\n",
        "                   'Traveler gender':'Sexo do viajante',\n",
        "                   'Traveler nationality':'Nacionalidade do viajante',\n",
        "                   'Accommodation type':'Tipo de acomodação',\n",
        "                   'Accommodation cost':'Custo da acomodação',\n",
        "                   'Transportation type':'Tipo de transporte',\n",
        "                   'Transportation cost':'Custo do transporte'})\n",
        "df"
      ],
      "metadata": {
        "colab": {
          "base_uri": "https://localhost:8080/",
          "height": 730
        },
        "id": "VqDM00hXfoa9",
        "outputId": "4ddafc00-53f2-4829-f043-f8f172fb3e31"
      },
      "execution_count": 58,
      "outputs": [
        {
          "output_type": "execute_result",
          "data": {
            "text/plain": [
              "     ID da viagem                 Destino Começo da viagem Fim da viagem  \\\n",
              "0               1              London, UK         5/1/2023      5/8/2023   \n",
              "1               2        Phuket, Thailand        6/15/2023     6/20/2023   \n",
              "2               3         Bali, Indonesia         7/1/2023      7/8/2023   \n",
              "3               4           New York, USA        8/15/2023     8/29/2023   \n",
              "4               5            Tokyo, Japan        9/10/2023     9/17/2023   \n",
              "..            ...                     ...              ...           ...   \n",
              "134           135  Rio de Janeiro, Brazil         8/1/2023     8/10/2023   \n",
              "135           136       Vancouver, Canada        8/15/2023     8/21/2023   \n",
              "136           137       Bangkok, Thailand         9/1/2023      9/8/2023   \n",
              "137           138        Barcelona, Spain        9/15/2023     9/22/2023   \n",
              "138           139   Auckland, New Zealand        10/1/2023     10/8/2023   \n",
              "\n",
              "     Duração (dias)  Idade do viajante Sexo do viajante  \\\n",
              "0               7.0               35.0             Male   \n",
              "1               5.0               28.0           Female   \n",
              "2               7.0               45.0             Male   \n",
              "3              14.0               29.0           Female   \n",
              "4               7.0               26.0           Female   \n",
              "..              ...                ...              ...   \n",
              "134             9.0               37.0             Male   \n",
              "135             6.0               29.0           Female   \n",
              "136             7.0               34.0             Male   \n",
              "137             7.0               25.0           Female   \n",
              "138             7.0               39.0             Male   \n",
              "\n",
              "    Nacionalidade do viajante Tipo de acomodação Custo da acomodação  \\\n",
              "0                    American              Hotel                1200   \n",
              "1                    Canadian             Resort                 800   \n",
              "2                      Korean              Villa                1000   \n",
              "3                     British              Hotel                2000   \n",
              "4                  Vietnamese             Airbnb                 700   \n",
              "..                        ...                ...                 ...   \n",
              "134                 Brazilian             Hostel                2500   \n",
              "135                  Canadian              Hotel                5000   \n",
              "136                   Chinese             Hostel                2000   \n",
              "137                   Spanish             Airbnb                6000   \n",
              "138             New Zealander              Hotel                7000   \n",
              "\n",
              "    Tipo de transporte Custo do transporte  \n",
              "0               Flight                 600  \n",
              "1               Flight                 500  \n",
              "2               Flight                 700  \n",
              "3               Flight                1000  \n",
              "4                Train                 200  \n",
              "..                 ...                 ...  \n",
              "134                Car                2000  \n",
              "135           Airplane                3000  \n",
              "136              Train                1000  \n",
              "137           Airplane                2500  \n",
              "138              Train                2500  \n",
              "\n",
              "[139 rows x 12 columns]"
            ],
            "text/html": [
              "\n",
              "  <div id=\"df-7ff74fb9-554d-402d-9bd5-ef96dfbead91\">\n",
              "    <div class=\"colab-df-container\">\n",
              "      <div>\n",
              "<style scoped>\n",
              "    .dataframe tbody tr th:only-of-type {\n",
              "        vertical-align: middle;\n",
              "    }\n",
              "\n",
              "    .dataframe tbody tr th {\n",
              "        vertical-align: top;\n",
              "    }\n",
              "\n",
              "    .dataframe thead th {\n",
              "        text-align: right;\n",
              "    }\n",
              "</style>\n",
              "<table border=\"1\" class=\"dataframe\">\n",
              "  <thead>\n",
              "    <tr style=\"text-align: right;\">\n",
              "      <th></th>\n",
              "      <th>ID da viagem</th>\n",
              "      <th>Destino</th>\n",
              "      <th>Começo da viagem</th>\n",
              "      <th>Fim da viagem</th>\n",
              "      <th>Duração (dias)</th>\n",
              "      <th>Idade do viajante</th>\n",
              "      <th>Sexo do viajante</th>\n",
              "      <th>Nacionalidade do viajante</th>\n",
              "      <th>Tipo de acomodação</th>\n",
              "      <th>Custo da acomodação</th>\n",
              "      <th>Tipo de transporte</th>\n",
              "      <th>Custo do transporte</th>\n",
              "    </tr>\n",
              "  </thead>\n",
              "  <tbody>\n",
              "    <tr>\n",
              "      <th>0</th>\n",
              "      <td>1</td>\n",
              "      <td>London, UK</td>\n",
              "      <td>5/1/2023</td>\n",
              "      <td>5/8/2023</td>\n",
              "      <td>7.0</td>\n",
              "      <td>35.0</td>\n",
              "      <td>Male</td>\n",
              "      <td>American</td>\n",
              "      <td>Hotel</td>\n",
              "      <td>1200</td>\n",
              "      <td>Flight</td>\n",
              "      <td>600</td>\n",
              "    </tr>\n",
              "    <tr>\n",
              "      <th>1</th>\n",
              "      <td>2</td>\n",
              "      <td>Phuket, Thailand</td>\n",
              "      <td>6/15/2023</td>\n",
              "      <td>6/20/2023</td>\n",
              "      <td>5.0</td>\n",
              "      <td>28.0</td>\n",
              "      <td>Female</td>\n",
              "      <td>Canadian</td>\n",
              "      <td>Resort</td>\n",
              "      <td>800</td>\n",
              "      <td>Flight</td>\n",
              "      <td>500</td>\n",
              "    </tr>\n",
              "    <tr>\n",
              "      <th>2</th>\n",
              "      <td>3</td>\n",
              "      <td>Bali, Indonesia</td>\n",
              "      <td>7/1/2023</td>\n",
              "      <td>7/8/2023</td>\n",
              "      <td>7.0</td>\n",
              "      <td>45.0</td>\n",
              "      <td>Male</td>\n",
              "      <td>Korean</td>\n",
              "      <td>Villa</td>\n",
              "      <td>1000</td>\n",
              "      <td>Flight</td>\n",
              "      <td>700</td>\n",
              "    </tr>\n",
              "    <tr>\n",
              "      <th>3</th>\n",
              "      <td>4</td>\n",
              "      <td>New York, USA</td>\n",
              "      <td>8/15/2023</td>\n",
              "      <td>8/29/2023</td>\n",
              "      <td>14.0</td>\n",
              "      <td>29.0</td>\n",
              "      <td>Female</td>\n",
              "      <td>British</td>\n",
              "      <td>Hotel</td>\n",
              "      <td>2000</td>\n",
              "      <td>Flight</td>\n",
              "      <td>1000</td>\n",
              "    </tr>\n",
              "    <tr>\n",
              "      <th>4</th>\n",
              "      <td>5</td>\n",
              "      <td>Tokyo, Japan</td>\n",
              "      <td>9/10/2023</td>\n",
              "      <td>9/17/2023</td>\n",
              "      <td>7.0</td>\n",
              "      <td>26.0</td>\n",
              "      <td>Female</td>\n",
              "      <td>Vietnamese</td>\n",
              "      <td>Airbnb</td>\n",
              "      <td>700</td>\n",
              "      <td>Train</td>\n",
              "      <td>200</td>\n",
              "    </tr>\n",
              "    <tr>\n",
              "      <th>...</th>\n",
              "      <td>...</td>\n",
              "      <td>...</td>\n",
              "      <td>...</td>\n",
              "      <td>...</td>\n",
              "      <td>...</td>\n",
              "      <td>...</td>\n",
              "      <td>...</td>\n",
              "      <td>...</td>\n",
              "      <td>...</td>\n",
              "      <td>...</td>\n",
              "      <td>...</td>\n",
              "      <td>...</td>\n",
              "    </tr>\n",
              "    <tr>\n",
              "      <th>134</th>\n",
              "      <td>135</td>\n",
              "      <td>Rio de Janeiro, Brazil</td>\n",
              "      <td>8/1/2023</td>\n",
              "      <td>8/10/2023</td>\n",
              "      <td>9.0</td>\n",
              "      <td>37.0</td>\n",
              "      <td>Male</td>\n",
              "      <td>Brazilian</td>\n",
              "      <td>Hostel</td>\n",
              "      <td>2500</td>\n",
              "      <td>Car</td>\n",
              "      <td>2000</td>\n",
              "    </tr>\n",
              "    <tr>\n",
              "      <th>135</th>\n",
              "      <td>136</td>\n",
              "      <td>Vancouver, Canada</td>\n",
              "      <td>8/15/2023</td>\n",
              "      <td>8/21/2023</td>\n",
              "      <td>6.0</td>\n",
              "      <td>29.0</td>\n",
              "      <td>Female</td>\n",
              "      <td>Canadian</td>\n",
              "      <td>Hotel</td>\n",
              "      <td>5000</td>\n",
              "      <td>Airplane</td>\n",
              "      <td>3000</td>\n",
              "    </tr>\n",
              "    <tr>\n",
              "      <th>136</th>\n",
              "      <td>137</td>\n",
              "      <td>Bangkok, Thailand</td>\n",
              "      <td>9/1/2023</td>\n",
              "      <td>9/8/2023</td>\n",
              "      <td>7.0</td>\n",
              "      <td>34.0</td>\n",
              "      <td>Male</td>\n",
              "      <td>Chinese</td>\n",
              "      <td>Hostel</td>\n",
              "      <td>2000</td>\n",
              "      <td>Train</td>\n",
              "      <td>1000</td>\n",
              "    </tr>\n",
              "    <tr>\n",
              "      <th>137</th>\n",
              "      <td>138</td>\n",
              "      <td>Barcelona, Spain</td>\n",
              "      <td>9/15/2023</td>\n",
              "      <td>9/22/2023</td>\n",
              "      <td>7.0</td>\n",
              "      <td>25.0</td>\n",
              "      <td>Female</td>\n",
              "      <td>Spanish</td>\n",
              "      <td>Airbnb</td>\n",
              "      <td>6000</td>\n",
              "      <td>Airplane</td>\n",
              "      <td>2500</td>\n",
              "    </tr>\n",
              "    <tr>\n",
              "      <th>138</th>\n",
              "      <td>139</td>\n",
              "      <td>Auckland, New Zealand</td>\n",
              "      <td>10/1/2023</td>\n",
              "      <td>10/8/2023</td>\n",
              "      <td>7.0</td>\n",
              "      <td>39.0</td>\n",
              "      <td>Male</td>\n",
              "      <td>New Zealander</td>\n",
              "      <td>Hotel</td>\n",
              "      <td>7000</td>\n",
              "      <td>Train</td>\n",
              "      <td>2500</td>\n",
              "    </tr>\n",
              "  </tbody>\n",
              "</table>\n",
              "<p>139 rows × 12 columns</p>\n",
              "</div>\n",
              "      <button class=\"colab-df-convert\" onclick=\"convertToInteractive('df-7ff74fb9-554d-402d-9bd5-ef96dfbead91')\"\n",
              "              title=\"Convert this dataframe to an interactive table.\"\n",
              "              style=\"display:none;\">\n",
              "        \n",
              "  <svg xmlns=\"http://www.w3.org/2000/svg\" height=\"24px\"viewBox=\"0 0 24 24\"\n",
              "       width=\"24px\">\n",
              "    <path d=\"M0 0h24v24H0V0z\" fill=\"none\"/>\n",
              "    <path d=\"M18.56 5.44l.94 2.06.94-2.06 2.06-.94-2.06-.94-.94-2.06-.94 2.06-2.06.94zm-11 1L8.5 8.5l.94-2.06 2.06-.94-2.06-.94L8.5 2.5l-.94 2.06-2.06.94zm10 10l.94 2.06.94-2.06 2.06-.94-2.06-.94-.94-2.06-.94 2.06-2.06.94z\"/><path d=\"M17.41 7.96l-1.37-1.37c-.4-.4-.92-.59-1.43-.59-.52 0-1.04.2-1.43.59L10.3 9.45l-7.72 7.72c-.78.78-.78 2.05 0 2.83L4 21.41c.39.39.9.59 1.41.59.51 0 1.02-.2 1.41-.59l7.78-7.78 2.81-2.81c.8-.78.8-2.07 0-2.86zM5.41 20L4 18.59l7.72-7.72 1.47 1.35L5.41 20z\"/>\n",
              "  </svg>\n",
              "      </button>\n",
              "      \n",
              "  <style>\n",
              "    .colab-df-container {\n",
              "      display:flex;\n",
              "      flex-wrap:wrap;\n",
              "      gap: 12px;\n",
              "    }\n",
              "\n",
              "    .colab-df-convert {\n",
              "      background-color: #E8F0FE;\n",
              "      border: none;\n",
              "      border-radius: 50%;\n",
              "      cursor: pointer;\n",
              "      display: none;\n",
              "      fill: #1967D2;\n",
              "      height: 32px;\n",
              "      padding: 0 0 0 0;\n",
              "      width: 32px;\n",
              "    }\n",
              "\n",
              "    .colab-df-convert:hover {\n",
              "      background-color: #E2EBFA;\n",
              "      box-shadow: 0px 1px 2px rgba(60, 64, 67, 0.3), 0px 1px 3px 1px rgba(60, 64, 67, 0.15);\n",
              "      fill: #174EA6;\n",
              "    }\n",
              "\n",
              "    [theme=dark] .colab-df-convert {\n",
              "      background-color: #3B4455;\n",
              "      fill: #D2E3FC;\n",
              "    }\n",
              "\n",
              "    [theme=dark] .colab-df-convert:hover {\n",
              "      background-color: #434B5C;\n",
              "      box-shadow: 0px 1px 3px 1px rgba(0, 0, 0, 0.15);\n",
              "      filter: drop-shadow(0px 1px 2px rgba(0, 0, 0, 0.3));\n",
              "      fill: #FFFFFF;\n",
              "    }\n",
              "  </style>\n",
              "\n",
              "      <script>\n",
              "        const buttonEl =\n",
              "          document.querySelector('#df-7ff74fb9-554d-402d-9bd5-ef96dfbead91 button.colab-df-convert');\n",
              "        buttonEl.style.display =\n",
              "          google.colab.kernel.accessAllowed ? 'block' : 'none';\n",
              "\n",
              "        async function convertToInteractive(key) {\n",
              "          const element = document.querySelector('#df-7ff74fb9-554d-402d-9bd5-ef96dfbead91');\n",
              "          const dataTable =\n",
              "            await google.colab.kernel.invokeFunction('convertToInteractive',\n",
              "                                                     [key], {});\n",
              "          if (!dataTable) return;\n",
              "\n",
              "          const docLinkHtml = 'Like what you see? Visit the ' +\n",
              "            '<a target=\"_blank\" href=https://colab.research.google.com/notebooks/data_table.ipynb>data table notebook</a>'\n",
              "            + ' to learn more about interactive tables.';\n",
              "          element.innerHTML = '';\n",
              "          dataTable['output_type'] = 'display_data';\n",
              "          await google.colab.output.renderOutput(dataTable, element);\n",
              "          const docLink = document.createElement('div');\n",
              "          docLink.innerHTML = docLinkHtml;\n",
              "          element.appendChild(docLink);\n",
              "        }\n",
              "      </script>\n",
              "    </div>\n",
              "  </div>\n",
              "  "
            ]
          },
          "metadata": {},
          "execution_count": 58
        }
      ]
    },
    {
      "cell_type": "markdown",
      "source": [
        "Verificando as informações das colunas, foi possível ver que as colunas de custos então como tipo string, e para que seja possível fazer os cálculos, é necessário mudar o tipo delas para valor numérico.\n",
        "\n",
        "Para fazer essa alteração do tipo da coluna, primeiro é importante verificar se existem caracteres especiais nos registros, pois o tipo numérico não permite esses caracteres."
      ],
      "metadata": {
        "id": "dV_9NJ4QvbGH"
      }
    },
    {
      "cell_type": "code",
      "source": [
        "# Vendo os valores únicos existentes das colunas de custos.\n",
        "df['Custo da acomodação'].unique()"
      ],
      "metadata": {
        "colab": {
          "base_uri": "https://localhost:8080/"
        },
        "id": "SfUDNzc1C0Gg",
        "outputId": "41605a72-5aee-4deb-93f1-704d057257e3"
      },
      "execution_count": 59,
      "outputs": [
        {
          "output_type": "execute_result",
          "data": {
            "text/plain": [
              "array(['1200', '800', '1000', '2000', '700', '1500', '500', '900', '2500',\n",
              "       '3000', '1400', '600', '$900 ', '$1,500 ', '$1,200 ', '$600 ',\n",
              "       '$1,000 ', '$700 ', '$400 ', '$1,400 ', '$2,000 ', '$1,100 ',\n",
              "       '$800 ', '$200 ', '$150 ', '$500 ', '$180 ', '$350 ', '2200',\n",
              "       '400', '1100', '300', '1300', '1800', nan, '500 USD', '1000 USD',\n",
              "       '800 USD', '1200 USD', '400 USD', '600 USD', '900 USD', '1500 USD',\n",
              "       '700 USD', '100', '300 USD', '200 USD', '$300 ', '200', '5000',\n",
              "       '7000', '6000', '4000', '8000'], dtype=object)"
            ]
          },
          "metadata": {},
          "execution_count": 59
        }
      ]
    },
    {
      "cell_type": "code",
      "source": [
        " df['Custo do transporte'].unique()"
      ],
      "metadata": {
        "colab": {
          "base_uri": "https://localhost:8080/"
        },
        "id": "uzoqUqXyGaXa",
        "outputId": "1a8c6712-a31c-408d-bb9a-c8fae7de9ba1"
      },
      "execution_count": 60,
      "outputs": [
        {
          "output_type": "execute_result",
          "data": {
            "text/plain": [
              "array(['600', '500', '700', '1000', '200', '800', '1200', '100', '400',\n",
              "       '150', '$400 ', '$700 ', '$150 ', '$800 ', '$100 ', '$600 ',\n",
              "       '$80 ', '$500 ', '$300 ', '$50 ', '$120 ', '$75 ', '900', '50',\n",
              "       '$200 ', '$250 ', '$20 ', '300', nan, '800 USD', '200 USD',\n",
              "       '500 USD', '700 USD', '300 USD', '600 USD', '400 USD', '1000 USD',\n",
              "       '100 USD', '350 USD', '150 USD', '$1,200 ', '$900 ', '$1,500 ',\n",
              "       '$1,000 ', '250', '2500', '1500', '2000', '3000'], dtype=object)"
            ]
          },
          "metadata": {},
          "execution_count": 60
        }
      ]
    },
    {
      "cell_type": "markdown",
      "source": [
        "Nota-se que os registros não estão padronizados, alguns com $ outros com USD, então é necessário remover a identificação da moeda e deixar todos os registros padronizados para não dar erro nos cálculos que serão feitos mais adiante."
      ],
      "metadata": {
        "id": "4rjvq2mXptqx"
      }
    },
    {
      "cell_type": "code",
      "source": [
        "# Removendo caracteres $ e USD dos valores numéricos.\n",
        "df['Custo da acomodação'] = df['Custo da acomodação'].str.replace('[$,USD]', '', regex=True).str.strip()"
      ],
      "metadata": {
        "id": "wGgDZdkOoPtr"
      },
      "execution_count": 61,
      "outputs": []
    },
    {
      "cell_type": "code",
      "source": [
        "df['Custo do transporte'] = df['Custo do transporte'].str.replace('[$,USD]', '', regex=True).str.strip()"
      ],
      "metadata": {
        "id": "UMqEtqHvMTmV"
      },
      "execution_count": 62,
      "outputs": []
    },
    {
      "cell_type": "markdown",
      "source": [
        "Ao verificar os valores únicos das colunas de custos, é possível observar também que existem alguns valores nulos informados pela sigla \"nan\". Então para que as métricas sejam justas, optei por substituir os valores nulos pelo valor mais frequênte em cada coluna, ou seja, substituir pela \"moda\".\n",
        "\n",
        "Para checar qual é a moda de cada coluna podemos verificar o número de registro para cada valor da coluna. Faremos isso com as colunas \"Custo da acomodação\", \"Custo do transporte\", \"Idade do viajante\" e \"Duração (dias)\"."
      ],
      "metadata": {
        "id": "oKfD0vqot3Sy"
      }
    },
    {
      "cell_type": "code",
      "source": [
        "# Entendendo as colunas de custos, idade e duração. Vendo a quantidade de cada valor existente na coluna para substituir o nan pela moda.\n",
        "df['Custo da acomodação'].value_counts()"
      ],
      "metadata": {
        "colab": {
          "base_uri": "https://localhost:8080/"
        },
        "id": "azqmhp5oLRNt",
        "outputId": "48577428-062e-4936-918c-81960aca4489"
      },
      "execution_count": 63,
      "outputs": [
        {
          "output_type": "execute_result",
          "data": {
            "text/plain": [
              "1200    14\n",
              "800     14\n",
              "900     13\n",
              "1000    11\n",
              "500     11\n",
              "400     10\n",
              "700      8\n",
              "1500     8\n",
              "600      7\n",
              "300      4\n",
              "1100     4\n",
              "200      4\n",
              "1400     4\n",
              "2000     4\n",
              "3000     2\n",
              "2500     2\n",
              "2200     2\n",
              "1300     2\n",
              "5000     2\n",
              "7000     2\n",
              "6000     2\n",
              "150      1\n",
              "180      1\n",
              "350      1\n",
              "1800     1\n",
              "100      1\n",
              "4000     1\n",
              "8000     1\n",
              "Name: Custo da acomodação, dtype: int64"
            ]
          },
          "metadata": {},
          "execution_count": 63
        }
      ]
    },
    {
      "cell_type": "code",
      "source": [
        "df['Custo do transporte'].value_counts()"
      ],
      "metadata": {
        "colab": {
          "base_uri": "https://localhost:8080/"
        },
        "id": "en0ymcHbNFQt",
        "outputId": "d13b4ca7-5cec-49a0-b1ac-ec044dbfa341"
      },
      "execution_count": 64,
      "outputs": [
        {
          "output_type": "execute_result",
          "data": {
            "text/plain": [
              "800     16\n",
              "700     15\n",
              "500     11\n",
              "150     11\n",
              "100     10\n",
              "200     10\n",
              "600      9\n",
              "300      9\n",
              "1000     8\n",
              "400      7\n",
              "1200     5\n",
              "900      4\n",
              "2500     4\n",
              "50       3\n",
              "1500     3\n",
              "250      2\n",
              "2000     2\n",
              "3000     2\n",
              "80       1\n",
              "120      1\n",
              "75       1\n",
              "20       1\n",
              "350      1\n",
              "Name: Custo do transporte, dtype: int64"
            ]
          },
          "metadata": {},
          "execution_count": 64
        }
      ]
    },
    {
      "cell_type": "code",
      "source": [
        "df['Idade do viajante'].value_counts()"
      ],
      "metadata": {
        "colab": {
          "base_uri": "https://localhost:8080/"
        },
        "id": "25ecsj-sSy8D",
        "outputId": "089a0c2e-2729-4f65-f048-5d38e1ee53b4"
      },
      "execution_count": 65,
      "outputs": [
        {
          "output_type": "execute_result",
          "data": {
            "text/plain": [
              "29.0    12\n",
              "27.0    12\n",
              "31.0    11\n",
              "28.0    11\n",
              "35.0    10\n",
              "33.0     9\n",
              "45.0     8\n",
              "30.0     7\n",
              "25.0     7\n",
              "42.0     7\n",
              "26.0     6\n",
              "41.0     5\n",
              "32.0     4\n",
              "24.0     4\n",
              "37.0     4\n",
              "38.0     4\n",
              "39.0     3\n",
              "34.0     2\n",
              "23.0     1\n",
              "50.0     1\n",
              "60.0     1\n",
              "46.0     1\n",
              "43.0     1\n",
              "20.0     1\n",
              "55.0     1\n",
              "40.0     1\n",
              "48.0     1\n",
              "36.0     1\n",
              "47.0     1\n",
              "Name: Idade do viajante, dtype: int64"
            ]
          },
          "metadata": {},
          "execution_count": 65
        }
      ]
    },
    {
      "cell_type": "code",
      "source": [
        "df['Duração (dias)'].value_counts()"
      ],
      "metadata": {
        "colab": {
          "base_uri": "https://localhost:8080/"
        },
        "id": "pMwz2HFAUhJ4",
        "outputId": "d98143ae-27c3-46f8-a431-b40d530a3334"
      },
      "execution_count": 66,
      "outputs": [
        {
          "output_type": "execute_result",
          "data": {
            "text/plain": [
              "7.0     54\n",
              "8.0     24\n",
              "9.0     16\n",
              "6.0     16\n",
              "5.0     10\n",
              "10.0    10\n",
              "11.0     5\n",
              "14.0     1\n",
              "13.0     1\n",
              "Name: Duração (dias), dtype: int64"
            ]
          },
          "metadata": {},
          "execution_count": 66
        }
      ]
    },
    {
      "cell_type": "code",
      "source": [
        "# Alterando registros nan pela moda.\n",
        "df['Custo da acomodação'] = df['Custo da acomodação'].fillna('1200')"
      ],
      "metadata": {
        "id": "W69m6oqpOEY7"
      },
      "execution_count": 67,
      "outputs": []
    },
    {
      "cell_type": "code",
      "source": [
        "df['Custo do transporte'] = df['Custo do transporte'].fillna('800')"
      ],
      "metadata": {
        "id": "e7edVrBOObsW"
      },
      "execution_count": 68,
      "outputs": []
    },
    {
      "cell_type": "code",
      "source": [
        "df['Idade do viajante'] = df['Idade do viajante'].fillna(29.0)"
      ],
      "metadata": {
        "id": "cUBgDeiOTon8"
      },
      "execution_count": 69,
      "outputs": []
    },
    {
      "cell_type": "code",
      "source": [
        "df['Duração (dias)'] = df['Duração (dias)'].fillna(7.0)"
      ],
      "metadata": {
        "id": "KZinXw0JVfrh"
      },
      "execution_count": 70,
      "outputs": []
    },
    {
      "cell_type": "markdown",
      "source": [
        "Agora já é possível fazer a alteração do tipo das colunas, todas de uma só vez. Iremos alterar o tipo das colunas com valores numéricos e datas."
      ],
      "metadata": {
        "id": "_eqQWkITzK3Y"
      }
    },
    {
      "cell_type": "code",
      "source": [
        "# Alterando o tipo das colunas com valor numérico para int.\n",
        "df[['Duração (dias)','Idade do viajante','Custo da acomodação','Custo do transporte']] = df[['Duração (dias)','Idade do viajante','Custo da acomodação', 'Custo do transporte']].astype(int)"
      ],
      "metadata": {
        "id": "tt_kOC_Fl87A"
      },
      "execution_count": 71,
      "outputs": []
    },
    {
      "cell_type": "code",
      "source": [
        "# Alterando o tipo das colunas com datas para datetime64.\n",
        "df['Começo da viagem'] = pd.to_datetime(df['Começo da viagem'], format='%m/%d/%Y')"
      ],
      "metadata": {
        "id": "PUKErIzmuBQD"
      },
      "execution_count": 72,
      "outputs": []
    },
    {
      "cell_type": "code",
      "source": [
        "df['Fim da viagem'] = pd.to_datetime(df['Fim da viagem'], format='%m/%d/%Y')"
      ],
      "metadata": {
        "id": "F4xR_jSCuaqu"
      },
      "execution_count": 73,
      "outputs": []
    },
    {
      "cell_type": "markdown",
      "source": [
        "Para responder as perguntas levantadas, é necessário saber o custo total da viagem e para isso vamos criar uma nova coluna que será o resultado da soma entre as colunas \"Custo da acomodação\" e \"Custo do transporte\"."
      ],
      "metadata": {
        "id": "-vCfgqog0Vku"
      }
    },
    {
      "cell_type": "code",
      "source": [
        "# Criando nova coluna com o custo total.\n",
        "df['Custo total'] = df['Custo da acomodação'] + df['Custo do transporte']\n",
        "df"
      ],
      "metadata": {
        "colab": {
          "base_uri": "https://localhost:8080/",
          "height": 730
        },
        "id": "aV8GB8fuhAba",
        "outputId": "25adae70-7fe4-4be3-ef67-691be69a5dc0"
      },
      "execution_count": 74,
      "outputs": [
        {
          "output_type": "execute_result",
          "data": {
            "text/plain": [
              "     ID da viagem                 Destino Começo da viagem Fim da viagem  \\\n",
              "0               1              London, UK       2023-05-01    2023-05-08   \n",
              "1               2        Phuket, Thailand       2023-06-15    2023-06-20   \n",
              "2               3         Bali, Indonesia       2023-07-01    2023-07-08   \n",
              "3               4           New York, USA       2023-08-15    2023-08-29   \n",
              "4               5            Tokyo, Japan       2023-09-10    2023-09-17   \n",
              "..            ...                     ...              ...           ...   \n",
              "134           135  Rio de Janeiro, Brazil       2023-08-01    2023-08-10   \n",
              "135           136       Vancouver, Canada       2023-08-15    2023-08-21   \n",
              "136           137       Bangkok, Thailand       2023-09-01    2023-09-08   \n",
              "137           138        Barcelona, Spain       2023-09-15    2023-09-22   \n",
              "138           139   Auckland, New Zealand       2023-10-01    2023-10-08   \n",
              "\n",
              "     Duração (dias)  Idade do viajante Sexo do viajante  \\\n",
              "0                 7                 35             Male   \n",
              "1                 5                 28           Female   \n",
              "2                 7                 45             Male   \n",
              "3                14                 29           Female   \n",
              "4                 7                 26           Female   \n",
              "..              ...                ...              ...   \n",
              "134               9                 37             Male   \n",
              "135               6                 29           Female   \n",
              "136               7                 34             Male   \n",
              "137               7                 25           Female   \n",
              "138               7                 39             Male   \n",
              "\n",
              "    Nacionalidade do viajante Tipo de acomodação  Custo da acomodação  \\\n",
              "0                    American              Hotel                 1200   \n",
              "1                    Canadian             Resort                  800   \n",
              "2                      Korean              Villa                 1000   \n",
              "3                     British              Hotel                 2000   \n",
              "4                  Vietnamese             Airbnb                  700   \n",
              "..                        ...                ...                  ...   \n",
              "134                 Brazilian             Hostel                 2500   \n",
              "135                  Canadian              Hotel                 5000   \n",
              "136                   Chinese             Hostel                 2000   \n",
              "137                   Spanish             Airbnb                 6000   \n",
              "138             New Zealander              Hotel                 7000   \n",
              "\n",
              "    Tipo de transporte  Custo do transporte  Custo total  \n",
              "0               Flight                  600         1800  \n",
              "1               Flight                  500         1300  \n",
              "2               Flight                  700         1700  \n",
              "3               Flight                 1000         3000  \n",
              "4                Train                  200          900  \n",
              "..                 ...                  ...          ...  \n",
              "134                Car                 2000         4500  \n",
              "135           Airplane                 3000         8000  \n",
              "136              Train                 1000         3000  \n",
              "137           Airplane                 2500         8500  \n",
              "138              Train                 2500         9500  \n",
              "\n",
              "[139 rows x 13 columns]"
            ],
            "text/html": [
              "\n",
              "  <div id=\"df-e96797b7-fa89-4742-be18-9ea5931f7b89\">\n",
              "    <div class=\"colab-df-container\">\n",
              "      <div>\n",
              "<style scoped>\n",
              "    .dataframe tbody tr th:only-of-type {\n",
              "        vertical-align: middle;\n",
              "    }\n",
              "\n",
              "    .dataframe tbody tr th {\n",
              "        vertical-align: top;\n",
              "    }\n",
              "\n",
              "    .dataframe thead th {\n",
              "        text-align: right;\n",
              "    }\n",
              "</style>\n",
              "<table border=\"1\" class=\"dataframe\">\n",
              "  <thead>\n",
              "    <tr style=\"text-align: right;\">\n",
              "      <th></th>\n",
              "      <th>ID da viagem</th>\n",
              "      <th>Destino</th>\n",
              "      <th>Começo da viagem</th>\n",
              "      <th>Fim da viagem</th>\n",
              "      <th>Duração (dias)</th>\n",
              "      <th>Idade do viajante</th>\n",
              "      <th>Sexo do viajante</th>\n",
              "      <th>Nacionalidade do viajante</th>\n",
              "      <th>Tipo de acomodação</th>\n",
              "      <th>Custo da acomodação</th>\n",
              "      <th>Tipo de transporte</th>\n",
              "      <th>Custo do transporte</th>\n",
              "      <th>Custo total</th>\n",
              "    </tr>\n",
              "  </thead>\n",
              "  <tbody>\n",
              "    <tr>\n",
              "      <th>0</th>\n",
              "      <td>1</td>\n",
              "      <td>London, UK</td>\n",
              "      <td>2023-05-01</td>\n",
              "      <td>2023-05-08</td>\n",
              "      <td>7</td>\n",
              "      <td>35</td>\n",
              "      <td>Male</td>\n",
              "      <td>American</td>\n",
              "      <td>Hotel</td>\n",
              "      <td>1200</td>\n",
              "      <td>Flight</td>\n",
              "      <td>600</td>\n",
              "      <td>1800</td>\n",
              "    </tr>\n",
              "    <tr>\n",
              "      <th>1</th>\n",
              "      <td>2</td>\n",
              "      <td>Phuket, Thailand</td>\n",
              "      <td>2023-06-15</td>\n",
              "      <td>2023-06-20</td>\n",
              "      <td>5</td>\n",
              "      <td>28</td>\n",
              "      <td>Female</td>\n",
              "      <td>Canadian</td>\n",
              "      <td>Resort</td>\n",
              "      <td>800</td>\n",
              "      <td>Flight</td>\n",
              "      <td>500</td>\n",
              "      <td>1300</td>\n",
              "    </tr>\n",
              "    <tr>\n",
              "      <th>2</th>\n",
              "      <td>3</td>\n",
              "      <td>Bali, Indonesia</td>\n",
              "      <td>2023-07-01</td>\n",
              "      <td>2023-07-08</td>\n",
              "      <td>7</td>\n",
              "      <td>45</td>\n",
              "      <td>Male</td>\n",
              "      <td>Korean</td>\n",
              "      <td>Villa</td>\n",
              "      <td>1000</td>\n",
              "      <td>Flight</td>\n",
              "      <td>700</td>\n",
              "      <td>1700</td>\n",
              "    </tr>\n",
              "    <tr>\n",
              "      <th>3</th>\n",
              "      <td>4</td>\n",
              "      <td>New York, USA</td>\n",
              "      <td>2023-08-15</td>\n",
              "      <td>2023-08-29</td>\n",
              "      <td>14</td>\n",
              "      <td>29</td>\n",
              "      <td>Female</td>\n",
              "      <td>British</td>\n",
              "      <td>Hotel</td>\n",
              "      <td>2000</td>\n",
              "      <td>Flight</td>\n",
              "      <td>1000</td>\n",
              "      <td>3000</td>\n",
              "    </tr>\n",
              "    <tr>\n",
              "      <th>4</th>\n",
              "      <td>5</td>\n",
              "      <td>Tokyo, Japan</td>\n",
              "      <td>2023-09-10</td>\n",
              "      <td>2023-09-17</td>\n",
              "      <td>7</td>\n",
              "      <td>26</td>\n",
              "      <td>Female</td>\n",
              "      <td>Vietnamese</td>\n",
              "      <td>Airbnb</td>\n",
              "      <td>700</td>\n",
              "      <td>Train</td>\n",
              "      <td>200</td>\n",
              "      <td>900</td>\n",
              "    </tr>\n",
              "    <tr>\n",
              "      <th>...</th>\n",
              "      <td>...</td>\n",
              "      <td>...</td>\n",
              "      <td>...</td>\n",
              "      <td>...</td>\n",
              "      <td>...</td>\n",
              "      <td>...</td>\n",
              "      <td>...</td>\n",
              "      <td>...</td>\n",
              "      <td>...</td>\n",
              "      <td>...</td>\n",
              "      <td>...</td>\n",
              "      <td>...</td>\n",
              "      <td>...</td>\n",
              "    </tr>\n",
              "    <tr>\n",
              "      <th>134</th>\n",
              "      <td>135</td>\n",
              "      <td>Rio de Janeiro, Brazil</td>\n",
              "      <td>2023-08-01</td>\n",
              "      <td>2023-08-10</td>\n",
              "      <td>9</td>\n",
              "      <td>37</td>\n",
              "      <td>Male</td>\n",
              "      <td>Brazilian</td>\n",
              "      <td>Hostel</td>\n",
              "      <td>2500</td>\n",
              "      <td>Car</td>\n",
              "      <td>2000</td>\n",
              "      <td>4500</td>\n",
              "    </tr>\n",
              "    <tr>\n",
              "      <th>135</th>\n",
              "      <td>136</td>\n",
              "      <td>Vancouver, Canada</td>\n",
              "      <td>2023-08-15</td>\n",
              "      <td>2023-08-21</td>\n",
              "      <td>6</td>\n",
              "      <td>29</td>\n",
              "      <td>Female</td>\n",
              "      <td>Canadian</td>\n",
              "      <td>Hotel</td>\n",
              "      <td>5000</td>\n",
              "      <td>Airplane</td>\n",
              "      <td>3000</td>\n",
              "      <td>8000</td>\n",
              "    </tr>\n",
              "    <tr>\n",
              "      <th>136</th>\n",
              "      <td>137</td>\n",
              "      <td>Bangkok, Thailand</td>\n",
              "      <td>2023-09-01</td>\n",
              "      <td>2023-09-08</td>\n",
              "      <td>7</td>\n",
              "      <td>34</td>\n",
              "      <td>Male</td>\n",
              "      <td>Chinese</td>\n",
              "      <td>Hostel</td>\n",
              "      <td>2000</td>\n",
              "      <td>Train</td>\n",
              "      <td>1000</td>\n",
              "      <td>3000</td>\n",
              "    </tr>\n",
              "    <tr>\n",
              "      <th>137</th>\n",
              "      <td>138</td>\n",
              "      <td>Barcelona, Spain</td>\n",
              "      <td>2023-09-15</td>\n",
              "      <td>2023-09-22</td>\n",
              "      <td>7</td>\n",
              "      <td>25</td>\n",
              "      <td>Female</td>\n",
              "      <td>Spanish</td>\n",
              "      <td>Airbnb</td>\n",
              "      <td>6000</td>\n",
              "      <td>Airplane</td>\n",
              "      <td>2500</td>\n",
              "      <td>8500</td>\n",
              "    </tr>\n",
              "    <tr>\n",
              "      <th>138</th>\n",
              "      <td>139</td>\n",
              "      <td>Auckland, New Zealand</td>\n",
              "      <td>2023-10-01</td>\n",
              "      <td>2023-10-08</td>\n",
              "      <td>7</td>\n",
              "      <td>39</td>\n",
              "      <td>Male</td>\n",
              "      <td>New Zealander</td>\n",
              "      <td>Hotel</td>\n",
              "      <td>7000</td>\n",
              "      <td>Train</td>\n",
              "      <td>2500</td>\n",
              "      <td>9500</td>\n",
              "    </tr>\n",
              "  </tbody>\n",
              "</table>\n",
              "<p>139 rows × 13 columns</p>\n",
              "</div>\n",
              "      <button class=\"colab-df-convert\" onclick=\"convertToInteractive('df-e96797b7-fa89-4742-be18-9ea5931f7b89')\"\n",
              "              title=\"Convert this dataframe to an interactive table.\"\n",
              "              style=\"display:none;\">\n",
              "        \n",
              "  <svg xmlns=\"http://www.w3.org/2000/svg\" height=\"24px\"viewBox=\"0 0 24 24\"\n",
              "       width=\"24px\">\n",
              "    <path d=\"M0 0h24v24H0V0z\" fill=\"none\"/>\n",
              "    <path d=\"M18.56 5.44l.94 2.06.94-2.06 2.06-.94-2.06-.94-.94-2.06-.94 2.06-2.06.94zm-11 1L8.5 8.5l.94-2.06 2.06-.94-2.06-.94L8.5 2.5l-.94 2.06-2.06.94zm10 10l.94 2.06.94-2.06 2.06-.94-2.06-.94-.94-2.06-.94 2.06-2.06.94z\"/><path d=\"M17.41 7.96l-1.37-1.37c-.4-.4-.92-.59-1.43-.59-.52 0-1.04.2-1.43.59L10.3 9.45l-7.72 7.72c-.78.78-.78 2.05 0 2.83L4 21.41c.39.39.9.59 1.41.59.51 0 1.02-.2 1.41-.59l7.78-7.78 2.81-2.81c.8-.78.8-2.07 0-2.86zM5.41 20L4 18.59l7.72-7.72 1.47 1.35L5.41 20z\"/>\n",
              "  </svg>\n",
              "      </button>\n",
              "      \n",
              "  <style>\n",
              "    .colab-df-container {\n",
              "      display:flex;\n",
              "      flex-wrap:wrap;\n",
              "      gap: 12px;\n",
              "    }\n",
              "\n",
              "    .colab-df-convert {\n",
              "      background-color: #E8F0FE;\n",
              "      border: none;\n",
              "      border-radius: 50%;\n",
              "      cursor: pointer;\n",
              "      display: none;\n",
              "      fill: #1967D2;\n",
              "      height: 32px;\n",
              "      padding: 0 0 0 0;\n",
              "      width: 32px;\n",
              "    }\n",
              "\n",
              "    .colab-df-convert:hover {\n",
              "      background-color: #E2EBFA;\n",
              "      box-shadow: 0px 1px 2px rgba(60, 64, 67, 0.3), 0px 1px 3px 1px rgba(60, 64, 67, 0.15);\n",
              "      fill: #174EA6;\n",
              "    }\n",
              "\n",
              "    [theme=dark] .colab-df-convert {\n",
              "      background-color: #3B4455;\n",
              "      fill: #D2E3FC;\n",
              "    }\n",
              "\n",
              "    [theme=dark] .colab-df-convert:hover {\n",
              "      background-color: #434B5C;\n",
              "      box-shadow: 0px 1px 3px 1px rgba(0, 0, 0, 0.15);\n",
              "      filter: drop-shadow(0px 1px 2px rgba(0, 0, 0, 0.3));\n",
              "      fill: #FFFFFF;\n",
              "    }\n",
              "  </style>\n",
              "\n",
              "      <script>\n",
              "        const buttonEl =\n",
              "          document.querySelector('#df-e96797b7-fa89-4742-be18-9ea5931f7b89 button.colab-df-convert');\n",
              "        buttonEl.style.display =\n",
              "          google.colab.kernel.accessAllowed ? 'block' : 'none';\n",
              "\n",
              "        async function convertToInteractive(key) {\n",
              "          const element = document.querySelector('#df-e96797b7-fa89-4742-be18-9ea5931f7b89');\n",
              "          const dataTable =\n",
              "            await google.colab.kernel.invokeFunction('convertToInteractive',\n",
              "                                                     [key], {});\n",
              "          if (!dataTable) return;\n",
              "\n",
              "          const docLinkHtml = 'Like what you see? Visit the ' +\n",
              "            '<a target=\"_blank\" href=https://colab.research.google.com/notebooks/data_table.ipynb>data table notebook</a>'\n",
              "            + ' to learn more about interactive tables.';\n",
              "          element.innerHTML = '';\n",
              "          dataTable['output_type'] = 'display_data';\n",
              "          await google.colab.output.renderOutput(dataTable, element);\n",
              "          const docLink = document.createElement('div');\n",
              "          docLink.innerHTML = docLinkHtml;\n",
              "          element.appendChild(docLink);\n",
              "        }\n",
              "      </script>\n",
              "    </div>\n",
              "  </div>\n",
              "  "
            ]
          },
          "metadata": {},
          "execution_count": 74
        }
      ]
    },
    {
      "cell_type": "markdown",
      "source": [
        "Analisando o dataset, foi possível notar que existem alguns registros com nomes similares, que eu considerei como registros duplicados, pois se referem à mesma coisa, porém com nome ligeiramente diferente. Então faremos o tratamento desses registros modificando o nome para padronizar tudo."
      ],
      "metadata": {
        "id": "qYWkLCYW008O"
      }
    },
    {
      "cell_type": "code",
      "source": [
        "# Ajustando registros duplicados com nomes incorretos.\n",
        "df['Destino'] = df['Destino'].replace('Paris', 'Paris, France').replace('Bali', 'Bali, Indonesia').replace('Tokyo', 'Tokyo, Japan').replace('Sydney', 'Sydney, Aus').replace('Rome', 'Rome, Italy').replace('New York', 'New York, USA').replace('Bangkok', 'Bangkok, Thailand').replace('Barcelona', 'Barcelona, Spain').replace('Cape Town', 'Cape Town, SA').replace('Dubai', 'Dubai, United Arab Emirates').replace('Bangkok, Thai', 'Bangkok, Thailand').replace('Phuket', 'Phuket, Thailand').replace('Santorini', 'Santorini, Greece').replace('Seoul', 'Seoul, South Korea').replace('Rio de Janeiro', 'Rio de Janeiro, Brazil').replace('Amsterdam', 'Amsterdam, Netherlands').replace('Sydney, AUS', 'Sydney, Aus').replace('Phuket, Thai', 'Phuket, Thailand').replace('London', 'London, UK').replace('Cape Town, SA', 'Cape Town, South Africa').replace('Sydney, Aus', 'Sydney, Australia').replace('New York, USA', 'New York City, USA').str.strip()"
      ],
      "metadata": {
        "id": "qiJC2EBLacCt"
      },
      "execution_count": 75,
      "outputs": []
    },
    {
      "cell_type": "code",
      "source": [
        "df['Nacionalidade do viajante'] = df['Nacionalidade do viajante'].replace('USA', 'American').replace('United Kingdom', 'British').replace('UK', 'British').replace('South Korea', 'South Korean').replace('Taiwan', 'Taiwanese').replace('Canada', 'Canadian').replace('Brazil', 'Brazilian').replace('United Arab Emirates', 'Emirati').replace('Italy', 'Italian').replace('Germany', 'German').replace('Japan', 'Japanese').replace('Spain', 'Spanish').replace('China', 'Chinese').replace('Seoul', 'Seoul, South Korea').replace('Rio de Janeiro', 'Rio de Janeiro, Brazil').replace('Amsterdam', 'Amsterdam, Netherlands').replace('Sydney, AUS', 'Sydney, Aus').replace('Phuket, Thai', 'Phuket, Thailand').replace('London', 'London, UK').replace('Cape Town, SA', 'Cape Town, South Africa').replace('Sydney, Aus', 'Sydney, Australia').replace('New York, USA', 'New York City, USA').str.strip()"
      ],
      "metadata": {
        "id": "dtHVp_MVfZiT"
      },
      "execution_count": 76,
      "outputs": []
    },
    {
      "cell_type": "code",
      "source": [
        "df['Tipo de transporte'] = df['Tipo de transporte'].replace('Plane', 'Airplane').replace('Flight', 'Airplane').str.strip()"
      ],
      "metadata": {
        "id": "S2Cih-OUgHap"
      },
      "execution_count": 77,
      "outputs": []
    },
    {
      "cell_type": "markdown",
      "source": [
        "Como anteriormente só tratamos os valores nulos das colunas específicas de números, é importante checar se existem valores nulos nas outras colunas também."
      ],
      "metadata": {
        "id": "rMtea0IZ1ptb"
      }
    },
    {
      "cell_type": "code",
      "source": [
        "# Verificando se ainda existem valores nulos.\n",
        "df.isna().sum()"
      ],
      "metadata": {
        "colab": {
          "base_uri": "https://localhost:8080/"
        },
        "id": "hDcFS_8AJNYT",
        "outputId": "21466768-23ce-4ab1-869d-f1db55b05e72"
      },
      "execution_count": 78,
      "outputs": [
        {
          "output_type": "execute_result",
          "data": {
            "text/plain": [
              "ID da viagem                 0\n",
              "Destino                      2\n",
              "Começo da viagem             2\n",
              "Fim da viagem                2\n",
              "Duração (dias)               0\n",
              "Idade do viajante            0\n",
              "Sexo do viajante             2\n",
              "Nacionalidade do viajante    2\n",
              "Tipo de acomodação           2\n",
              "Custo da acomodação          0\n",
              "Tipo de transporte           3\n",
              "Custo do transporte          0\n",
              "Custo total                  0\n",
              "dtype: int64"
            ]
          },
          "metadata": {},
          "execution_count": 78
        }
      ]
    },
    {
      "cell_type": "code",
      "source": [
        "# Substituindo valores valores nulos pela moda.\n",
        "df['Destino'] = df['Destino'].fillna('Paris, France')\n",
        "df['Começo da viagem'] = df['Começo da viagem'].fillna('1/1/2023')\n",
        "df['Fim da viagem'] = df['Fim da viagem'].fillna('1/8/2023')\n",
        "df['Sexo do viajante'] = df['Sexo do viajante'].fillna('Female')\n",
        "df['Nacionalidade do viajante'] = df['Nacionalidade do viajante'].fillna('American')\n",
        "df['Tipo de acomodação'] = df['Tipo de acomodação'].fillna('Hotel')\n",
        "df['Tipo de transporte'] = df['Tipo de transporte'].fillna('Airplane')"
      ],
      "metadata": {
        "id": "pjqOSK9lWJwb"
      },
      "execution_count": 79,
      "outputs": []
    },
    {
      "cell_type": "code",
      "source": [
        "# Verificando se ainda existem valores nulos depois da transformação.\n",
        "df.isna().sum()"
      ],
      "metadata": {
        "colab": {
          "base_uri": "https://localhost:8080/"
        },
        "id": "ANkkBVIHhMam",
        "outputId": "b3c97a56-4d28-4d1c-fcdd-feacbe8e3290"
      },
      "execution_count": 80,
      "outputs": [
        {
          "output_type": "execute_result",
          "data": {
            "text/plain": [
              "ID da viagem                 0\n",
              "Destino                      0\n",
              "Começo da viagem             0\n",
              "Fim da viagem                0\n",
              "Duração (dias)               0\n",
              "Idade do viajante            0\n",
              "Sexo do viajante             0\n",
              "Nacionalidade do viajante    0\n",
              "Tipo de acomodação           0\n",
              "Custo da acomodação          0\n",
              "Tipo de transporte           0\n",
              "Custo do transporte          0\n",
              "Custo total                  0\n",
              "dtype: int64"
            ]
          },
          "metadata": {},
          "execution_count": 80
        }
      ]
    },
    {
      "cell_type": "markdown",
      "source": [
        "### **4.3 Análise dos Dados**\n",
        "\n",
        "Vamos analisar os dados respondendo às perguntas propostas no começo desse notebook."
      ],
      "metadata": {
        "id": "141OYqv7hqOx"
      }
    },
    {
      "cell_type": "code",
      "source": [
        "df"
      ],
      "metadata": {
        "colab": {
          "base_uri": "https://localhost:8080/",
          "height": 730
        },
        "id": "gndDPSfphSO8",
        "outputId": "6ad0241e-1969-4d03-95c1-bb98a2922062"
      },
      "execution_count": 81,
      "outputs": [
        {
          "output_type": "execute_result",
          "data": {
            "text/plain": [
              "     ID da viagem                 Destino Começo da viagem Fim da viagem  \\\n",
              "0               1              London, UK       2023-05-01    2023-05-08   \n",
              "1               2        Phuket, Thailand       2023-06-15    2023-06-20   \n",
              "2               3         Bali, Indonesia       2023-07-01    2023-07-08   \n",
              "3               4      New York City, USA       2023-08-15    2023-08-29   \n",
              "4               5            Tokyo, Japan       2023-09-10    2023-09-17   \n",
              "..            ...                     ...              ...           ...   \n",
              "134           135  Rio de Janeiro, Brazil       2023-08-01    2023-08-10   \n",
              "135           136       Vancouver, Canada       2023-08-15    2023-08-21   \n",
              "136           137       Bangkok, Thailand       2023-09-01    2023-09-08   \n",
              "137           138        Barcelona, Spain       2023-09-15    2023-09-22   \n",
              "138           139   Auckland, New Zealand       2023-10-01    2023-10-08   \n",
              "\n",
              "     Duração (dias)  Idade do viajante Sexo do viajante  \\\n",
              "0                 7                 35             Male   \n",
              "1                 5                 28           Female   \n",
              "2                 7                 45             Male   \n",
              "3                14                 29           Female   \n",
              "4                 7                 26           Female   \n",
              "..              ...                ...              ...   \n",
              "134               9                 37             Male   \n",
              "135               6                 29           Female   \n",
              "136               7                 34             Male   \n",
              "137               7                 25           Female   \n",
              "138               7                 39             Male   \n",
              "\n",
              "    Nacionalidade do viajante Tipo de acomodação  Custo da acomodação  \\\n",
              "0                    American              Hotel                 1200   \n",
              "1                    Canadian             Resort                  800   \n",
              "2                      Korean              Villa                 1000   \n",
              "3                     British              Hotel                 2000   \n",
              "4                  Vietnamese             Airbnb                  700   \n",
              "..                        ...                ...                  ...   \n",
              "134                 Brazilian             Hostel                 2500   \n",
              "135                  Canadian              Hotel                 5000   \n",
              "136                   Chinese             Hostel                 2000   \n",
              "137                   Spanish             Airbnb                 6000   \n",
              "138             New Zealander              Hotel                 7000   \n",
              "\n",
              "    Tipo de transporte  Custo do transporte  Custo total  \n",
              "0             Airplane                  600         1800  \n",
              "1             Airplane                  500         1300  \n",
              "2             Airplane                  700         1700  \n",
              "3             Airplane                 1000         3000  \n",
              "4                Train                  200          900  \n",
              "..                 ...                  ...          ...  \n",
              "134                Car                 2000         4500  \n",
              "135           Airplane                 3000         8000  \n",
              "136              Train                 1000         3000  \n",
              "137           Airplane                 2500         8500  \n",
              "138              Train                 2500         9500  \n",
              "\n",
              "[139 rows x 13 columns]"
            ],
            "text/html": [
              "\n",
              "  <div id=\"df-779588e0-d1ec-4615-a09f-f10f147865b7\">\n",
              "    <div class=\"colab-df-container\">\n",
              "      <div>\n",
              "<style scoped>\n",
              "    .dataframe tbody tr th:only-of-type {\n",
              "        vertical-align: middle;\n",
              "    }\n",
              "\n",
              "    .dataframe tbody tr th {\n",
              "        vertical-align: top;\n",
              "    }\n",
              "\n",
              "    .dataframe thead th {\n",
              "        text-align: right;\n",
              "    }\n",
              "</style>\n",
              "<table border=\"1\" class=\"dataframe\">\n",
              "  <thead>\n",
              "    <tr style=\"text-align: right;\">\n",
              "      <th></th>\n",
              "      <th>ID da viagem</th>\n",
              "      <th>Destino</th>\n",
              "      <th>Começo da viagem</th>\n",
              "      <th>Fim da viagem</th>\n",
              "      <th>Duração (dias)</th>\n",
              "      <th>Idade do viajante</th>\n",
              "      <th>Sexo do viajante</th>\n",
              "      <th>Nacionalidade do viajante</th>\n",
              "      <th>Tipo de acomodação</th>\n",
              "      <th>Custo da acomodação</th>\n",
              "      <th>Tipo de transporte</th>\n",
              "      <th>Custo do transporte</th>\n",
              "      <th>Custo total</th>\n",
              "    </tr>\n",
              "  </thead>\n",
              "  <tbody>\n",
              "    <tr>\n",
              "      <th>0</th>\n",
              "      <td>1</td>\n",
              "      <td>London, UK</td>\n",
              "      <td>2023-05-01</td>\n",
              "      <td>2023-05-08</td>\n",
              "      <td>7</td>\n",
              "      <td>35</td>\n",
              "      <td>Male</td>\n",
              "      <td>American</td>\n",
              "      <td>Hotel</td>\n",
              "      <td>1200</td>\n",
              "      <td>Airplane</td>\n",
              "      <td>600</td>\n",
              "      <td>1800</td>\n",
              "    </tr>\n",
              "    <tr>\n",
              "      <th>1</th>\n",
              "      <td>2</td>\n",
              "      <td>Phuket, Thailand</td>\n",
              "      <td>2023-06-15</td>\n",
              "      <td>2023-06-20</td>\n",
              "      <td>5</td>\n",
              "      <td>28</td>\n",
              "      <td>Female</td>\n",
              "      <td>Canadian</td>\n",
              "      <td>Resort</td>\n",
              "      <td>800</td>\n",
              "      <td>Airplane</td>\n",
              "      <td>500</td>\n",
              "      <td>1300</td>\n",
              "    </tr>\n",
              "    <tr>\n",
              "      <th>2</th>\n",
              "      <td>3</td>\n",
              "      <td>Bali, Indonesia</td>\n",
              "      <td>2023-07-01</td>\n",
              "      <td>2023-07-08</td>\n",
              "      <td>7</td>\n",
              "      <td>45</td>\n",
              "      <td>Male</td>\n",
              "      <td>Korean</td>\n",
              "      <td>Villa</td>\n",
              "      <td>1000</td>\n",
              "      <td>Airplane</td>\n",
              "      <td>700</td>\n",
              "      <td>1700</td>\n",
              "    </tr>\n",
              "    <tr>\n",
              "      <th>3</th>\n",
              "      <td>4</td>\n",
              "      <td>New York City, USA</td>\n",
              "      <td>2023-08-15</td>\n",
              "      <td>2023-08-29</td>\n",
              "      <td>14</td>\n",
              "      <td>29</td>\n",
              "      <td>Female</td>\n",
              "      <td>British</td>\n",
              "      <td>Hotel</td>\n",
              "      <td>2000</td>\n",
              "      <td>Airplane</td>\n",
              "      <td>1000</td>\n",
              "      <td>3000</td>\n",
              "    </tr>\n",
              "    <tr>\n",
              "      <th>4</th>\n",
              "      <td>5</td>\n",
              "      <td>Tokyo, Japan</td>\n",
              "      <td>2023-09-10</td>\n",
              "      <td>2023-09-17</td>\n",
              "      <td>7</td>\n",
              "      <td>26</td>\n",
              "      <td>Female</td>\n",
              "      <td>Vietnamese</td>\n",
              "      <td>Airbnb</td>\n",
              "      <td>700</td>\n",
              "      <td>Train</td>\n",
              "      <td>200</td>\n",
              "      <td>900</td>\n",
              "    </tr>\n",
              "    <tr>\n",
              "      <th>...</th>\n",
              "      <td>...</td>\n",
              "      <td>...</td>\n",
              "      <td>...</td>\n",
              "      <td>...</td>\n",
              "      <td>...</td>\n",
              "      <td>...</td>\n",
              "      <td>...</td>\n",
              "      <td>...</td>\n",
              "      <td>...</td>\n",
              "      <td>...</td>\n",
              "      <td>...</td>\n",
              "      <td>...</td>\n",
              "      <td>...</td>\n",
              "    </tr>\n",
              "    <tr>\n",
              "      <th>134</th>\n",
              "      <td>135</td>\n",
              "      <td>Rio de Janeiro, Brazil</td>\n",
              "      <td>2023-08-01</td>\n",
              "      <td>2023-08-10</td>\n",
              "      <td>9</td>\n",
              "      <td>37</td>\n",
              "      <td>Male</td>\n",
              "      <td>Brazilian</td>\n",
              "      <td>Hostel</td>\n",
              "      <td>2500</td>\n",
              "      <td>Car</td>\n",
              "      <td>2000</td>\n",
              "      <td>4500</td>\n",
              "    </tr>\n",
              "    <tr>\n",
              "      <th>135</th>\n",
              "      <td>136</td>\n",
              "      <td>Vancouver, Canada</td>\n",
              "      <td>2023-08-15</td>\n",
              "      <td>2023-08-21</td>\n",
              "      <td>6</td>\n",
              "      <td>29</td>\n",
              "      <td>Female</td>\n",
              "      <td>Canadian</td>\n",
              "      <td>Hotel</td>\n",
              "      <td>5000</td>\n",
              "      <td>Airplane</td>\n",
              "      <td>3000</td>\n",
              "      <td>8000</td>\n",
              "    </tr>\n",
              "    <tr>\n",
              "      <th>136</th>\n",
              "      <td>137</td>\n",
              "      <td>Bangkok, Thailand</td>\n",
              "      <td>2023-09-01</td>\n",
              "      <td>2023-09-08</td>\n",
              "      <td>7</td>\n",
              "      <td>34</td>\n",
              "      <td>Male</td>\n",
              "      <td>Chinese</td>\n",
              "      <td>Hostel</td>\n",
              "      <td>2000</td>\n",
              "      <td>Train</td>\n",
              "      <td>1000</td>\n",
              "      <td>3000</td>\n",
              "    </tr>\n",
              "    <tr>\n",
              "      <th>137</th>\n",
              "      <td>138</td>\n",
              "      <td>Barcelona, Spain</td>\n",
              "      <td>2023-09-15</td>\n",
              "      <td>2023-09-22</td>\n",
              "      <td>7</td>\n",
              "      <td>25</td>\n",
              "      <td>Female</td>\n",
              "      <td>Spanish</td>\n",
              "      <td>Airbnb</td>\n",
              "      <td>6000</td>\n",
              "      <td>Airplane</td>\n",
              "      <td>2500</td>\n",
              "      <td>8500</td>\n",
              "    </tr>\n",
              "    <tr>\n",
              "      <th>138</th>\n",
              "      <td>139</td>\n",
              "      <td>Auckland, New Zealand</td>\n",
              "      <td>2023-10-01</td>\n",
              "      <td>2023-10-08</td>\n",
              "      <td>7</td>\n",
              "      <td>39</td>\n",
              "      <td>Male</td>\n",
              "      <td>New Zealander</td>\n",
              "      <td>Hotel</td>\n",
              "      <td>7000</td>\n",
              "      <td>Train</td>\n",
              "      <td>2500</td>\n",
              "      <td>9500</td>\n",
              "    </tr>\n",
              "  </tbody>\n",
              "</table>\n",
              "<p>139 rows × 13 columns</p>\n",
              "</div>\n",
              "      <button class=\"colab-df-convert\" onclick=\"convertToInteractive('df-779588e0-d1ec-4615-a09f-f10f147865b7')\"\n",
              "              title=\"Convert this dataframe to an interactive table.\"\n",
              "              style=\"display:none;\">\n",
              "        \n",
              "  <svg xmlns=\"http://www.w3.org/2000/svg\" height=\"24px\"viewBox=\"0 0 24 24\"\n",
              "       width=\"24px\">\n",
              "    <path d=\"M0 0h24v24H0V0z\" fill=\"none\"/>\n",
              "    <path d=\"M18.56 5.44l.94 2.06.94-2.06 2.06-.94-2.06-.94-.94-2.06-.94 2.06-2.06.94zm-11 1L8.5 8.5l.94-2.06 2.06-.94-2.06-.94L8.5 2.5l-.94 2.06-2.06.94zm10 10l.94 2.06.94-2.06 2.06-.94-2.06-.94-.94-2.06-.94 2.06-2.06.94z\"/><path d=\"M17.41 7.96l-1.37-1.37c-.4-.4-.92-.59-1.43-.59-.52 0-1.04.2-1.43.59L10.3 9.45l-7.72 7.72c-.78.78-.78 2.05 0 2.83L4 21.41c.39.39.9.59 1.41.59.51 0 1.02-.2 1.41-.59l7.78-7.78 2.81-2.81c.8-.78.8-2.07 0-2.86zM5.41 20L4 18.59l7.72-7.72 1.47 1.35L5.41 20z\"/>\n",
              "  </svg>\n",
              "      </button>\n",
              "      \n",
              "  <style>\n",
              "    .colab-df-container {\n",
              "      display:flex;\n",
              "      flex-wrap:wrap;\n",
              "      gap: 12px;\n",
              "    }\n",
              "\n",
              "    .colab-df-convert {\n",
              "      background-color: #E8F0FE;\n",
              "      border: none;\n",
              "      border-radius: 50%;\n",
              "      cursor: pointer;\n",
              "      display: none;\n",
              "      fill: #1967D2;\n",
              "      height: 32px;\n",
              "      padding: 0 0 0 0;\n",
              "      width: 32px;\n",
              "    }\n",
              "\n",
              "    .colab-df-convert:hover {\n",
              "      background-color: #E2EBFA;\n",
              "      box-shadow: 0px 1px 2px rgba(60, 64, 67, 0.3), 0px 1px 3px 1px rgba(60, 64, 67, 0.15);\n",
              "      fill: #174EA6;\n",
              "    }\n",
              "\n",
              "    [theme=dark] .colab-df-convert {\n",
              "      background-color: #3B4455;\n",
              "      fill: #D2E3FC;\n",
              "    }\n",
              "\n",
              "    [theme=dark] .colab-df-convert:hover {\n",
              "      background-color: #434B5C;\n",
              "      box-shadow: 0px 1px 3px 1px rgba(0, 0, 0, 0.15);\n",
              "      filter: drop-shadow(0px 1px 2px rgba(0, 0, 0, 0.3));\n",
              "      fill: #FFFFFF;\n",
              "    }\n",
              "  </style>\n",
              "\n",
              "      <script>\n",
              "        const buttonEl =\n",
              "          document.querySelector('#df-779588e0-d1ec-4615-a09f-f10f147865b7 button.colab-df-convert');\n",
              "        buttonEl.style.display =\n",
              "          google.colab.kernel.accessAllowed ? 'block' : 'none';\n",
              "\n",
              "        async function convertToInteractive(key) {\n",
              "          const element = document.querySelector('#df-779588e0-d1ec-4615-a09f-f10f147865b7');\n",
              "          const dataTable =\n",
              "            await google.colab.kernel.invokeFunction('convertToInteractive',\n",
              "                                                     [key], {});\n",
              "          if (!dataTable) return;\n",
              "\n",
              "          const docLinkHtml = 'Like what you see? Visit the ' +\n",
              "            '<a target=\"_blank\" href=https://colab.research.google.com/notebooks/data_table.ipynb>data table notebook</a>'\n",
              "            + ' to learn more about interactive tables.';\n",
              "          element.innerHTML = '';\n",
              "          dataTable['output_type'] = 'display_data';\n",
              "          await google.colab.output.renderOutput(dataTable, element);\n",
              "          const docLink = document.createElement('div');\n",
              "          docLink.innerHTML = docLinkHtml;\n",
              "          element.appendChild(docLink);\n",
              "        }\n",
              "      </script>\n",
              "    </div>\n",
              "  </div>\n",
              "  "
            ]
          },
          "metadata": {},
          "execution_count": 81
        }
      ]
    },
    {
      "cell_type": "markdown",
      "source": [
        "**1) Qual a primeira e última data de viagem registrada?**"
      ],
      "metadata": {
        "id": "ElYrpWpk3RNn"
      }
    },
    {
      "cell_type": "code",
      "source": [
        "print('Primeira data de viagem registrada: ',df['Começo da viagem'].min())\n",
        "print('Última data de viagem registrada: ',df['Começo da viagem'].max())"
      ],
      "metadata": {
        "colab": {
          "base_uri": "https://localhost:8080/"
        },
        "id": "9vr8j1gbiCCC",
        "outputId": "78f6ae09-d2fa-4de4-8c68-53f77ec84b0c"
      },
      "execution_count": 82,
      "outputs": [
        {
          "output_type": "stream",
          "name": "stdout",
          "text": [
            "Primeira data de viagem registrada:  2021-06-15 00:00:00\n",
            "Última data de viagem registrada:  2025-05-21 00:00:00\n"
          ]
        }
      ]
    },
    {
      "cell_type": "markdown",
      "source": [
        "Podemos supor que se trata de um dataset com dados fictícios, pois tem data de viagem em 2024 e 2025 e essa análise está sendo feito em Abril de 2023, ou então o dataset contém dados de viajens programadas que ainda não foram concretizadas. A amostragem é bem pequena também, pois os dados são de viagens feitas entre os anos de 2021 e 2025."
      ],
      "metadata": {
        "id": "iaAazpmivIoG"
      }
    },
    {
      "cell_type": "markdown",
      "source": [
        "**2) Qual o destino mais visitado?**"
      ],
      "metadata": {
        "id": "PauOcpJz3hMD"
      }
    },
    {
      "cell_type": "code",
      "source": [
        "dest_qtd = dict(df['Destino'].value_counts())\n",
        "\n",
        "fig, ax = plt.subplots(figsize=(15, 5))\n",
        "ax.bar(dest_qtd.keys(), dest_qtd.values(), width=1, edgecolor=\"white\", linewidth=0.7)\n",
        "plt.xticks(rotation=90)\n",
        "\n",
        "for i, v in enumerate(dest_qtd.values()):\n",
        "    ax.text(i, v + 0.2, str(v), ha='center')\n",
        "\n",
        "ax.set_title('Contagem de visitas por destino')\n",
        "ax.set_xlabel('Destino')\n",
        "ax.set_ylabel('Visitas')\n",
        "\n",
        "plt.show()"
      ],
      "metadata": {
        "colab": {
          "base_uri": "https://localhost:8080/",
          "height": 503
        },
        "id": "nIo08KxGi1QP",
        "outputId": "63c30d18-7ae6-4d5b-9454-b88cce79910b"
      },
      "execution_count": 83,
      "outputs": [
        {
          "output_type": "display_data",
          "data": {
            "text/plain": [
              "<Figure size 1500x500 with 1 Axes>"
            ],
            "image/png": "[encoded data removed]"
          },
          "metadata": {}
        }
      ]
    },
    {
      "cell_type": "markdown",
      "source": [
        "O destino mais visitado foi Paris, na França com 16 registros."
      ],
      "metadata": {
        "id": "JZWbHfdi4EoI"
      }
    },
    {
      "cell_type": "markdown",
      "source": [
        "**3) Desse destino mais visitado, quais foram as nacionalidades que mais visitaram?**"
      ],
      "metadata": {
        "id": "6YTR-60I3plo"
      }
    },
    {
      "cell_type": "code",
      "source": [
        "visitas_paris = df[ df['Destino'] == 'Paris, France' ]\n",
        "visit_paris_qtd = dict(visitas_paris['Nacionalidade do viajante'].value_counts())\n",
        "\n",
        "fig, ax = plt.subplots(figsize=(10, 5))\n",
        "ax.bar(visit_paris_qtd.keys(), visit_paris_qtd.values())\n",
        "plt.xticks(rotation=50, fontsize = 'small')\n",
        "\n",
        "for i, v in enumerate(visit_paris_qtd.values()):\n",
        "    ax.text(i, v + 0.2, str(v), ha='center')\n",
        "\n",
        "ax.set_title('Contagem de nacionalidades que visitaram Paris, France')\n",
        "ax.set_xlabel('Nacionalidade')\n",
        "ax.set_ylabel('Visitas')\n",
        "\n",
        "ax.set(ylim=(0, 12), yticks=np.arange(1, 12))\n",
        "\n",
        "plt.show()"
      ],
      "metadata": {
        "colab": {
          "base_uri": "https://localhost:8080/",
          "height": 534
        },
        "id": "K1pkY7ln9i37",
        "outputId": "eed37584-6edd-4d8a-db0f-3d321747d708"
      },
      "execution_count": 84,
      "outputs": [
        {
          "output_type": "display_data",
          "data": {
            "text/plain": [
              "<Figure size 1000x500 with 1 Axes>"
            ],
            "image/png": "[encoded data removed]"
          },
          "metadata": {}
        }
      ]
    },
    {
      "cell_type": "markdown",
      "source": [
        "Os Americanos são os que mais visitam Paris na França, com 11 registros."
      ],
      "metadata": {
        "id": "k4g5x68Q-On3"
      }
    },
    {
      "cell_type": "markdown",
      "source": [
        "**4) Qual a duração média das viagens?**"
      ],
      "metadata": {
        "id": "bhj8IbtY3vyf"
      }
    },
    {
      "cell_type": "code",
      "source": [
        "dur_med = round(df['Duração (dias)'].mean())\n",
        "print('A duração média das viagens é de:', dur_med, 'dias')"
      ],
      "metadata": {
        "colab": {
          "base_uri": "https://localhost:8080/"
        },
        "id": "ld-tMNac96UR",
        "outputId": "17d61d62-9bc5-44fb-8f60-6e67208cdfbf"
      },
      "execution_count": 85,
      "outputs": [
        {
          "output_type": "stream",
          "name": "stdout",
          "text": [
            "A duração média das viagens é de: 8 dias\n"
          ]
        }
      ]
    },
    {
      "cell_type": "markdown",
      "source": [
        "**5) Qual a duração de viagem mais comum?**"
      ],
      "metadata": {
        "id": "g-i1DzfC38YH"
      }
    },
    {
      "cell_type": "code",
      "source": [
        "dur_mod = df['Duração (dias)'].mode().tolist()[0]\n",
        "print('A duração de viagem mais frequente é de:', dur_mod, 'dias')"
      ],
      "metadata": {
        "colab": {
          "base_uri": "https://localhost:8080/"
        },
        "id": "J-QVv1bP_5pq",
        "outputId": "db111e0d-98bc-4e44-cbf7-83ddbf3551ce"
      },
      "execution_count": 86,
      "outputs": [
        {
          "output_type": "stream",
          "name": "stdout",
          "text": [
            "A duração de viagem mais frequente é de: 7 dias\n"
          ]
        }
      ]
    },
    {
      "cell_type": "markdown",
      "source": [
        "**6) Qual a média da idade dos viajantes?**"
      ],
      "metadata": {
        "id": "krlGCwBj4Cwj"
      }
    },
    {
      "cell_type": "code",
      "source": [
        "idade_med = round(df['Idade do viajante'].mean())\n",
        "print('A idade média dos viajantes é de:', idade_med, 'anos')"
      ],
      "metadata": {
        "colab": {
          "base_uri": "https://localhost:8080/"
        },
        "id": "0frMaB0M-41w",
        "outputId": "5078adcf-35c7-4d75-bb8b-0aa72b237ecf"
      },
      "execution_count": 87,
      "outputs": [
        {
          "output_type": "stream",
          "name": "stdout",
          "text": [
            "A idade média dos viajantes é de: 33 anos\n"
          ]
        }
      ]
    },
    {
      "cell_type": "markdown",
      "source": [
        "**7) Quem viaja mais, homens ou mulheres?**"
      ],
      "metadata": {
        "id": "qmn4pRB94Ha3"
      }
    },
    {
      "cell_type": "code",
      "source": [
        "labels = df[\"Sexo do viajante\"].value_counts().index\n",
        "sizes = df[\"Sexo do viajante\"].value_counts()\n",
        "\n",
        "plt.figure(figsize = (3,3))\n",
        "plt.pie(sizes, labels=labels, rotatelabels=False, autopct='%1.1f%%')\n",
        "\n",
        "plt.title('Sexo do viajante',color = 'black',fontsize = 15)\n",
        "\n",
        "plt.show()"
      ],
      "metadata": {
        "colab": {
          "base_uri": "https://localhost:8080/",
          "height": 292
        },
        "id": "pp6fwzD7BukQ",
        "outputId": "7a69b341-029c-44db-e834-a0790bfe5357"
      },
      "execution_count": 88,
      "outputs": [
        {
          "output_type": "display_data",
          "data": {
            "text/plain": [
              "<Figure size 300x300 with 1 Axes>"
            ],
            "image/png": "[encoded data removed]"
          },
          "metadata": {}
        }
      ]
    },
    {
      "cell_type": "markdown",
      "source": [
        "O sexo feminino é o que mais viaja, porém a diferença é bem pequena (3,6%)."
      ],
      "metadata": {
        "id": "Mqc2-EXwJtOh"
      }
    },
    {
      "cell_type": "markdown",
      "source": [
        "**8) Qual o tipo de acomodação preferida?**"
      ],
      "metadata": {
        "id": "4iX6eQfj7Lka"
      }
    },
    {
      "cell_type": "code",
      "source": [
        "acomodacao_qtd = dict(df['Tipo de acomodação'].value_counts())\n",
        "\n",
        "fig, ax = plt.subplots(figsize=(10, 5))\n",
        "ax.bar(acomodacao_qtd.keys(), acomodacao_qtd.values())\n",
        "plt.xticks(rotation=50)\n",
        "\n",
        "for i, v in enumerate(acomodacao_qtd.values()):\n",
        "    ax.text(i, v + 0.7, str(v), ha='center')\n",
        "\n",
        "ax.set_title('Tipo de acomodação')\n",
        "ax.set_xlabel('Tipo')\n",
        "ax.set_ylabel('Quantidade')\n",
        "\n",
        "plt.show()"
      ],
      "metadata": {
        "colab": {
          "base_uri": "https://localhost:8080/",
          "height": 563
        },
        "id": "Aydn9OaODjCx",
        "outputId": "71161e73-0210-4ad0-f768-9f2d75267a71"
      },
      "execution_count": 89,
      "outputs": [
        {
          "output_type": "display_data",
          "data": {
            "text/plain": [
              "<Figure size 1000x500 with 1 Axes>"
            ],
            "image/png": "[encoded data removed]"
          },
          "metadata": {}
        }
      ]
    },
    {
      "cell_type": "markdown",
      "source": [
        "O Hotel é disparado o tipo de hospedagem mais escolhido pelos viajantes, com mais que o dobro de registros do segundo colocado, o Airbnb. Isso mostra que as pessoas buscam por conforto e praticidade."
      ],
      "metadata": {
        "id": "0AwgcgulMetH"
      }
    },
    {
      "cell_type": "markdown",
      "source": [
        "**9) Qual o meio de transporte preferido?**"
      ],
      "metadata": {
        "id": "ipUGTdL87SuY"
      }
    },
    {
      "cell_type": "code",
      "source": [
        "tnsp_qtd = dict(df['Tipo de transporte'].value_counts())\n",
        "\n",
        "fig, ax = plt.subplots(figsize=(10, 5))\n",
        "ax.bar(tnsp_qtd.keys(), tnsp_qtd.values())\n",
        "plt.xticks(rotation=50)\n",
        "\n",
        "for i, v in enumerate(tnsp_qtd.values()):\n",
        "    ax.text(i, v + 0.7, str(v), ha='center')\n",
        "\n",
        "ax.set_title('Tipo de transporte')\n",
        "ax.set_xlabel('Tipo')\n",
        "ax.set_ylabel('Quantidade')\n",
        "\n",
        "plt.show()"
      ],
      "metadata": {
        "colab": {
          "base_uri": "https://localhost:8080/",
          "height": 535
        },
        "id": "6IHMdZDoMbqb",
        "outputId": "42c67d39-2169-40fa-ccc7-d818d96e7d3e"
      },
      "execution_count": 90,
      "outputs": [
        {
          "output_type": "display_data",
          "data": {
            "text/plain": [
              "<Figure size 1000x500 with 1 Axes>"
            ],
            "image/png": "[encoded data removed]"
          },
          "metadata": {}
        }
      ]
    },
    {
      "cell_type": "markdown",
      "source": [
        "O Avião é o meio de transporte mais utilizado pelos viajantes, com mais da metade dos registros. Isso mostra que as viagens são para destinos mais distantes, que não são acessíveis apenas por trêm, carro e ônibus."
      ],
      "metadata": {
        "id": "hcZXUP0yOBNr"
      }
    },
    {
      "cell_type": "markdown",
      "source": [
        "**10) Qual é o custo médio com a viagem (considerando apenas acomodação e transporte)?**"
      ],
      "metadata": {
        "id": "oJbqWHfS7a6_"
      }
    },
    {
      "cell_type": "code",
      "source": [
        "custo_med = round(df['Custo total'].mean())\n",
        "print('O custo médio com as viagens é de:', custo_med, 'dólares')"
      ],
      "metadata": {
        "colab": {
          "base_uri": "https://localhost:8080/"
        },
        "id": "I7Vfan_6GzWr",
        "outputId": "03dcea3d-b842-45cd-8111-fec9112a945b"
      },
      "execution_count": 91,
      "outputs": [
        {
          "output_type": "stream",
          "name": "stdout",
          "text": [
            "O custo médio com as viagens é de: 1893 dólares\n"
          ]
        }
      ]
    },
    {
      "cell_type": "markdown",
      "source": [
        "**11) Qual a porcentagem dos viajantes que visitaram o Brasil?**"
      ],
      "metadata": {
        "id": "nw_ZH10K7f8U"
      }
    },
    {
      "cell_type": "code",
      "source": [
        "df_copy = df.copy()\n",
        "df_copy['Destino'] = df_copy['Destino'].apply(lambda x: 'Brasil' if x == 'Rio de Janeiro, Brazil' or x == 'Brazil' else 'Outros')\n",
        "\n",
        "labels2 = df_copy[\"Destino\"].value_counts().index\n",
        "sizes2 = df_copy[\"Destino\"].value_counts()\n",
        "\n",
        "plt.figure(figsize = (3,3))\n",
        "plt.pie(sizes2, labels=labels2, rotatelabels=False, autopct='%1.1f%%')\n",
        "\n",
        "plt.title('Porcentagem dos viajantes que visitaram o Brasil',color = 'black',fontsize = 15)\n",
        "\n",
        "plt.show()"
      ],
      "metadata": {
        "colab": {
          "base_uri": "https://localhost:8080/",
          "height": 292
        },
        "id": "f5SeCGC4W1PJ",
        "outputId": "12d94df4-85f1-4524-aa13-fb63598b6f2a"
      },
      "execution_count": 92,
      "outputs": [
        {
          "output_type": "display_data",
          "data": {
            "text/plain": [
              "<Figure size 300x300 with 1 Axes>"
            ],
            "image/png": "[encoded data removed]"
          },
          "metadata": {}
        }
      ]
    },
    {
      "cell_type": "markdown",
      "source": [
        "**12) Quais as nacionalidades que mais visitaram o Brasil?**"
      ],
      "metadata": {
        "id": "A5_edJbo7l1O"
      }
    },
    {
      "cell_type": "code",
      "source": [
        "visitas_brasil = df_copy[ df_copy['Destino'] == 'Brasil' ]\n",
        "visit_brasil_qtd = dict(visitas_brasil['Nacionalidade do viajante'].value_counts())\n",
        "\n",
        "fig, ax = plt.subplots(figsize=(5, 2))\n",
        "ax.bar(visit_brasil_qtd.keys(), visit_brasil_qtd.values())\n",
        "plt.xticks(rotation=50, fontsize = 'small')\n",
        "\n",
        "for i, v in enumerate(visit_brasil_qtd.values()):\n",
        "    ax.text(i, v + 0.2, str(v), ha='center')\n",
        "\n",
        "ax.set_title('Contagem de nacionalidades que visitaram o Brasil')\n",
        "ax.set_xlabel('Nacionalidade')\n",
        "ax.set_ylabel('Visitas')\n",
        "\n",
        "ax.set(ylim=(0, 6), yticks=np.arange(1, 6))\n",
        "\n",
        "plt.show()"
      ],
      "metadata": {
        "colab": {
          "base_uri": "https://localhost:8080/",
          "height": 296
        },
        "id": "ec43trlzWDa9",
        "outputId": "bb6b9f8d-e744-4896-a421-469da9880c28"
      },
      "execution_count": 93,
      "outputs": [
        {
          "output_type": "display_data",
          "data": {
            "text/plain": [
              "<Figure size 500x200 with 1 Axes>"
            ],
            "image/png": "[encoded data removed]"
          },
          "metadata": {}
        }
      ]
    },
    {
      "cell_type": "markdown",
      "source": [
        "Nota-se que a maioria dos visitantes do Brasil foram os próprios brasileiros, ou seja, há uma forte tendência de turismo doméstico. Por outro lado, nota-se que os viajantes de outros países não têm muito interesse em visitar o Brasil."
      ],
      "metadata": {
        "id": "QRuooIggaHkW"
      }
    },
    {
      "cell_type": "markdown",
      "source": [
        "**13) Qual é a duração mais comum dos visitantes do Brasil?**"
      ],
      "metadata": {
        "id": "aQSZjInd7trT"
      }
    },
    {
      "cell_type": "code",
      "source": [
        "df_copy_bra = df_copy[ df_copy['Destino'] == 'Brasil' ]\n",
        "dur_bra_mod = df_copy_bra['Duração (dias)'].mode().tolist()[0:2]\n",
        "print('A duração de viagem mais frequente para o Brasil é de:', dur_bra_mod, 'dias')\n"
      ],
      "metadata": {
        "colab": {
          "base_uri": "https://localhost:8080/"
        },
        "id": "Bd-J3NbJZ5_k",
        "outputId": "d3051cd4-bc6d-4296-ce03-6ed290ff4023"
      },
      "execution_count": 94,
      "outputs": [
        {
          "output_type": "stream",
          "name": "stdout",
          "text": [
            "A duração de viagem mais frequente para o Brasil é de: [7, 9] dias\n"
          ]
        }
      ]
    },
    {
      "cell_type": "markdown",
      "source": [
        "Nesse caso são mais frequentes o períodos de 7 dias e 9 dias de estadia. Seguindo uma tendência global que é de 7 dias de estadia."
      ],
      "metadata": {
        "id": "_FeDfALic6FD"
      }
    },
    {
      "cell_type": "markdown",
      "source": [
        "**14) Qual a média de idade dos viajantes que visitaram o Brasil?**"
      ],
      "metadata": {
        "id": "8B7FcTka7zUA"
      }
    },
    {
      "cell_type": "code",
      "source": [
        "idade_bra_med = round(df_copy_bra['Idade do viajante'].mean())\n",
        "print('A idade média dos viajantes é de:', idade_bra_med, 'anos')"
      ],
      "metadata": {
        "colab": {
          "base_uri": "https://localhost:8080/"
        },
        "id": "rVAtCNqGbLcB",
        "outputId": "2de69f82-b30a-4f5d-8f6c-ea24e85cb190"
      },
      "execution_count": 95,
      "outputs": [
        {
          "output_type": "stream",
          "name": "stdout",
          "text": [
            "A idade média dos viajantes é de: 31 anos\n"
          ]
        }
      ]
    },
    {
      "cell_type": "markdown",
      "source": [
        "A idade média dos que viajam ao Brasil fica abaixo da idade média dos viajantes global que é de 33 anos."
      ],
      "metadata": {
        "id": "mFuhmIWfdI4J"
      }
    },
    {
      "cell_type": "markdown",
      "source": [
        "**15) Qual o tipo de acomodação mais escolhido pelos visitantes do Brasil?**"
      ],
      "metadata": {
        "id": "s90P9g4-73qK"
      }
    },
    {
      "cell_type": "code",
      "source": [
        "acomodacao_bra_qtd = dict(df_copy_bra['Tipo de acomodação'].value_counts())\n",
        "\n",
        "fig, ax = plt.subplots(figsize=(5, 3))\n",
        "ax.bar(acomodacao_bra_qtd.keys(), acomodacao_bra_qtd.values())\n",
        "plt.xticks(rotation=50)\n",
        "\n",
        "for i, v in enumerate(acomodacao_bra_qtd.values()):\n",
        "    ax.text(i, v + 0.1, str(v), ha='center')\n",
        "\n",
        "ax.set_title('Tipo de acomodação dos que viajaram ao Brasil')\n",
        "ax.set_xlabel('Tipo')\n",
        "ax.set_ylabel('Quantidade')\n",
        "\n",
        "ax.set(ylim=(0, 3), yticks=np.arange(1, 3))\n",
        "\n",
        "plt.show()"
      ],
      "metadata": {
        "colab": {
          "base_uri": "https://localhost:8080/",
          "height": 363
        },
        "id": "ZGTfFhSMcsBk",
        "outputId": "e4b5dd58-c259-4e91-c29e-38efb3f58759"
      },
      "execution_count": 96,
      "outputs": [
        {
          "output_type": "display_data",
          "data": {
            "text/plain": [
              "<Figure size 500x300 with 1 Axes>"
            ],
            "image/png": "[encoded data removed]"
          },
          "metadata": {}
        }
      ]
    },
    {
      "cell_type": "markdown",
      "source": [
        "A preferência é igual por Airbnb, Hostel e Hotel. Bem diferente do que vemos sobre os viajantes globais."
      ],
      "metadata": {
        "id": "WwvXgk03hAOd"
      }
    },
    {
      "cell_type": "markdown",
      "source": [
        "**16) Qual o tipo de transporte mais escolhido pelos visitantes do Brasil?**"
      ],
      "metadata": {
        "id": "xKv2rmlG78Zz"
      }
    },
    {
      "cell_type": "code",
      "source": [
        "transporte_bra_qtd = dict(df_copy_bra['Tipo de transporte'].value_counts())\n",
        "\n",
        "fig, ax = plt.subplots(figsize=(5, 3))\n",
        "ax.bar(transporte_bra_qtd.keys(), transporte_bra_qtd.values())\n",
        "plt.xticks(rotation=50)\n",
        "\n",
        "for i, v in enumerate(transporte_bra_qtd.values()):\n",
        "    ax.text(i, v + 0.1, str(v), ha='center')\n",
        "\n",
        "ax.set_title('Tipo de transporte dos que viajaram ao Brasil')\n",
        "ax.set_xlabel('Tipo')\n",
        "ax.set_ylabel('Quantidade')\n",
        "\n",
        "ax.set(ylim=(0, 3), yticks=np.arange(1, 3))\n",
        "\n",
        "plt.show()"
      ],
      "metadata": {
        "colab": {
          "base_uri": "https://localhost:8080/",
          "height": 381
        },
        "id": "smIyo5G3g_fX",
        "outputId": "b9759014-b7ba-493a-be48-e060687ee7e9"
      },
      "execution_count": 97,
      "outputs": [
        {
          "output_type": "display_data",
          "data": {
            "text/plain": [
              "<Figure size 500x300 with 1 Axes>"
            ],
            "image/png": "[encoded data removed]"
          },
          "metadata": {}
        }
      ]
    },
    {
      "cell_type": "markdown",
      "source": [
        "A preferência do tipo de transporte é bem equilibrada também, isso é explicado devido aos viajantes serem de dentro do próprio Brasil, como vimos anteriormente, assim sendo, é viável viajar de ônibus, trêm e carro, ao contrário do que vemos sobre os viajantes globais."
      ],
      "metadata": {
        "id": "eqNe9S1lht3e"
      }
    },
    {
      "cell_type": "markdown",
      "source": [
        "**17) Qual é o custo médio com a viagem ao Brasil (considerando apenas acomodação e transporte)?**"
      ],
      "metadata": {
        "id": "V7uUFERq8GKV"
      }
    },
    {
      "cell_type": "code",
      "source": [
        "custo_bra_med = round(df_copy_bra['Custo total'].mean())\n",
        "print('O custo médio com as viagens é de:', custo_bra_med, 'dólares')"
      ],
      "metadata": {
        "colab": {
          "base_uri": "https://localhost:8080/"
        },
        "id": "_IA4itWfd3VC",
        "outputId": "9ad171de-d695-44dd-a7a4-1869f681c69c"
      },
      "execution_count": 98,
      "outputs": [
        {
          "output_type": "stream",
          "name": "stdout",
          "text": [
            "O custo médio com as viagens é de: 1725 dólares\n"
          ]
        }
      ]
    },
    {
      "cell_type": "markdown",
      "source": [
        "A média do custo das viagens ao Brasil segue bem próxima da média global."
      ],
      "metadata": {
        "id": "lJ3bSYxiizGi"
      }
    },
    {
      "cell_type": "markdown",
      "source": [
        "## **5. Relatório - Pandas Profiling**"
      ],
      "metadata": {
        "id": "p3eE54nkjNXl"
      }
    },
    {
      "cell_type": "code",
      "source": [
        "# Instalação.\n",
        "!pip install -q pandas-profiling\n",
        "!pip install -q ipywidgets\n",
        "\n",
        "# Uso.\n",
        "import pandas_profiling\n",
        "from pandas_profiling import ProfileReport\n",
        "profile = ProfileReport(df, title='EDA - Relatório sobre Viagens')\n",
        "profile.to_file(output_file='eda_relatorio_sobre_viagens.html')"
      ],
      "metadata": {
        "colab": {
          "base_uri": "https://localhost:8080/",
          "height": 373,
          "referenced_widgets": [
            "86e20630fc33489ea71fa06351be1578",
            "145aaeb009794612ae14e7baa4a2928d",
            "bb76f86d52504f418cd3234f5130d15f",
            "a6858ac54fad4e5993c7f79a2612bb7f",
            "af7f0250a28247eebc0fcc926dee4097",
            "2b9a55b7a65e4126bce21402ba8f0b8c",
            "3ba6809248c449cdb5115233d4f6fa69",
            "9f20693160d6427daab4318438c9a5ea",
            "7f4944c025ed4cb5a34af24bd1fd605f",
            "565d1beeaa504c6db1353ad59a724970",
            "2fc10b96a52f42609659bd8846c87942",
            "61a2e94f5abd4baf94d55abd31c120f8",
            "92dc7c803f3e4fb786f9b9f55da2f60b",
            "437ee329dada46059d2b5458f44f03e0",
            "647526a9b33e4e7bb6ae718f80612334",
            "53c7049e897e4f66984c94eb5e8dbac8",
            "45c41f7ed3aa415781228f2cdd3f7c32",
            "d8f5a0f79a684f959c31122206a18f9a",
            "db6655aa92ea4cefa92c259c163f1c85",
            "d38c4994026d4649810052d6811c01a7",
            "bbd6a01e2e024271970e53b86ba1c601",
            "4991185bf20d43a5a9fc61db29563493",
            "de57d7986acf4f8ea3ff9744155a7b82",
            "2eb97fbf98b14cdcbed103421b9744d6",
            "c0591893661444d294f9516a38e328bc",
            "9b9caad2b06644e98e886f2a7073970c",
            "4858509f82f34edfa27ad4f7bb285416",
            "f7af43af396a43b8b59599ec17292ef1",
            "09f977f9644b4845a3c7c1981f459e13",
            "6042e09919414a0eb671b252e804bb61",
            "323e4acb0a514adeaf4e117f0b1971ad",
            "8ae38e83df0b4e90abbdbf1ce067cc88",
            "8e8537eee80942f3a613aa929aac5bf0",
            "354804d811d54146b6808218687a7be3",
            "3b7f97eedf264b13a759384cd879140b",
            "a438c379674045b89f9babff161c759f",
            "f89ed764425948d0b07751d60760df2a",
            "bc34183fbf764294990f9422a7f55be7",
            "cc1efca2ca724e5199199c580a3b1d40",
            "232d9654ea964335bb3cc9c662706f07",
            "9308522ee63b452da9c0282b66fc58fe",
            "47cfaaca84a24858bfb4d52b8230dcfa",
            "da2d5ede4e17438080ff39411659c42a",
            "70ef393087de4fa9a0d0766070afb4f2"
          ]
        },
        "id": "1dLrrouBiWln",
        "outputId": "adb2a5f9-1122-467a-8e81-47b34cc63471"
      },
      "execution_count": 99,
      "outputs": [
        {
          "output_type": "stream",
          "name": "stdout",
          "text": [
            "\u001b[?25l     \u001b[90m━━━━━━━━━━━━━━━━━━━━━━━━━━━━━━━━━━━━━━━━\u001b[0m \u001b[32m0.0/324.4 kB\u001b[0m \u001b[31m?\u001b[0m eta \u001b[36m-:--:--\u001b[0m\r\u001b[2K     \u001b[90m━━━━━━━━━━━━━━━━━━━━━━━━━━━━━━━━━━━━━━\u001b[0m \u001b[32m324.4/324.4 kB\u001b[0m \u001b[31m12.9 MB/s\u001b[0m eta \u001b[36m0:00:00\u001b[0m\n",
            "\u001b[2K     \u001b[90m━━━━━━━━━━━━━━━━━━━━━━━━━━━━━━━━━━━━━━\u001b[0m \u001b[32m353.0/353.0 kB\u001b[0m \u001b[31m26.9 MB/s\u001b[0m eta \u001b[36m0:00:00\u001b[0m\n",
            "\u001b[2K     \u001b[90m━━━━━━━━━━━━━━━━━━━━━━━━━━━━━━━━━━━━━━━\u001b[0m \u001b[32m102.7/102.7 kB\u001b[0m \u001b[31m7.2 MB/s\u001b[0m eta \u001b[36m0:00:00\u001b[0m\n",
            "\u001b[?25h  Preparing metadata (setup.py) ... \u001b[?25l\u001b[?25hdone\n",
            "\u001b[2K     \u001b[90m━━━━━━━━━━━━━━━━━━━━━━━━━━━━━━━━━━━━━━\u001b[0m \u001b[32m679.5/679.5 kB\u001b[0m \u001b[31m41.4 MB/s\u001b[0m eta \u001b[36m0:00:00\u001b[0m\n",
            "\u001b[2K     \u001b[90m━━━━━━━━━━━━━━━━━━━━━━━━━━━━━━━━━━━━━━\u001b[0m \u001b[32m296.5/296.5 kB\u001b[0m \u001b[31m28.3 MB/s\u001b[0m eta \u001b[36m0:00:00\u001b[0m\n",
            "\u001b[2K     \u001b[90m━━━━━━━━━━━━━━━━━━━━━━━━━━━━━━━━━━━━━━\u001b[0m \u001b[32m455.4/455.4 kB\u001b[0m \u001b[31m34.7 MB/s\u001b[0m eta \u001b[36m0:00:00\u001b[0m\n",
            "\u001b[2K     \u001b[90m━━━━━━━━━━━━━━━━━━━━━━━━━━━━━━━━━━━━━━━━\u001b[0m \u001b[32m4.7/4.7 MB\u001b[0m \u001b[31m93.8 MB/s\u001b[0m eta \u001b[36m0:00:00\u001b[0m\n",
            "\u001b[?25h  Building wheel for htmlmin (setup.py) ... \u001b[?25l\u001b[?25hdone\n",
            "\u001b[2K     \u001b[90m━━━━━━━━━━━━━━━━━━━━━━━━━━━━━━━━━━━━━━━━\u001b[0m \u001b[32m1.6/1.6 MB\u001b[0m \u001b[31m34.6 MB/s\u001b[0m eta \u001b[36m0:00:00\u001b[0m\n",
            "\u001b[?25h"
          ]
        },
        {
          "output_type": "stream",
          "name": "stderr",
          "text": [
            "<ipython-input-99-673f9ad13cc6>:6: DeprecationWarning: `import pandas_profiling` is going to be deprecated by April 1st. Please use `import ydata_profiling` instead.\n",
            "  import pandas_profiling\n"
          ]
        },
        {
          "output_type": "display_data",
          "data": {
            "text/plain": [
              "Summarize dataset:   0%|          | 0/5 [00:00<?, ?it/s]"
            ],
            "application/vnd.jupyter.widget-view+json": {
              "version_major": 2,
              "version_minor": 0,
              "model_id": "86e20630fc33489ea71fa06351be1578"
            }
          },
          "metadata": {}
        },
        {
          "output_type": "display_data",
          "data": {
            "text/plain": [
              "Generate report structure:   0%|          | 0/1 [00:00<?, ?it/s]"
            ],
            "application/vnd.jupyter.widget-view+json": {
              "version_major": 2,
              "version_minor": 0,
              "model_id": "61a2e94f5abd4baf94d55abd31c120f8"
            }
          },
          "metadata": {}
        },
        {
          "output_type": "display_data",
          "data": {
            "text/plain": [
              "Render HTML:   0%|          | 0/1 [00:00<?, ?it/s]"
            ],
            "application/vnd.jupyter.widget-view+json": {
              "version_major": 2,
              "version_minor": 0,
              "model_id": "de57d7986acf4f8ea3ff9744155a7b82"
            }
          },
          "metadata": {}
        },
        {
          "output_type": "display_data",
          "data": {
            "text/plain": [
              "Export report to file:   0%|          | 0/1 [00:00<?, ?it/s]"
            ],
            "application/vnd.jupyter.widget-view+json": {
              "version_major": 2,
              "version_minor": 0,
              "model_id": "354804d811d54146b6808218687a7be3"
            }
          },
          "metadata": {}
        }
      ]
    },
    {
      "cell_type": "code",
      "source": [
        "# Baixando relatório para o computador.\n",
        "from google.colab import files\n",
        "files.download('eda_relatorio_sobre_viagens.html')"
      ],
      "metadata": {
        "colab": {
          "base_uri": "https://localhost:8080/",
          "height": 17
        },
        "id": "IC3jR6egj1ek",
        "outputId": "ed76a62b-52af-4b5d-9b61-1a77d83a7482"
      },
      "execution_count": 100,
      "outputs": [
        {
          "output_type": "display_data",
          "data": {
            "text/plain": [
              "<IPython.core.display.Javascript object>"
            ],
            "application/javascript": [
              "\n",
              "    async function download(id, filename, size) {\n",
              "      if (!google.colab.kernel.accessAllowed) {\n",
              "        return;\n",
              "      }\n",
              "      const div = document.createElement('div');\n",
              "      const label = document.createElement('label');\n",
              "      label.textContent = `Downloading \"${filename}\": `;\n",
              "      div.appendChild(label);\n",
              "      const progress = document.createElement('progress');\n",
              "      progress.max = size;\n",
              "      div.appendChild(progress);\n",
              "      document.body.appendChild(div);\n",
              "\n",
              "      const buffers = [];\n",
              "      let downloaded = 0;\n",
              "\n",
              "      const channel = await google.colab.kernel.comms.open(id);\n",
              "      // Send a message to notify the kernel that we're ready.\n",
              "      channel.send({})\n",
              "\n",
              "      for await (const message of channel.messages) {\n",
              "        // Send a message to notify the kernel that we're ready.\n",
              "        channel.send({})\n",
              "        if (message.buffers) {\n",
              "          for (const buffer of message.buffers) {\n",
              "            buffers.push(buffer);\n",
              "            downloaded += buffer.byteLength;\n",
              "            progress.value = downloaded;\n",
              "          }\n",
              "        }\n",
              "      }\n",
              "      const blob = new Blob(buffers, {type: 'application/binary'});\n",
              "      const a = document.createElement('a');\n",
              "      a.href = window.URL.createObjectURL(blob);\n",
              "      a.download = filename;\n",
              "      div.appendChild(a);\n",
              "      a.click();\n",
              "      div.remove();\n",
              "    }\n",
              "  "
            ]
          },
          "metadata": {}
        },
        {
          "output_type": "display_data",
          "data": {
            "text/plain": [
              "<IPython.core.display.Javascript object>"
            ],
            "application/javascript": [
              "download(\"download_b7353b4c-8d69-4ee0-acd0-b14a33a8b6b8\", \"eda_relatorio_sobre_viagens.html\", 2180575)"
            ]
          },
          "metadata": {}
        }
      ]
    },
    {
      "cell_type": "markdown",
      "source": [
        "## **6. Conclusão**\n",
        "\n",
        "Com base na análise efetuada é possível supor que se trata de um **dataset com dados fictícios** **e com poucos registros**, sendo assim será utilizado apenas para fins de estudos de Python, bibliotecas Pandas e Matplotlib, limpeza e transformação de dados, análise exploratória de dados e Pandas profiling.<br><br>\n",
        "De acordo com os dados, **há 139 registros de viagens**, sendo que **a primeira viagem iniciou-se em 15/06/2021 e a última em 21/05/2025**, por essa razão podemos supor que se tratam de dados fictícios ou que existam dados de viagens futuras no dataset.<br><br>\n",
        "O destino mais visitado é **Paris, na França, com 16 registros**. Bali (Indonésia), Tokyo (Japão) e Sidney (Austrália), vêm logo em seguida, empatados com 12 registros cada. Dos viajantes que visitaram Paris, a grande maioria são Americanos.<br><br>\n",
        "A duração média das viagens é de **8 dias** e a média de idade dos viajantes é de **33 anos**. Quanto ao sexo dos viajantes, há um bom equilibrio, porém os **viajantes do sexo feminino acabam levando uma leve vantagem com 3,6% a mais**.<br><br>\n",
        "O tipo de acomodação preferida é o **Hotel** e o transporte peferido é o **Avião**. Isso mostra que a maioria dos viajantes preferem conforto, comodidade, praticidade e buscam destinos mais distantes de seu destino de origem, por isso é necessário viajar de avião. Isso reflete no custo médio das viagens que fica em torno de **1.893 dólares por viagem** (considerando apenas o transporte e hospedagem).<br><br>\n",
        "Quando analisamos as viagens feita para o Brasil, notamos que ela representa uma pequena parcela de **4,3%** do total de registros, **sendo que quase todos os viajantes que visitaram o Brasil são brasileiros**, ou seja, há uma grande predominância do turismo doméstico no Brasil. Eles permanecem em viagem por **7 ou 9 dias** e tem média de idade de **31 anos**, pouco abaixo da média global.<br><br>\n",
        "Os viajantes que visitam o Brasil **não tem uma preferência clara por tipo de hospedagem e meio de transporte**. Há um empate entre Airbnb, Hostel e Hotel com 3 regsitros cada, e o meio de transporte é o mais variado possível e bem equilibrado, além Avião, as viagens são feitas de Ônibus, Carro e Trêm.  Isso é explicado devido aos viajantes serem de dentro do próprio Brasil, como vimos anteriormente, assim sendo, as distâncias podem ser menores e utilizar diversos meios de transporte.<br><br>\n",
        "Mesmo com viagem para destino próximo (viagem nacional), tipos de hospedagem mais econômicas (como Hostel e Airbnb) e meios de transportes mais variados e mais econômicos (como carro, ônibus e trêm), o custo médio das viagens ainda é elevado e fica bem próximo do custo médio das viagens globais, ficando em média **1.725 dólares por viagem** (considerando apenas o transporte e hospedagem)."
      ],
      "metadata": {
        "id": "qhByHOARnsvy"
      }
    }
  ]
}