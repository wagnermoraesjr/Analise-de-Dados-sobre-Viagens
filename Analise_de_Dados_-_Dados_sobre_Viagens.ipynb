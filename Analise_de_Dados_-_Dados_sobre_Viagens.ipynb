{
  "nbformat": 4,
  "nbformat_minor": 0,
  "metadata": {
    "colab": {
      "provenance": [],
      "authorship_tag": "ABX9TyN7CPlwiZ2mdkYuWtmScvGe",
      "include_colab_link": true
    },
    "kernelspec": {
      "name": "python3",
      "display_name": "Python 3"
    },
    "language_info": {
      "name": "python"
    },
    "widgets": {
      "application/vnd.jupyter.widget-state+json": {
        "690a1d72bd8346f4bb43206dec530428": {
          "model_module": "@jupyter-widgets/controls",
          "model_name": "HBoxModel",
          "model_module_version": "1.5.0",
          "state": {
            "_dom_classes": [],
            "_model_module": "@jupyter-widgets/controls",
            "_model_module_version": "1.5.0",
            "_model_name": "HBoxModel",
            "_view_count": null,
            "_view_module": "@jupyter-widgets/controls",
            "_view_module_version": "1.5.0",
            "_view_name": "HBoxView",
            "box_style": "",
            "children": [
              "IPY_MODEL_baea0e2a8a6649679d6c64ef3f784f3b",
              "IPY_MODEL_4ff7dfeac2654010b64a59c9598be10a",
              "IPY_MODEL_6ae38e3b06be4215a6cdac113df52269"
            ],
            "layout": "IPY_MODEL_efab4e28ce7145908ba8e5a7802612ec"
          }
        },
        "baea0e2a8a6649679d6c64ef3f784f3b": {
          "model_module": "@jupyter-widgets/controls",
          "model_name": "HTMLModel",
          "model_module_version": "1.5.0",
          "state": {
            "_dom_classes": [],
            "_model_module": "@jupyter-widgets/controls",
            "_model_module_version": "1.5.0",
            "_model_name": "HTMLModel",
            "_view_count": null,
            "_view_module": "@jupyter-widgets/controls",
            "_view_module_version": "1.5.0",
            "_view_name": "HTMLView",
            "description": "",
            "description_tooltip": null,
            "layout": "IPY_MODEL_c65632f01c4b430982909e93d7717660",
            "placeholder": "​",
            "style": "IPY_MODEL_e9e8b8a8b9344a159c5a30d502a1e949",
            "value": "Summarize dataset: 100%"
          }
        },
        "4ff7dfeac2654010b64a59c9598be10a": {
          "model_module": "@jupyter-widgets/controls",
          "model_name": "FloatProgressModel",
          "model_module_version": "1.5.0",
          "state": {
            "_dom_classes": [],
            "_model_module": "@jupyter-widgets/controls",
            "_model_module_version": "1.5.0",
            "_model_name": "FloatProgressModel",
            "_view_count": null,
            "_view_module": "@jupyter-widgets/controls",
            "_view_module_version": "1.5.0",
            "_view_name": "ProgressView",
            "bar_style": "success",
            "description": "",
            "description_tooltip": null,
            "layout": "IPY_MODEL_7d2a751018654109bc824f2c89dbaa21",
            "max": 5,
            "min": 0,
            "orientation": "horizontal",
            "style": "IPY_MODEL_8d322db6af5f4391af39a4b421011d7e",
            "value": 5
          }
        },
        "6ae38e3b06be4215a6cdac113df52269": {
          "model_module": "@jupyter-widgets/controls",
          "model_name": "HTMLModel",
          "model_module_version": "1.5.0",
          "state": {
            "_dom_classes": [],
            "_model_module": "@jupyter-widgets/controls",
            "_model_module_version": "1.5.0",
            "_model_name": "HTMLModel",
            "_view_count": null,
            "_view_module": "@jupyter-widgets/controls",
            "_view_module_version": "1.5.0",
            "_view_name": "HTMLView",
            "description": "",
            "description_tooltip": null,
            "layout": "IPY_MODEL_ca123ec50c194772b64f0a85c423d9ea",
            "placeholder": "​",
            "style": "IPY_MODEL_f24698bcb6d14936a5db97a6f7a87100",
            "value": " 58/58 [00:11&lt;00:00,  2.84it/s, Completed]"
          }
        },
        "efab4e28ce7145908ba8e5a7802612ec": {
          "model_module": "@jupyter-widgets/base",
          "model_name": "LayoutModel",
          "model_module_version": "1.2.0",
          "state": {
            "_model_module": "@jupyter-widgets/base",
            "_model_module_version": "1.2.0",
            "_model_name": "LayoutModel",
            "_view_count": null,
            "_view_module": "@jupyter-widgets/base",
            "_view_module_version": "1.2.0",
            "_view_name": "LayoutView",
            "align_content": null,
            "align_items": null,
            "align_self": null,
            "border": null,
            "bottom": null,
            "display": null,
            "flex": null,
            "flex_flow": null,
            "grid_area": null,
            "grid_auto_columns": null,
            "grid_auto_flow": null,
            "grid_auto_rows": null,
            "grid_column": null,
            "grid_gap": null,
            "grid_row": null,
            "grid_template_areas": null,
            "grid_template_columns": null,
            "grid_template_rows": null,
            "height": null,
            "justify_content": null,
            "justify_items": null,
            "left": null,
            "margin": null,
            "max_height": null,
            "max_width": null,
            "min_height": null,
            "min_width": null,
            "object_fit": null,
            "object_position": null,
            "order": null,
            "overflow": null,
            "overflow_x": null,
            "overflow_y": null,
            "padding": null,
            "right": null,
            "top": null,
            "visibility": null,
            "width": null
          }
        },
        "c65632f01c4b430982909e93d7717660": {
          "model_module": "@jupyter-widgets/base",
          "model_name": "LayoutModel",
          "model_module_version": "1.2.0",
          "state": {
            "_model_module": "@jupyter-widgets/base",
            "_model_module_version": "1.2.0",
            "_model_name": "LayoutModel",
            "_view_count": null,
            "_view_module": "@jupyter-widgets/base",
            "_view_module_version": "1.2.0",
            "_view_name": "LayoutView",
            "align_content": null,
            "align_items": null,
            "align_self": null,
            "border": null,
            "bottom": null,
            "display": null,
            "flex": null,
            "flex_flow": null,
            "grid_area": null,
            "grid_auto_columns": null,
            "grid_auto_flow": null,
            "grid_auto_rows": null,
            "grid_column": null,
            "grid_gap": null,
            "grid_row": null,
            "grid_template_areas": null,
            "grid_template_columns": null,
            "grid_template_rows": null,
            "height": null,
            "justify_content": null,
            "justify_items": null,
            "left": null,
            "margin": null,
            "max_height": null,
            "max_width": null,
            "min_height": null,
            "min_width": null,
            "object_fit": null,
            "object_position": null,
            "order": null,
            "overflow": null,
            "overflow_x": null,
            "overflow_y": null,
            "padding": null,
            "right": null,
            "top": null,
            "visibility": null,
            "width": null
          }
        },
        "e9e8b8a8b9344a159c5a30d502a1e949": {
          "model_module": "@jupyter-widgets/controls",
          "model_name": "DescriptionStyleModel",
          "model_module_version": "1.5.0",
          "state": {
            "_model_module": "@jupyter-widgets/controls",
            "_model_module_version": "1.5.0",
            "_model_name": "DescriptionStyleModel",
            "_view_count": null,
            "_view_module": "@jupyter-widgets/base",
            "_view_module_version": "1.2.0",
            "_view_name": "StyleView",
            "description_width": ""
          }
        },
        "7d2a751018654109bc824f2c89dbaa21": {
          "model_module": "@jupyter-widgets/base",
          "model_name": "LayoutModel",
          "model_module_version": "1.2.0",
          "state": {
            "_model_module": "@jupyter-widgets/base",
            "_model_module_version": "1.2.0",
            "_model_name": "LayoutModel",
            "_view_count": null,
            "_view_module": "@jupyter-widgets/base",
            "_view_module_version": "1.2.0",
            "_view_name": "LayoutView",
            "align_content": null,
            "align_items": null,
            "align_self": null,
            "border": null,
            "bottom": null,
            "display": null,
            "flex": null,
            "flex_flow": null,
            "grid_area": null,
            "grid_auto_columns": null,
            "grid_auto_flow": null,
            "grid_auto_rows": null,
            "grid_column": null,
            "grid_gap": null,
            "grid_row": null,
            "grid_template_areas": null,
            "grid_template_columns": null,
            "grid_template_rows": null,
            "height": null,
            "justify_content": null,
            "justify_items": null,
            "left": null,
            "margin": null,
            "max_height": null,
            "max_width": null,
            "min_height": null,
            "min_width": null,
            "object_fit": null,
            "object_position": null,
            "order": null,
            "overflow": null,
            "overflow_x": null,
            "overflow_y": null,
            "padding": null,
            "right": null,
            "top": null,
            "visibility": null,
            "width": null
          }
        },
        "8d322db6af5f4391af39a4b421011d7e": {
          "model_module": "@jupyter-widgets/controls",
          "model_name": "ProgressStyleModel",
          "model_module_version": "1.5.0",
          "state": {
            "_model_module": "@jupyter-widgets/controls",
            "_model_module_version": "1.5.0",
            "_model_name": "ProgressStyleModel",
            "_view_count": null,
            "_view_module": "@jupyter-widgets/base",
            "_view_module_version": "1.2.0",
            "_view_name": "StyleView",
            "bar_color": null,
            "description_width": ""
          }
        },
        "ca123ec50c194772b64f0a85c423d9ea": {
          "model_module": "@jupyter-widgets/base",
          "model_name": "LayoutModel",
          "model_module_version": "1.2.0",
          "state": {
            "_model_module": "@jupyter-widgets/base",
            "_model_module_version": "1.2.0",
            "_model_name": "LayoutModel",
            "_view_count": null,
            "_view_module": "@jupyter-widgets/base",
            "_view_module_version": "1.2.0",
            "_view_name": "LayoutView",
            "align_content": null,
            "align_items": null,
            "align_self": null,
            "border": null,
            "bottom": null,
            "display": null,
            "flex": null,
            "flex_flow": null,
            "grid_area": null,
            "grid_auto_columns": null,
            "grid_auto_flow": null,
            "grid_auto_rows": null,
            "grid_column": null,
            "grid_gap": null,
            "grid_row": null,
            "grid_template_areas": null,
            "grid_template_columns": null,
            "grid_template_rows": null,
            "height": null,
            "justify_content": null,
            "justify_items": null,
            "left": null,
            "margin": null,
            "max_height": null,
            "max_width": null,
            "min_height": null,
            "min_width": null,
            "object_fit": null,
            "object_position": null,
            "order": null,
            "overflow": null,
            "overflow_x": null,
            "overflow_y": null,
            "padding": null,
            "right": null,
            "top": null,
            "visibility": null,
            "width": null
          }
        },
        "f24698bcb6d14936a5db97a6f7a87100": {
          "model_module": "@jupyter-widgets/controls",
          "model_name": "DescriptionStyleModel",
          "model_module_version": "1.5.0",
          "state": {
            "_model_module": "@jupyter-widgets/controls",
            "_model_module_version": "1.5.0",
            "_model_name": "DescriptionStyleModel",
            "_view_count": null,
            "_view_module": "@jupyter-widgets/base",
            "_view_module_version": "1.2.0",
            "_view_name": "StyleView",
            "description_width": ""
          }
        },
        "dc3ae884ad604331b31278894707b5fc": {
          "model_module": "@jupyter-widgets/controls",
          "model_name": "HBoxModel",
          "model_module_version": "1.5.0",
          "state": {
            "_dom_classes": [],
            "_model_module": "@jupyter-widgets/controls",
            "_model_module_version": "1.5.0",
            "_model_name": "HBoxModel",
            "_view_count": null,
            "_view_module": "@jupyter-widgets/controls",
            "_view_module_version": "1.5.0",
            "_view_name": "HBoxView",
            "box_style": "",
            "children": [
              "IPY_MODEL_4f4ab89853824b89b5d5f3611e4f2a7a",
              "IPY_MODEL_93fa6e95782947b5a2a86c3f09309364",
              "IPY_MODEL_7cfcf953ab914b9da0d36dd556f90f0a"
            ],
            "layout": "IPY_MODEL_9b3afd056e39429d95ea533b99435920"
          }
        },
        "4f4ab89853824b89b5d5f3611e4f2a7a": {
          "model_module": "@jupyter-widgets/controls",
          "model_name": "HTMLModel",
          "model_module_version": "1.5.0",
          "state": {
            "_dom_classes": [],
            "_model_module": "@jupyter-widgets/controls",
            "_model_module_version": "1.5.0",
            "_model_name": "HTMLModel",
            "_view_count": null,
            "_view_module": "@jupyter-widgets/controls",
            "_view_module_version": "1.5.0",
            "_view_name": "HTMLView",
            "description": "",
            "description_tooltip": null,
            "layout": "IPY_MODEL_c261363e99934febb6506a1555d0458b",
            "placeholder": "​",
            "style": "IPY_MODEL_ae30bf6259684aedbf5149b430a31adc",
            "value": "Generate report structure: 100%"
          }
        },
        "93fa6e95782947b5a2a86c3f09309364": {
          "model_module": "@jupyter-widgets/controls",
          "model_name": "FloatProgressModel",
          "model_module_version": "1.5.0",
          "state": {
            "_dom_classes": [],
            "_model_module": "@jupyter-widgets/controls",
            "_model_module_version": "1.5.0",
            "_model_name": "FloatProgressModel",
            "_view_count": null,
            "_view_module": "@jupyter-widgets/controls",
            "_view_module_version": "1.5.0",
            "_view_name": "ProgressView",
            "bar_style": "success",
            "description": "",
            "description_tooltip": null,
            "layout": "IPY_MODEL_fab980e1fee042eea79f90a7f48db79c",
            "max": 1,
            "min": 0,
            "orientation": "horizontal",
            "style": "IPY_MODEL_09f6876cca2447f887e132ebff2aec82",
            "value": 1
          }
        },
        "7cfcf953ab914b9da0d36dd556f90f0a": {
          "model_module": "@jupyter-widgets/controls",
          "model_name": "HTMLModel",
          "model_module_version": "1.5.0",
          "state": {
            "_dom_classes": [],
            "_model_module": "@jupyter-widgets/controls",
            "_model_module_version": "1.5.0",
            "_model_name": "HTMLModel",
            "_view_count": null,
            "_view_module": "@jupyter-widgets/controls",
            "_view_module_version": "1.5.0",
            "_view_name": "HTMLView",
            "description": "",
            "description_tooltip": null,
            "layout": "IPY_MODEL_ae10972d17104b78abe95b5bf202ff88",
            "placeholder": "​",
            "style": "IPY_MODEL_3a8f1d7b5fa44f5d959084bbb46af1d8",
            "value": " 1/1 [00:07&lt;00:00,  7.25s/it]"
          }
        },
        "9b3afd056e39429d95ea533b99435920": {
          "model_module": "@jupyter-widgets/base",
          "model_name": "LayoutModel",
          "model_module_version": "1.2.0",
          "state": {
            "_model_module": "@jupyter-widgets/base",
            "_model_module_version": "1.2.0",
            "_model_name": "LayoutModel",
            "_view_count": null,
            "_view_module": "@jupyter-widgets/base",
            "_view_module_version": "1.2.0",
            "_view_name": "LayoutView",
            "align_content": null,
            "align_items": null,
            "align_self": null,
            "border": null,
            "bottom": null,
            "display": null,
            "flex": null,
            "flex_flow": null,
            "grid_area": null,
            "grid_auto_columns": null,
            "grid_auto_flow": null,
            "grid_auto_rows": null,
            "grid_column": null,
            "grid_gap": null,
            "grid_row": null,
            "grid_template_areas": null,
            "grid_template_columns": null,
            "grid_template_rows": null,
            "height": null,
            "justify_content": null,
            "justify_items": null,
            "left": null,
            "margin": null,
            "max_height": null,
            "max_width": null,
            "min_height": null,
            "min_width": null,
            "object_fit": null,
            "object_position": null,
            "order": null,
            "overflow": null,
            "overflow_x": null,
            "overflow_y": null,
            "padding": null,
            "right": null,
            "top": null,
            "visibility": null,
            "width": null
          }
        },
        "c261363e99934febb6506a1555d0458b": {
          "model_module": "@jupyter-widgets/base",
          "model_name": "LayoutModel",
          "model_module_version": "1.2.0",
          "state": {
            "_model_module": "@jupyter-widgets/base",
            "_model_module_version": "1.2.0",
            "_model_name": "LayoutModel",
            "_view_count": null,
            "_view_module": "@jupyter-widgets/base",
            "_view_module_version": "1.2.0",
            "_view_name": "LayoutView",
            "align_content": null,
            "align_items": null,
            "align_self": null,
            "border": null,
            "bottom": null,
            "display": null,
            "flex": null,
            "flex_flow": null,
            "grid_area": null,
            "grid_auto_columns": null,
            "grid_auto_flow": null,
            "grid_auto_rows": null,
            "grid_column": null,
            "grid_gap": null,
            "grid_row": null,
            "grid_template_areas": null,
            "grid_template_columns": null,
            "grid_template_rows": null,
            "height": null,
            "justify_content": null,
            "justify_items": null,
            "left": null,
            "margin": null,
            "max_height": null,
            "max_width": null,
            "min_height": null,
            "min_width": null,
            "object_fit": null,
            "object_position": null,
            "order": null,
            "overflow": null,
            "overflow_x": null,
            "overflow_y": null,
            "padding": null,
            "right": null,
            "top": null,
            "visibility": null,
            "width": null
          }
        },
        "ae30bf6259684aedbf5149b430a31adc": {
          "model_module": "@jupyter-widgets/controls",
          "model_name": "DescriptionStyleModel",
          "model_module_version": "1.5.0",
          "state": {
            "_model_module": "@jupyter-widgets/controls",
            "_model_module_version": "1.5.0",
            "_model_name": "DescriptionStyleModel",
            "_view_count": null,
            "_view_module": "@jupyter-widgets/base",
            "_view_module_version": "1.2.0",
            "_view_name": "StyleView",
            "description_width": ""
          }
        },
        "fab980e1fee042eea79f90a7f48db79c": {
          "model_module": "@jupyter-widgets/base",
          "model_name": "LayoutModel",
          "model_module_version": "1.2.0",
          "state": {
            "_model_module": "@jupyter-widgets/base",
            "_model_module_version": "1.2.0",
            "_model_name": "LayoutModel",
            "_view_count": null,
            "_view_module": "@jupyter-widgets/base",
            "_view_module_version": "1.2.0",
            "_view_name": "LayoutView",
            "align_content": null,
            "align_items": null,
            "align_self": null,
            "border": null,
            "bottom": null,
            "display": null,
            "flex": null,
            "flex_flow": null,
            "grid_area": null,
            "grid_auto_columns": null,
            "grid_auto_flow": null,
            "grid_auto_rows": null,
            "grid_column": null,
            "grid_gap": null,
            "grid_row": null,
            "grid_template_areas": null,
            "grid_template_columns": null,
            "grid_template_rows": null,
            "height": null,
            "justify_content": null,
            "justify_items": null,
            "left": null,
            "margin": null,
            "max_height": null,
            "max_width": null,
            "min_height": null,
            "min_width": null,
            "object_fit": null,
            "object_position": null,
            "order": null,
            "overflow": null,
            "overflow_x": null,
            "overflow_y": null,
            "padding": null,
            "right": null,
            "top": null,
            "visibility": null,
            "width": null
          }
        },
        "09f6876cca2447f887e132ebff2aec82": {
          "model_module": "@jupyter-widgets/controls",
          "model_name": "ProgressStyleModel",
          "model_module_version": "1.5.0",
          "state": {
            "_model_module": "@jupyter-widgets/controls",
            "_model_module_version": "1.5.0",
            "_model_name": "ProgressStyleModel",
            "_view_count": null,
            "_view_module": "@jupyter-widgets/base",
            "_view_module_version": "1.2.0",
            "_view_name": "StyleView",
            "bar_color": null,
            "description_width": ""
          }
        },
        "ae10972d17104b78abe95b5bf202ff88": {
          "model_module": "@jupyter-widgets/base",
          "model_name": "LayoutModel",
          "model_module_version": "1.2.0",
          "state": {
            "_model_module": "@jupyter-widgets/base",
            "_model_module_version": "1.2.0",
            "_model_name": "LayoutModel",
            "_view_count": null,
            "_view_module": "@jupyter-widgets/base",
            "_view_module_version": "1.2.0",
            "_view_name": "LayoutView",
            "align_content": null,
            "align_items": null,
            "align_self": null,
            "border": null,
            "bottom": null,
            "display": null,
            "flex": null,
            "flex_flow": null,
            "grid_area": null,
            "grid_auto_columns": null,
            "grid_auto_flow": null,
            "grid_auto_rows": null,
            "grid_column": null,
            "grid_gap": null,
            "grid_row": null,
            "grid_template_areas": null,
            "grid_template_columns": null,
            "grid_template_rows": null,
            "height": null,
            "justify_content": null,
            "justify_items": null,
            "left": null,
            "margin": null,
            "max_height": null,
            "max_width": null,
            "min_height": null,
            "min_width": null,
            "object_fit": null,
            "object_position": null,
            "order": null,
            "overflow": null,
            "overflow_x": null,
            "overflow_y": null,
            "padding": null,
            "right": null,
            "top": null,
            "visibility": null,
            "width": null
          }
        },
        "3a8f1d7b5fa44f5d959084bbb46af1d8": {
          "model_module": "@jupyter-widgets/controls",
          "model_name": "DescriptionStyleModel",
          "model_module_version": "1.5.0",
          "state": {
            "_model_module": "@jupyter-widgets/controls",
            "_model_module_version": "1.5.0",
            "_model_name": "DescriptionStyleModel",
            "_view_count": null,
            "_view_module": "@jupyter-widgets/base",
            "_view_module_version": "1.2.0",
            "_view_name": "StyleView",
            "description_width": ""
          }
        },
        "575ee93015894b6fa49662a2a842ab0b": {
          "model_module": "@jupyter-widgets/controls",
          "model_name": "HBoxModel",
          "model_module_version": "1.5.0",
          "state": {
            "_dom_classes": [],
            "_model_module": "@jupyter-widgets/controls",
            "_model_module_version": "1.5.0",
            "_model_name": "HBoxModel",
            "_view_count": null,
            "_view_module": "@jupyter-widgets/controls",
            "_view_module_version": "1.5.0",
            "_view_name": "HBoxView",
            "box_style": "",
            "children": [
              "IPY_MODEL_044084057394404188b0ceb32afea1ba",
              "IPY_MODEL_84d525c7352246ada980e40ebadc9f8a",
              "IPY_MODEL_9382a69784744d4981245e42e48424bf"
            ],
            "layout": "IPY_MODEL_affb0b0a77f24f3d866e53c1639a088d"
          }
        },
        "044084057394404188b0ceb32afea1ba": {
          "model_module": "@jupyter-widgets/controls",
          "model_name": "HTMLModel",
          "model_module_version": "1.5.0",
          "state": {
            "_dom_classes": [],
            "_model_module": "@jupyter-widgets/controls",
            "_model_module_version": "1.5.0",
            "_model_name": "HTMLModel",
            "_view_count": null,
            "_view_module": "@jupyter-widgets/controls",
            "_view_module_version": "1.5.0",
            "_view_name": "HTMLView",
            "description": "",
            "description_tooltip": null,
            "layout": "IPY_MODEL_ebc7f398003645d5be1ea4326c76b877",
            "placeholder": "​",
            "style": "IPY_MODEL_65ed0e20cb314718a1893198d292ba39",
            "value": "Render HTML: 100%"
          }
        },
        "84d525c7352246ada980e40ebadc9f8a": {
          "model_module": "@jupyter-widgets/controls",
          "model_name": "FloatProgressModel",
          "model_module_version": "1.5.0",
          "state": {
            "_dom_classes": [],
            "_model_module": "@jupyter-widgets/controls",
            "_model_module_version": "1.5.0",
            "_model_name": "FloatProgressModel",
            "_view_count": null,
            "_view_module": "@jupyter-widgets/controls",
            "_view_module_version": "1.5.0",
            "_view_name": "ProgressView",
            "bar_style": "success",
            "description": "",
            "description_tooltip": null,
            "layout": "IPY_MODEL_c40a5965a64a4645a793c6ba3ff29fb6",
            "max": 1,
            "min": 0,
            "orientation": "horizontal",
            "style": "IPY_MODEL_27c45105b167442fa0c79cd84a5fd6a1",
            "value": 1
          }
        },
        "9382a69784744d4981245e42e48424bf": {
          "model_module": "@jupyter-widgets/controls",
          "model_name": "HTMLModel",
          "model_module_version": "1.5.0",
          "state": {
            "_dom_classes": [],
            "_model_module": "@jupyter-widgets/controls",
            "_model_module_version": "1.5.0",
            "_model_name": "HTMLModel",
            "_view_count": null,
            "_view_module": "@jupyter-widgets/controls",
            "_view_module_version": "1.5.0",
            "_view_name": "HTMLView",
            "description": "",
            "description_tooltip": null,
            "layout": "IPY_MODEL_de01ebc7985e428f925a899814a4836b",
            "placeholder": "​",
            "style": "IPY_MODEL_18c47d08697e4ce2825b94d3f03fb279",
            "value": " 1/1 [00:01&lt;00:00,  1.09s/it]"
          }
        },
        "affb0b0a77f24f3d866e53c1639a088d": {
          "model_module": "@jupyter-widgets/base",
          "model_name": "LayoutModel",
          "model_module_version": "1.2.0",
          "state": {
            "_model_module": "@jupyter-widgets/base",
            "_model_module_version": "1.2.0",
            "_model_name": "LayoutModel",
            "_view_count": null,
            "_view_module": "@jupyter-widgets/base",
            "_view_module_version": "1.2.0",
            "_view_name": "LayoutView",
            "align_content": null,
            "align_items": null,
            "align_self": null,
            "border": null,
            "bottom": null,
            "display": null,
            "flex": null,
            "flex_flow": null,
            "grid_area": null,
            "grid_auto_columns": null,
            "grid_auto_flow": null,
            "grid_auto_rows": null,
            "grid_column": null,
            "grid_gap": null,
            "grid_row": null,
            "grid_template_areas": null,
            "grid_template_columns": null,
            "grid_template_rows": null,
            "height": null,
            "justify_content": null,
            "justify_items": null,
            "left": null,
            "margin": null,
            "max_height": null,
            "max_width": null,
            "min_height": null,
            "min_width": null,
            "object_fit": null,
            "object_position": null,
            "order": null,
            "overflow": null,
            "overflow_x": null,
            "overflow_y": null,
            "padding": null,
            "right": null,
            "top": null,
            "visibility": null,
            "width": null
          }
        },
        "ebc7f398003645d5be1ea4326c76b877": {
          "model_module": "@jupyter-widgets/base",
          "model_name": "LayoutModel",
          "model_module_version": "1.2.0",
          "state": {
            "_model_module": "@jupyter-widgets/base",
            "_model_module_version": "1.2.0",
            "_model_name": "LayoutModel",
            "_view_count": null,
            "_view_module": "@jupyter-widgets/base",
            "_view_module_version": "1.2.0",
            "_view_name": "LayoutView",
            "align_content": null,
            "align_items": null,
            "align_self": null,
            "border": null,
            "bottom": null,
            "display": null,
            "flex": null,
            "flex_flow": null,
            "grid_area": null,
            "grid_auto_columns": null,
            "grid_auto_flow": null,
            "grid_auto_rows": null,
            "grid_column": null,
            "grid_gap": null,
            "grid_row": null,
            "grid_template_areas": null,
            "grid_template_columns": null,
            "grid_template_rows": null,
            "height": null,
            "justify_content": null,
            "justify_items": null,
            "left": null,
            "margin": null,
            "max_height": null,
            "max_width": null,
            "min_height": null,
            "min_width": null,
            "object_fit": null,
            "object_position": null,
            "order": null,
            "overflow": null,
            "overflow_x": null,
            "overflow_y": null,
            "padding": null,
            "right": null,
            "top": null,
            "visibility": null,
            "width": null
          }
        },
        "65ed0e20cb314718a1893198d292ba39": {
          "model_module": "@jupyter-widgets/controls",
          "model_name": "DescriptionStyleModel",
          "model_module_version": "1.5.0",
          "state": {
            "_model_module": "@jupyter-widgets/controls",
            "_model_module_version": "1.5.0",
            "_model_name": "DescriptionStyleModel",
            "_view_count": null,
            "_view_module": "@jupyter-widgets/base",
            "_view_module_version": "1.2.0",
            "_view_name": "StyleView",
            "description_width": ""
          }
        },
        "c40a5965a64a4645a793c6ba3ff29fb6": {
          "model_module": "@jupyter-widgets/base",
          "model_name": "LayoutModel",
          "model_module_version": "1.2.0",
          "state": {
            "_model_module": "@jupyter-widgets/base",
            "_model_module_version": "1.2.0",
            "_model_name": "LayoutModel",
            "_view_count": null,
            "_view_module": "@jupyter-widgets/base",
            "_view_module_version": "1.2.0",
            "_view_name": "LayoutView",
            "align_content": null,
            "align_items": null,
            "align_self": null,
            "border": null,
            "bottom": null,
            "display": null,
            "flex": null,
            "flex_flow": null,
            "grid_area": null,
            "grid_auto_columns": null,
            "grid_auto_flow": null,
            "grid_auto_rows": null,
            "grid_column": null,
            "grid_gap": null,
            "grid_row": null,
            "grid_template_areas": null,
            "grid_template_columns": null,
            "grid_template_rows": null,
            "height": null,
            "justify_content": null,
            "justify_items": null,
            "left": null,
            "margin": null,
            "max_height": null,
            "max_width": null,
            "min_height": null,
            "min_width": null,
            "object_fit": null,
            "object_position": null,
            "order": null,
            "overflow": null,
            "overflow_x": null,
            "overflow_y": null,
            "padding": null,
            "right": null,
            "top": null,
            "visibility": null,
            "width": null
          }
        },
        "27c45105b167442fa0c79cd84a5fd6a1": {
          "model_module": "@jupyter-widgets/controls",
          "model_name": "ProgressStyleModel",
          "model_module_version": "1.5.0",
          "state": {
            "_model_module": "@jupyter-widgets/controls",
            "_model_module_version": "1.5.0",
            "_model_name": "ProgressStyleModel",
            "_view_count": null,
            "_view_module": "@jupyter-widgets/base",
            "_view_module_version": "1.2.0",
            "_view_name": "StyleView",
            "bar_color": null,
            "description_width": ""
          }
        },
        "de01ebc7985e428f925a899814a4836b": {
          "model_module": "@jupyter-widgets/base",
          "model_name": "LayoutModel",
          "model_module_version": "1.2.0",
          "state": {
            "_model_module": "@jupyter-widgets/base",
            "_model_module_version": "1.2.0",
            "_model_name": "LayoutModel",
            "_view_count": null,
            "_view_module": "@jupyter-widgets/base",
            "_view_module_version": "1.2.0",
            "_view_name": "LayoutView",
            "align_content": null,
            "align_items": null,
            "align_self": null,
            "border": null,
            "bottom": null,
            "display": null,
            "flex": null,
            "flex_flow": null,
            "grid_area": null,
            "grid_auto_columns": null,
            "grid_auto_flow": null,
            "grid_auto_rows": null,
            "grid_column": null,
            "grid_gap": null,
            "grid_row": null,
            "grid_template_areas": null,
            "grid_template_columns": null,
            "grid_template_rows": null,
            "height": null,
            "justify_content": null,
            "justify_items": null,
            "left": null,
            "margin": null,
            "max_height": null,
            "max_width": null,
            "min_height": null,
            "min_width": null,
            "object_fit": null,
            "object_position": null,
            "order": null,
            "overflow": null,
            "overflow_x": null,
            "overflow_y": null,
            "padding": null,
            "right": null,
            "top": null,
            "visibility": null,
            "width": null
          }
        },
        "18c47d08697e4ce2825b94d3f03fb279": {
          "model_module": "@jupyter-widgets/controls",
          "model_name": "DescriptionStyleModel",
          "model_module_version": "1.5.0",
          "state": {
            "_model_module": "@jupyter-widgets/controls",
            "_model_module_version": "1.5.0",
            "_model_name": "DescriptionStyleModel",
            "_view_count": null,
            "_view_module": "@jupyter-widgets/base",
            "_view_module_version": "1.2.0",
            "_view_name": "StyleView",
            "description_width": ""
          }
        },
        "a39b59a75ee44d1eb42c387648d9be0f": {
          "model_module": "@jupyter-widgets/controls",
          "model_name": "HBoxModel",
          "model_module_version": "1.5.0",
          "state": {
            "_dom_classes": [],
            "_model_module": "@jupyter-widgets/controls",
            "_model_module_version": "1.5.0",
            "_model_name": "HBoxModel",
            "_view_count": null,
            "_view_module": "@jupyter-widgets/controls",
            "_view_module_version": "1.5.0",
            "_view_name": "HBoxView",
            "box_style": "",
            "children": [
              "IPY_MODEL_90e3ae81a77a49f5943b3daf1579a8f4",
              "IPY_MODEL_75439f6293374e079aa14417790857bc",
              "IPY_MODEL_9318efc4be5f43f19f688eef1e81369a"
            ],
            "layout": "IPY_MODEL_e435d159ce9847e6916848a54b3b82c9"
          }
        },
        "90e3ae81a77a49f5943b3daf1579a8f4": {
          "model_module": "@jupyter-widgets/controls",
          "model_name": "HTMLModel",
          "model_module_version": "1.5.0",
          "state": {
            "_dom_classes": [],
            "_model_module": "@jupyter-widgets/controls",
            "_model_module_version": "1.5.0",
            "_model_name": "HTMLModel",
            "_view_count": null,
            "_view_module": "@jupyter-widgets/controls",
            "_view_module_version": "1.5.0",
            "_view_name": "HTMLView",
            "description": "",
            "description_tooltip": null,
            "layout": "IPY_MODEL_e4e9d55a204b45e196e2ff2b01b44246",
            "placeholder": "​",
            "style": "IPY_MODEL_6bdb5a1f0c2c4621b1b3d3de4617458f",
            "value": "Export report to file: 100%"
          }
        },
        "75439f6293374e079aa14417790857bc": {
          "model_module": "@jupyter-widgets/controls",
          "model_name": "FloatProgressModel",
          "model_module_version": "1.5.0",
          "state": {
            "_dom_classes": [],
            "_model_module": "@jupyter-widgets/controls",
            "_model_module_version": "1.5.0",
            "_model_name": "FloatProgressModel",
            "_view_count": null,
            "_view_module": "@jupyter-widgets/controls",
            "_view_module_version": "1.5.0",
            "_view_name": "ProgressView",
            "bar_style": "success",
            "description": "",
            "description_tooltip": null,
            "layout": "IPY_MODEL_cea1c143a034432fb265f124b2d37656",
            "max": 1,
            "min": 0,
            "orientation": "horizontal",
            "style": "IPY_MODEL_6fd5ad3a347444808acb6980edc6a0b2",
            "value": 1
          }
        },
        "9318efc4be5f43f19f688eef1e81369a": {
          "model_module": "@jupyter-widgets/controls",
          "model_name": "HTMLModel",
          "model_module_version": "1.5.0",
          "state": {
            "_dom_classes": [],
            "_model_module": "@jupyter-widgets/controls",
            "_model_module_version": "1.5.0",
            "_model_name": "HTMLModel",
            "_view_count": null,
            "_view_module": "@jupyter-widgets/controls",
            "_view_module_version": "1.5.0",
            "_view_name": "HTMLView",
            "description": "",
            "description_tooltip": null,
            "layout": "IPY_MODEL_7f3c44bc85f44a9a8cfb839480164171",
            "placeholder": "​",
            "style": "IPY_MODEL_bfa2ea1b25c54a5995cb6c18952a9312",
            "value": " 1/1 [00:00&lt;00:00, 30.92it/s]"
          }
        },
        "e435d159ce9847e6916848a54b3b82c9": {
          "model_module": "@jupyter-widgets/base",
          "model_name": "LayoutModel",
          "model_module_version": "1.2.0",
          "state": {
            "_model_module": "@jupyter-widgets/base",
            "_model_module_version": "1.2.0",
            "_model_name": "LayoutModel",
            "_view_count": null,
            "_view_module": "@jupyter-widgets/base",
            "_view_module_version": "1.2.0",
            "_view_name": "LayoutView",
            "align_content": null,
            "align_items": null,
            "align_self": null,
            "border": null,
            "bottom": null,
            "display": null,
            "flex": null,
            "flex_flow": null,
            "grid_area": null,
            "grid_auto_columns": null,
            "grid_auto_flow": null,
            "grid_auto_rows": null,
            "grid_column": null,
            "grid_gap": null,
            "grid_row": null,
            "grid_template_areas": null,
            "grid_template_columns": null,
            "grid_template_rows": null,
            "height": null,
            "justify_content": null,
            "justify_items": null,
            "left": null,
            "margin": null,
            "max_height": null,
            "max_width": null,
            "min_height": null,
            "min_width": null,
            "object_fit": null,
            "object_position": null,
            "order": null,
            "overflow": null,
            "overflow_x": null,
            "overflow_y": null,
            "padding": null,
            "right": null,
            "top": null,
            "visibility": null,
            "width": null
          }
        },
        "e4e9d55a204b45e196e2ff2b01b44246": {
          "model_module": "@jupyter-widgets/base",
          "model_name": "LayoutModel",
          "model_module_version": "1.2.0",
          "state": {
            "_model_module": "@jupyter-widgets/base",
            "_model_module_version": "1.2.0",
            "_model_name": "LayoutModel",
            "_view_count": null,
            "_view_module": "@jupyter-widgets/base",
            "_view_module_version": "1.2.0",
            "_view_name": "LayoutView",
            "align_content": null,
            "align_items": null,
            "align_self": null,
            "border": null,
            "bottom": null,
            "display": null,
            "flex": null,
            "flex_flow": null,
            "grid_area": null,
            "grid_auto_columns": null,
            "grid_auto_flow": null,
            "grid_auto_rows": null,
            "grid_column": null,
            "grid_gap": null,
            "grid_row": null,
            "grid_template_areas": null,
            "grid_template_columns": null,
            "grid_template_rows": null,
            "height": null,
            "justify_content": null,
            "justify_items": null,
            "left": null,
            "margin": null,
            "max_height": null,
            "max_width": null,
            "min_height": null,
            "min_width": null,
            "object_fit": null,
            "object_position": null,
            "order": null,
            "overflow": null,
            "overflow_x": null,
            "overflow_y": null,
            "padding": null,
            "right": null,
            "top": null,
            "visibility": null,
            "width": null
          }
        },
        "6bdb5a1f0c2c4621b1b3d3de4617458f": {
          "model_module": "@jupyter-widgets/controls",
          "model_name": "DescriptionStyleModel",
          "model_module_version": "1.5.0",
          "state": {
            "_model_module": "@jupyter-widgets/controls",
            "_model_module_version": "1.5.0",
            "_model_name": "DescriptionStyleModel",
            "_view_count": null,
            "_view_module": "@jupyter-widgets/base",
            "_view_module_version": "1.2.0",
            "_view_name": "StyleView",
            "description_width": ""
          }
        },
        "cea1c143a034432fb265f124b2d37656": {
          "model_module": "@jupyter-widgets/base",
          "model_name": "LayoutModel",
          "model_module_version": "1.2.0",
          "state": {
            "_model_module": "@jupyter-widgets/base",
            "_model_module_version": "1.2.0",
            "_model_name": "LayoutModel",
            "_view_count": null,
            "_view_module": "@jupyter-widgets/base",
            "_view_module_version": "1.2.0",
            "_view_name": "LayoutView",
            "align_content": null,
            "align_items": null,
            "align_self": null,
            "border": null,
            "bottom": null,
            "display": null,
            "flex": null,
            "flex_flow": null,
            "grid_area": null,
            "grid_auto_columns": null,
            "grid_auto_flow": null,
            "grid_auto_rows": null,
            "grid_column": null,
            "grid_gap": null,
            "grid_row": null,
            "grid_template_areas": null,
            "grid_template_columns": null,
            "grid_template_rows": null,
            "height": null,
            "justify_content": null,
            "justify_items": null,
            "left": null,
            "margin": null,
            "max_height": null,
            "max_width": null,
            "min_height": null,
            "min_width": null,
            "object_fit": null,
            "object_position": null,
            "order": null,
            "overflow": null,
            "overflow_x": null,
            "overflow_y": null,
            "padding": null,
            "right": null,
            "top": null,
            "visibility": null,
            "width": null
          }
        },
        "6fd5ad3a347444808acb6980edc6a0b2": {
          "model_module": "@jupyter-widgets/controls",
          "model_name": "ProgressStyleModel",
          "model_module_version": "1.5.0",
          "state": {
            "_model_module": "@jupyter-widgets/controls",
            "_model_module_version": "1.5.0",
            "_model_name": "ProgressStyleModel",
            "_view_count": null,
            "_view_module": "@jupyter-widgets/base",
            "_view_module_version": "1.2.0",
            "_view_name": "StyleView",
            "bar_color": null,
            "description_width": ""
          }
        },
        "7f3c44bc85f44a9a8cfb839480164171": {
          "model_module": "@jupyter-widgets/base",
          "model_name": "LayoutModel",
          "model_module_version": "1.2.0",
          "state": {
            "_model_module": "@jupyter-widgets/base",
            "_model_module_version": "1.2.0",
            "_model_name": "LayoutModel",
            "_view_count": null,
            "_view_module": "@jupyter-widgets/base",
            "_view_module_version": "1.2.0",
            "_view_name": "LayoutView",
            "align_content": null,
            "align_items": null,
            "align_self": null,
            "border": null,
            "bottom": null,
            "display": null,
            "flex": null,
            "flex_flow": null,
            "grid_area": null,
            "grid_auto_columns": null,
            "grid_auto_flow": null,
            "grid_auto_rows": null,
            "grid_column": null,
            "grid_gap": null,
            "grid_row": null,
            "grid_template_areas": null,
            "grid_template_columns": null,
            "grid_template_rows": null,
            "height": null,
            "justify_content": null,
            "justify_items": null,
            "left": null,
            "margin": null,
            "max_height": null,
            "max_width": null,
            "min_height": null,
            "min_width": null,
            "object_fit": null,
            "object_position": null,
            "order": null,
            "overflow": null,
            "overflow_x": null,
            "overflow_y": null,
            "padding": null,
            "right": null,
            "top": null,
            "visibility": null,
            "width": null
          }
        },
        "bfa2ea1b25c54a5995cb6c18952a9312": {
          "model_module": "@jupyter-widgets/controls",
          "model_name": "DescriptionStyleModel",
          "model_module_version": "1.5.0",
          "state": {
            "_model_module": "@jupyter-widgets/controls",
            "_model_module_version": "1.5.0",
            "_model_name": "DescriptionStyleModel",
            "_view_count": null,
            "_view_module": "@jupyter-widgets/base",
            "_view_module_version": "1.2.0",
            "_view_name": "StyleView",
            "description_width": ""
          }
        }
      }
    }
  },
  "cells": [
    {
      "cell_type": "markdown",
      "metadata": {
        "id": "view-in-github",
        "colab_type": "text"
      },
      "source": [
        "<a href=\"https://colab.research.google.com/github/wagnermoraesjr/Analise-de-Dados-sobre-Viagens/blob/main/Analise_de_Dados_-_Dados_sobre_Viagens.ipynb\" target=\"_parent\"><img src=\"https://colab.research.google.com/assets/colab-badge.svg\" alt=\"Open In Colab\"/></a>"
      ]
    },
    {
      "cell_type": "code",
      "execution_count": null,
      "metadata": {
        "colab": {
          "base_uri": "https://localhost:8080/"
        },
        "id": "WqsunwfJMMMs",
        "outputId": "6eb1ff84-1013-47b8-a353-39019c508a1f"
      },
      "outputs": [
        {
          "output_type": "stream",
          "name": "stdout",
          "text": [
            "Drive already mounted at /content/gdrive; to attempt to forcibly remount, call drive.mount(\"/content/gdrive\", force_remount=True).\n"
          ]
        }
      ],
      "source": [
        "# Mapear Google Drive\n",
        "from google.colab import drive\n",
        "drive.mount('/content/gdrive')"
      ]
    },
    {
      "cell_type": "markdown",
      "source": [
        "# **Análise Exploratória de Dados - Dados sobre Viagens**"
      ],
      "metadata": {
        "id": "xsnUElqNNTsO"
      }
    },
    {
      "cell_type": "markdown",
      "source": [
        "![imagem_trip.jpg](data:image/jpeg;base64,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)"
      ],
      "metadata": {
        "id": "wBLOZW9YUfWS"
      }
    },
    {
      "cell_type": "markdown",
      "source": [
        "## **1. Objetivo**\n",
        "\n",
        "Fazer uma Análise Exploratória de Dados (EDA), em um Dataset escolhido por mim, com o objetivo de colocar em prática os estudos recentes de Python e bibliotecas Pandas e Matplotlib.<br>\n",
        "<br>\n",
        "Essa análise será feita atráves dos dados tabulados e plotados em gráficos, para responder as seguintes questões:<br>\n",
        "<br>\n",
        "**Global**\n",
        "1. Qual a primeira e última data de viagem registrada?<br>\n",
        "2. Qual o destino mais visitado?<br>\n",
        "3. Desse destino mais visitado, quais foram as nacionalidades que mais visitaram?<br>\n",
        "4. Qual a duração média das viagens?<br>\n",
        "5. Qual a duração de viagem mais comum?<br>\n",
        "6. Qual a média da idade dos viajantes?<br>\n",
        "7. Quem viaja mais, homens ou mulheres?<br>\n",
        "8. Qual o tipo de acomodação preferida?<br>\n",
        "9. Qual o meio de transporte preferido?<br>\n",
        "10. Qual é o custo médio com a viagem (considerando apenas acomodação e transporte)?<br>\n",
        "\n",
        "**Brasil**\n",
        "11. Qual a porcentagem dos viajantes que visitaram o Brasil?<br>\n",
        "12. Quais as nacionalidades que mais visitaram o Brasil?<br>\n",
        "13. Qual é a duração mais comum dos visitantes do Brasil?<br>\n",
        "14. Qual a média de idade dos viajantes que visitaram o Brasil?<br>\n",
        "15. Qual o tipo de acomodação mais escolhido pelos visitantes do Brasil?<br>\n",
        "16. Qual o tipo de transporte mais escolhido pelos visitantes do Brasil?<br>\n",
        "17. Qual é o custo médio com a viagem ao Brasil (considerando apenas acomodação e transporte)?"
      ],
      "metadata": {
        "id": "my0r8JtHU0z3"
      }
    },
    {
      "cell_type": "markdown",
      "source": [
        "## **2. Introdução**\n",
        "\n",
        "O Dataset utilizado para essa análise será o **[Traveler Trip Dataset](https://www.kaggle.com/datasets/rkiattisak/traveler-trip-data?resource=download)** disponível no Kaggle.<br>\n",
        "<br>\n",
        "**Sobre o conjunto de dados:**<br>\n",
        "O conjunto de dados de viagem fornece informações detalhadas sobre várias viagens feitas pelos viajantes, incluindo seu destino, datas de viagem, duração da viagem em dias, dados demográficos do viajante (nome, idade, sexo e nacionalidade), bem como o tipo e custo da acomodação e transporte. Esse conjunto de dados pode ser usado para obter informações sobre padrões de viagem, preferências e comportamentos de diferentes tipos de viajantes. Também pode ser útil para empresas relacionadas a viagens, como agências de viagens, criar estratégias de marketing personalizadas e pacotes de viagens que atendam às necessidades e preferências de diferentes viajantes.<br>\n",
        "<br>\n",
        "**Detalhes das Colunas:**<br>\n",
        "**Trip ID:** Um identificador exclusivo para cada viagem feita por um viajante.<br>\n",
        "**Destination:** O nome da cidade ou país visitado pelo viajante.<br>\n",
        "**Start date:** A data em que o viajante iniciou a viagem.<br>\n",
        "**End date:** A data em que o viajante terminou a viagem.<br>\n",
        "**Duration (days):** O número de dias que o viajante passou na viagem.<br>\n",
        "**Traveler name:** O nome do viajante.<br>\n",
        "**Traveler age:** A idade do viajante no momento da viagem.<br>\n",
        "**Traveler gender:** O sexo do viajante.<br>\n",
        "**Traveler nationality:** A nacionalidade do viajante.<br>\n",
        "**Accommodation type:** O tipo de acomodação em que o viajante se hospedou, como hotel, albergue ou Airbnb.<br>\n",
        "**Accommodation cost:** O custo do alojamento para toda a viagem (em USD).<br>\n",
        "**Transportation type:** O meio de transporte usado pelo viajante, como avião, trem ou carro.<br>\n",
        "**Transportation cost:** O custo do transporte para toda a viagem (em USD)."
      ],
      "metadata": {
        "id": "8LuQLh7QWwzH"
      }
    },
    {
      "cell_type": "markdown",
      "source": [
        "## **3. Bibliotecas necessárias**\n",
        "\n",
        "Nesse projeto vou trabalhar com as seguintes bibliotecas:\n",
        "- **Pandas:** Para ajudar na manipulação da base da dados.\n",
        "- **Matplotlib:** Para plotagem de gráficos que irão nos auxiliar na análise.\n",
        "- **Numpy:** Ela torna mais fácil fazer cálculos matemáticos e manipular grandes conjuntos de dados."
      ],
      "metadata": {
        "id": "ViCXFgCfaZyh"
      }
    },
    {
      "cell_type": "code",
      "source": [
        "# Importando bibliotecas Pandas e Matplotlib.\n",
        "import pandas as pd\n",
        "import matplotlib.pyplot as plt\n",
        "import numpy as np\n",
        "%matplotlib inline"
      ],
      "metadata": {
        "id": "5s0u8COrP_p1"
      },
      "execution_count": null,
      "outputs": []
    },
    {
      "cell_type": "markdown",
      "source": [
        "## **4. EDA - Exploratory Data Analysis (Análise Exploratória de Dados)**"
      ],
      "metadata": {
        "id": "00GsTarsar1r"
      }
    },
    {
      "cell_type": "markdown",
      "source": [
        "### **4.1 Leitura e informações do Dataset**"
      ],
      "metadata": {
        "id": "xlFHqWY8bEfp"
      }
    },
    {
      "cell_type": "code",
      "source": [
        "# Lendo o nosso dataset.\n",
        "df = pd.read_csv('/content/gdrive/My Drive/Curso Big Data & Analytics/Aulas Python/Arquivos_Aula21_Python/Analise_Exploratoria/Travel_details_dataset.csv',sep=',')"
      ],
      "metadata": {
        "id": "2HvCZYpdajHm"
      },
      "execution_count": null,
      "outputs": []
    },
    {
      "cell_type": "code",
      "source": [
        "# Mostrando as primeiras e últimas linhas do Dataset.\n",
        "display(df.head())\n",
        "display(df.tail())"
      ],
      "metadata": {
        "colab": {
          "base_uri": "https://localhost:8080/",
          "height": 595
        },
        "id": "Ai0ZcgCwb7CX",
        "outputId": "1c37d42b-9ddc-4499-f208-65c427fdb274"
      },
      "execution_count": null,
      "outputs": [
        {
          "output_type": "display_data",
          "data": {
            "text/plain": [
              "   Trip ID       Destination Start date   End date  Duration (days)  \\\n",
              "0        1        London, UK   5/1/2023   5/8/2023              7.0   \n",
              "1        2  Phuket, Thailand  6/15/2023  6/20/2023              5.0   \n",
              "2        3   Bali, Indonesia   7/1/2023   7/8/2023              7.0   \n",
              "3        4     New York, USA  8/15/2023  8/29/2023             14.0   \n",
              "4        5      Tokyo, Japan  9/10/2023  9/17/2023              7.0   \n",
              "\n",
              "   Traveler name  Traveler age Traveler gender Traveler nationality  \\\n",
              "0     John Smith          35.0            Male             American   \n",
              "1       Jane Doe          28.0          Female             Canadian   \n",
              "2      David Lee          45.0            Male               Korean   \n",
              "3  Sarah Johnson          29.0          Female              British   \n",
              "4     Kim Nguyen          26.0          Female           Vietnamese   \n",
              "\n",
              "  Accommodation type Accommodation cost Transportation type  \\\n",
              "0              Hotel               1200              Flight   \n",
              "1             Resort                800              Flight   \n",
              "2              Villa               1000              Flight   \n",
              "3              Hotel               2000              Flight   \n",
              "4             Airbnb                700               Train   \n",
              "\n",
              "  Transportation cost  \n",
              "0                 600  \n",
              "1                 500  \n",
              "2                 700  \n",
              "3                1000  \n",
              "4                 200  "
            ],
            "text/html": [
              "\n",
              "  <div id=\"df-4c8cc494-99d5-4020-99a2-66047f991c17\">\n",
              "    <div class=\"colab-df-container\">\n",
              "      <div>\n",
              "<style scoped>\n",
              "    .dataframe tbody tr th:only-of-type {\n",
              "        vertical-align: middle;\n",
              "    }\n",
              "\n",
              "    .dataframe tbody tr th {\n",
              "        vertical-align: top;\n",
              "    }\n",
              "\n",
              "    .dataframe thead th {\n",
              "        text-align: right;\n",
              "    }\n",
              "</style>\n",
              "<table border=\"1\" class=\"dataframe\">\n",
              "  <thead>\n",
              "    <tr style=\"text-align: right;\">\n",
              "      <th></th>\n",
              "      <th>Trip ID</th>\n",
              "      <th>Destination</th>\n",
              "      <th>Start date</th>\n",
              "      <th>End date</th>\n",
              "      <th>Duration (days)</th>\n",
              "      <th>Traveler name</th>\n",
              "      <th>Traveler age</th>\n",
              "      <th>Traveler gender</th>\n",
              "      <th>Traveler nationality</th>\n",
              "      <th>Accommodation type</th>\n",
              "      <th>Accommodation cost</th>\n",
              "      <th>Transportation type</th>\n",
              "      <th>Transportation cost</th>\n",
              "    </tr>\n",
              "  </thead>\n",
              "  <tbody>\n",
              "    <tr>\n",
              "      <th>0</th>\n",
              "      <td>1</td>\n",
              "      <td>London, UK</td>\n",
              "      <td>5/1/2023</td>\n",
              "      <td>5/8/2023</td>\n",
              "      <td>7.0</td>\n",
              "      <td>John Smith</td>\n",
              "      <td>35.0</td>\n",
              "      <td>Male</td>\n",
              "      <td>American</td>\n",
              "      <td>Hotel</td>\n",
              "      <td>1200</td>\n",
              "      <td>Flight</td>\n",
              "      <td>600</td>\n",
              "    </tr>\n",
              "    <tr>\n",
              "      <th>1</th>\n",
              "      <td>2</td>\n",
              "      <td>Phuket, Thailand</td>\n",
              "      <td>6/15/2023</td>\n",
              "      <td>6/20/2023</td>\n",
              "      <td>5.0</td>\n",
              "      <td>Jane Doe</td>\n",
              "      <td>28.0</td>\n",
              "      <td>Female</td>\n",
              "      <td>Canadian</td>\n",
              "      <td>Resort</td>\n",
              "      <td>800</td>\n",
              "      <td>Flight</td>\n",
              "      <td>500</td>\n",
              "    </tr>\n",
              "    <tr>\n",
              "      <th>2</th>\n",
              "      <td>3</td>\n",
              "      <td>Bali, Indonesia</td>\n",
              "      <td>7/1/2023</td>\n",
              "      <td>7/8/2023</td>\n",
              "      <td>7.0</td>\n",
              "      <td>David Lee</td>\n",
              "      <td>45.0</td>\n",
              "      <td>Male</td>\n",
              "      <td>Korean</td>\n",
              "      <td>Villa</td>\n",
              "      <td>1000</td>\n",
              "      <td>Flight</td>\n",
              "      <td>700</td>\n",
              "    </tr>\n",
              "    <tr>\n",
              "      <th>3</th>\n",
              "      <td>4</td>\n",
              "      <td>New York, USA</td>\n",
              "      <td>8/15/2023</td>\n",
              "      <td>8/29/2023</td>\n",
              "      <td>14.0</td>\n",
              "      <td>Sarah Johnson</td>\n",
              "      <td>29.0</td>\n",
              "      <td>Female</td>\n",
              "      <td>British</td>\n",
              "      <td>Hotel</td>\n",
              "      <td>2000</td>\n",
              "      <td>Flight</td>\n",
              "      <td>1000</td>\n",
              "    </tr>\n",
              "    <tr>\n",
              "      <th>4</th>\n",
              "      <td>5</td>\n",
              "      <td>Tokyo, Japan</td>\n",
              "      <td>9/10/2023</td>\n",
              "      <td>9/17/2023</td>\n",
              "      <td>7.0</td>\n",
              "      <td>Kim Nguyen</td>\n",
              "      <td>26.0</td>\n",
              "      <td>Female</td>\n",
              "      <td>Vietnamese</td>\n",
              "      <td>Airbnb</td>\n",
              "      <td>700</td>\n",
              "      <td>Train</td>\n",
              "      <td>200</td>\n",
              "    </tr>\n",
              "  </tbody>\n",
              "</table>\n",
              "</div>\n",
              "      <button class=\"colab-df-convert\" onclick=\"convertToInteractive('df-4c8cc494-99d5-4020-99a2-66047f991c17')\"\n",
              "              title=\"Convert this dataframe to an interactive table.\"\n",
              "              style=\"display:none;\">\n",
              "        \n",
              "  <svg xmlns=\"http://www.w3.org/2000/svg\" height=\"24px\"viewBox=\"0 0 24 24\"\n",
              "       width=\"24px\">\n",
              "    <path d=\"M0 0h24v24H0V0z\" fill=\"none\"/>\n",
              "    <path d=\"M18.56 5.44l.94 2.06.94-2.06 2.06-.94-2.06-.94-.94-2.06-.94 2.06-2.06.94zm-11 1L8.5 8.5l.94-2.06 2.06-.94-2.06-.94L8.5 2.5l-.94 2.06-2.06.94zm10 10l.94 2.06.94-2.06 2.06-.94-2.06-.94-.94-2.06-.94 2.06-2.06.94z\"/><path d=\"M17.41 7.96l-1.37-1.37c-.4-.4-.92-.59-1.43-.59-.52 0-1.04.2-1.43.59L10.3 9.45l-7.72 7.72c-.78.78-.78 2.05 0 2.83L4 21.41c.39.39.9.59 1.41.59.51 0 1.02-.2 1.41-.59l7.78-7.78 2.81-2.81c.8-.78.8-2.07 0-2.86zM5.41 20L4 18.59l7.72-7.72 1.47 1.35L5.41 20z\"/>\n",
              "  </svg>\n",
              "      </button>\n",
              "      \n",
              "  <style>\n",
              "    .colab-df-container {\n",
              "      display:flex;\n",
              "      flex-wrap:wrap;\n",
              "      gap: 12px;\n",
              "    }\n",
              "\n",
              "    .colab-df-convert {\n",
              "      background-color: #E8F0FE;\n",
              "      border: none;\n",
              "      border-radius: 50%;\n",
              "      cursor: pointer;\n",
              "      display: none;\n",
              "      fill: #1967D2;\n",
              "      height: 32px;\n",
              "      padding: 0 0 0 0;\n",
              "      width: 32px;\n",
              "    }\n",
              "\n",
              "    .colab-df-convert:hover {\n",
              "      background-color: #E2EBFA;\n",
              "      box-shadow: 0px 1px 2px rgba(60, 64, 67, 0.3), 0px 1px 3px 1px rgba(60, 64, 67, 0.15);\n",
              "      fill: #174EA6;\n",
              "    }\n",
              "\n",
              "    [theme=dark] .colab-df-convert {\n",
              "      background-color: #3B4455;\n",
              "      fill: #D2E3FC;\n",
              "    }\n",
              "\n",
              "    [theme=dark] .colab-df-convert:hover {\n",
              "      background-color: #434B5C;\n",
              "      box-shadow: 0px 1px 3px 1px rgba(0, 0, 0, 0.15);\n",
              "      filter: drop-shadow(0px 1px 2px rgba(0, 0, 0, 0.3));\n",
              "      fill: #FFFFFF;\n",
              "    }\n",
              "  </style>\n",
              "\n",
              "      <script>\n",
              "        const buttonEl =\n",
              "          document.querySelector('#df-4c8cc494-99d5-4020-99a2-66047f991c17 button.colab-df-convert');\n",
              "        buttonEl.style.display =\n",
              "          google.colab.kernel.accessAllowed ? 'block' : 'none';\n",
              "\n",
              "        async function convertToInteractive(key) {\n",
              "          const element = document.querySelector('#df-4c8cc494-99d5-4020-99a2-66047f991c17');\n",
              "          const dataTable =\n",
              "            await google.colab.kernel.invokeFunction('convertToInteractive',\n",
              "                                                     [key], {});\n",
              "          if (!dataTable) return;\n",
              "\n",
              "          const docLinkHtml = 'Like what you see? Visit the ' +\n",
              "            '<a target=\"_blank\" href=https://colab.research.google.com/notebooks/data_table.ipynb>data table notebook</a>'\n",
              "            + ' to learn more about interactive tables.';\n",
              "          element.innerHTML = '';\n",
              "          dataTable['output_type'] = 'display_data';\n",
              "          await google.colab.output.renderOutput(dataTable, element);\n",
              "          const docLink = document.createElement('div');\n",
              "          docLink.innerHTML = docLinkHtml;\n",
              "          element.appendChild(docLink);\n",
              "        }\n",
              "      </script>\n",
              "    </div>\n",
              "  </div>\n",
              "  "
            ]
          },
          "metadata": {}
        },
        {
          "output_type": "display_data",
          "data": {
            "text/plain": [
              "     Trip ID             Destination Start date   End date  Duration (days)  \\\n",
              "134      135  Rio de Janeiro, Brazil   8/1/2023  8/10/2023              9.0   \n",
              "135      136       Vancouver, Canada  8/15/2023  8/21/2023              6.0   \n",
              "136      137       Bangkok, Thailand   9/1/2023   9/8/2023              7.0   \n",
              "137      138        Barcelona, Spain  9/15/2023  9/22/2023              7.0   \n",
              "138      139   Auckland, New Zealand  10/1/2023  10/8/2023              7.0   \n",
              "\n",
              "       Traveler name  Traveler age Traveler gender Traveler nationality  \\\n",
              "134       Jose Perez          37.0            Male            Brazilian   \n",
              "135      Emma Wilson          29.0          Female             Canadian   \n",
              "136        Ryan Chen          34.0            Male              Chinese   \n",
              "137  Sofia Rodriguez          25.0          Female              Spanish   \n",
              "138    William Brown          39.0            Male        New Zealander   \n",
              "\n",
              "    Accommodation type Accommodation cost Transportation type  \\\n",
              "134             Hostel               2500                 Car   \n",
              "135              Hotel               5000            Airplane   \n",
              "136             Hostel               2000               Train   \n",
              "137             Airbnb               6000            Airplane   \n",
              "138              Hotel               7000               Train   \n",
              "\n",
              "    Transportation cost  \n",
              "134                2000  \n",
              "135                3000  \n",
              "136                1000  \n",
              "137                2500  \n",
              "138                2500  "
            ],
            "text/html": [
              "\n",
              "  <div id=\"df-29880cad-fe07-48cb-845c-9d62c7de2f29\">\n",
              "    <div class=\"colab-df-container\">\n",
              "      <div>\n",
              "<style scoped>\n",
              "    .dataframe tbody tr th:only-of-type {\n",
              "        vertical-align: middle;\n",
              "    }\n",
              "\n",
              "    .dataframe tbody tr th {\n",
              "        vertical-align: top;\n",
              "    }\n",
              "\n",
              "    .dataframe thead th {\n",
              "        text-align: right;\n",
              "    }\n",
              "</style>\n",
              "<table border=\"1\" class=\"dataframe\">\n",
              "  <thead>\n",
              "    <tr style=\"text-align: right;\">\n",
              "      <th></th>\n",
              "      <th>Trip ID</th>\n",
              "      <th>Destination</th>\n",
              "      <th>Start date</th>\n",
              "      <th>End date</th>\n",
              "      <th>Duration (days)</th>\n",
              "      <th>Traveler name</th>\n",
              "      <th>Traveler age</th>\n",
              "      <th>Traveler gender</th>\n",
              "      <th>Traveler nationality</th>\n",
              "      <th>Accommodation type</th>\n",
              "      <th>Accommodation cost</th>\n",
              "      <th>Transportation type</th>\n",
              "      <th>Transportation cost</th>\n",
              "    </tr>\n",
              "  </thead>\n",
              "  <tbody>\n",
              "    <tr>\n",
              "      <th>134</th>\n",
              "      <td>135</td>\n",
              "      <td>Rio de Janeiro, Brazil</td>\n",
              "      <td>8/1/2023</td>\n",
              "      <td>8/10/2023</td>\n",
              "      <td>9.0</td>\n",
              "      <td>Jose Perez</td>\n",
              "      <td>37.0</td>\n",
              "      <td>Male</td>\n",
              "      <td>Brazilian</td>\n",
              "      <td>Hostel</td>\n",
              "      <td>2500</td>\n",
              "      <td>Car</td>\n",
              "      <td>2000</td>\n",
              "    </tr>\n",
              "    <tr>\n",
              "      <th>135</th>\n",
              "      <td>136</td>\n",
              "      <td>Vancouver, Canada</td>\n",
              "      <td>8/15/2023</td>\n",
              "      <td>8/21/2023</td>\n",
              "      <td>6.0</td>\n",
              "      <td>Emma Wilson</td>\n",
              "      <td>29.0</td>\n",
              "      <td>Female</td>\n",
              "      <td>Canadian</td>\n",
              "      <td>Hotel</td>\n",
              "      <td>5000</td>\n",
              "      <td>Airplane</td>\n",
              "      <td>3000</td>\n",
              "    </tr>\n",
              "    <tr>\n",
              "      <th>136</th>\n",
              "      <td>137</td>\n",
              "      <td>Bangkok, Thailand</td>\n",
              "      <td>9/1/2023</td>\n",
              "      <td>9/8/2023</td>\n",
              "      <td>7.0</td>\n",
              "      <td>Ryan Chen</td>\n",
              "      <td>34.0</td>\n",
              "      <td>Male</td>\n",
              "      <td>Chinese</td>\n",
              "      <td>Hostel</td>\n",
              "      <td>2000</td>\n",
              "      <td>Train</td>\n",
              "      <td>1000</td>\n",
              "    </tr>\n",
              "    <tr>\n",
              "      <th>137</th>\n",
              "      <td>138</td>\n",
              "      <td>Barcelona, Spain</td>\n",
              "      <td>9/15/2023</td>\n",
              "      <td>9/22/2023</td>\n",
              "      <td>7.0</td>\n",
              "      <td>Sofia Rodriguez</td>\n",
              "      <td>25.0</td>\n",
              "      <td>Female</td>\n",
              "      <td>Spanish</td>\n",
              "      <td>Airbnb</td>\n",
              "      <td>6000</td>\n",
              "      <td>Airplane</td>\n",
              "      <td>2500</td>\n",
              "    </tr>\n",
              "    <tr>\n",
              "      <th>138</th>\n",
              "      <td>139</td>\n",
              "      <td>Auckland, New Zealand</td>\n",
              "      <td>10/1/2023</td>\n",
              "      <td>10/8/2023</td>\n",
              "      <td>7.0</td>\n",
              "      <td>William Brown</td>\n",
              "      <td>39.0</td>\n",
              "      <td>Male</td>\n",
              "      <td>New Zealander</td>\n",
              "      <td>Hotel</td>\n",
              "      <td>7000</td>\n",
              "      <td>Train</td>\n",
              "      <td>2500</td>\n",
              "    </tr>\n",
              "  </tbody>\n",
              "</table>\n",
              "</div>\n",
              "      <button class=\"colab-df-convert\" onclick=\"convertToInteractive('df-29880cad-fe07-48cb-845c-9d62c7de2f29')\"\n",
              "              title=\"Convert this dataframe to an interactive table.\"\n",
              "              style=\"display:none;\">\n",
              "        \n",
              "  <svg xmlns=\"http://www.w3.org/2000/svg\" height=\"24px\"viewBox=\"0 0 24 24\"\n",
              "       width=\"24px\">\n",
              "    <path d=\"M0 0h24v24H0V0z\" fill=\"none\"/>\n",
              "    <path d=\"M18.56 5.44l.94 2.06.94-2.06 2.06-.94-2.06-.94-.94-2.06-.94 2.06-2.06.94zm-11 1L8.5 8.5l.94-2.06 2.06-.94-2.06-.94L8.5 2.5l-.94 2.06-2.06.94zm10 10l.94 2.06.94-2.06 2.06-.94-2.06-.94-.94-2.06-.94 2.06-2.06.94z\"/><path d=\"M17.41 7.96l-1.37-1.37c-.4-.4-.92-.59-1.43-.59-.52 0-1.04.2-1.43.59L10.3 9.45l-7.72 7.72c-.78.78-.78 2.05 0 2.83L4 21.41c.39.39.9.59 1.41.59.51 0 1.02-.2 1.41-.59l7.78-7.78 2.81-2.81c.8-.78.8-2.07 0-2.86zM5.41 20L4 18.59l7.72-7.72 1.47 1.35L5.41 20z\"/>\n",
              "  </svg>\n",
              "      </button>\n",
              "      \n",
              "  <style>\n",
              "    .colab-df-container {\n",
              "      display:flex;\n",
              "      flex-wrap:wrap;\n",
              "      gap: 12px;\n",
              "    }\n",
              "\n",
              "    .colab-df-convert {\n",
              "      background-color: #E8F0FE;\n",
              "      border: none;\n",
              "      border-radius: 50%;\n",
              "      cursor: pointer;\n",
              "      display: none;\n",
              "      fill: #1967D2;\n",
              "      height: 32px;\n",
              "      padding: 0 0 0 0;\n",
              "      width: 32px;\n",
              "    }\n",
              "\n",
              "    .colab-df-convert:hover {\n",
              "      background-color: #E2EBFA;\n",
              "      box-shadow: 0px 1px 2px rgba(60, 64, 67, 0.3), 0px 1px 3px 1px rgba(60, 64, 67, 0.15);\n",
              "      fill: #174EA6;\n",
              "    }\n",
              "\n",
              "    [theme=dark] .colab-df-convert {\n",
              "      background-color: #3B4455;\n",
              "      fill: #D2E3FC;\n",
              "    }\n",
              "\n",
              "    [theme=dark] .colab-df-convert:hover {\n",
              "      background-color: #434B5C;\n",
              "      box-shadow: 0px 1px 3px 1px rgba(0, 0, 0, 0.15);\n",
              "      filter: drop-shadow(0px 1px 2px rgba(0, 0, 0, 0.3));\n",
              "      fill: #FFFFFF;\n",
              "    }\n",
              "  </style>\n",
              "\n",
              "      <script>\n",
              "        const buttonEl =\n",
              "          document.querySelector('#df-29880cad-fe07-48cb-845c-9d62c7de2f29 button.colab-df-convert');\n",
              "        buttonEl.style.display =\n",
              "          google.colab.kernel.accessAllowed ? 'block' : 'none';\n",
              "\n",
              "        async function convertToInteractive(key) {\n",
              "          const element = document.querySelector('#df-29880cad-fe07-48cb-845c-9d62c7de2f29');\n",
              "          const dataTable =\n",
              "            await google.colab.kernel.invokeFunction('convertToInteractive',\n",
              "                                                     [key], {});\n",
              "          if (!dataTable) return;\n",
              "\n",
              "          const docLinkHtml = 'Like what you see? Visit the ' +\n",
              "            '<a target=\"_blank\" href=https://colab.research.google.com/notebooks/data_table.ipynb>data table notebook</a>'\n",
              "            + ' to learn more about interactive tables.';\n",
              "          element.innerHTML = '';\n",
              "          dataTable['output_type'] = 'display_data';\n",
              "          await google.colab.output.renderOutput(dataTable, element);\n",
              "          const docLink = document.createElement('div');\n",
              "          docLink.innerHTML = docLinkHtml;\n",
              "          element.appendChild(docLink);\n",
              "        }\n",
              "      </script>\n",
              "    </div>\n",
              "  </div>\n",
              "  "
            ]
          },
          "metadata": {}
        }
      ]
    },
    {
      "cell_type": "code",
      "source": [
        "# Mostrando quantidade de linhas e colunas do Dataset.\n",
        "df.shape"
      ],
      "metadata": {
        "colab": {
          "base_uri": "https://localhost:8080/"
        },
        "id": "RMIC2wrRdC6R",
        "outputId": "a702a6a5-9fa0-41da-8a3b-bd9e16138bbd"
      },
      "execution_count": null,
      "outputs": [
        {
          "output_type": "execute_result",
          "data": {
            "text/plain": [
              "(139, 13)"
            ]
          },
          "metadata": {},
          "execution_count": 656
        }
      ]
    },
    {
      "cell_type": "code",
      "source": [
        "# Mostrando informações sobre as variáveis do Dataset.\n",
        "df.info()"
      ],
      "metadata": {
        "colab": {
          "base_uri": "https://localhost:8080/"
        },
        "id": "C906a-JSfZZC",
        "outputId": "4f866936-6a9f-43f7-c28d-1cde80bc1868"
      },
      "execution_count": null,
      "outputs": [
        {
          "output_type": "stream",
          "name": "stdout",
          "text": [
            "<class 'pandas.core.frame.DataFrame'>\n",
            "RangeIndex: 139 entries, 0 to 138\n",
            "Data columns (total 13 columns):\n",
            " #   Column                Non-Null Count  Dtype  \n",
            "---  ------                --------------  -----  \n",
            " 0   Trip ID               139 non-null    int64  \n",
            " 1   Destination           137 non-null    object \n",
            " 2   Start date            137 non-null    object \n",
            " 3   End date              137 non-null    object \n",
            " 4   Duration (days)       137 non-null    float64\n",
            " 5   Traveler name         137 non-null    object \n",
            " 6   Traveler age          137 non-null    float64\n",
            " 7   Traveler gender       137 non-null    object \n",
            " 8   Traveler nationality  137 non-null    object \n",
            " 9   Accommodation type    137 non-null    object \n",
            " 10  Accommodation cost    137 non-null    object \n",
            " 11  Transportation type   136 non-null    object \n",
            " 12  Transportation cost   136 non-null    object \n",
            "dtypes: float64(2), int64(1), object(10)\n",
            "memory usage: 14.2+ KB\n"
          ]
        }
      ]
    },
    {
      "cell_type": "markdown",
      "source": [
        "### **4.2 Limpeza e Transformação do Dataset**"
      ],
      "metadata": {
        "id": "VkGyBw40gd6K"
      }
    },
    {
      "cell_type": "code",
      "source": [
        "# Removendo coluna de nome do viajante, desnecessária para essa análise.\n",
        "df = df.drop(columns='Traveler name')\n",
        "df"
      ],
      "metadata": {
        "colab": {
          "base_uri": "https://localhost:8080/",
          "height": 519
        },
        "id": "m8oWVJw_hrDH",
        "outputId": "7688b7cf-893f-479f-83e4-240fb7244475"
      },
      "execution_count": null,
      "outputs": [
        {
          "output_type": "execute_result",
          "data": {
            "text/plain": [
              "     Trip ID             Destination Start date   End date  Duration (days)  \\\n",
              "0          1              London, UK   5/1/2023   5/8/2023              7.0   \n",
              "1          2        Phuket, Thailand  6/15/2023  6/20/2023              5.0   \n",
              "2          3         Bali, Indonesia   7/1/2023   7/8/2023              7.0   \n",
              "3          4           New York, USA  8/15/2023  8/29/2023             14.0   \n",
              "4          5            Tokyo, Japan  9/10/2023  9/17/2023              7.0   \n",
              "..       ...                     ...        ...        ...              ...   \n",
              "134      135  Rio de Janeiro, Brazil   8/1/2023  8/10/2023              9.0   \n",
              "135      136       Vancouver, Canada  8/15/2023  8/21/2023              6.0   \n",
              "136      137       Bangkok, Thailand   9/1/2023   9/8/2023              7.0   \n",
              "137      138        Barcelona, Spain  9/15/2023  9/22/2023              7.0   \n",
              "138      139   Auckland, New Zealand  10/1/2023  10/8/2023              7.0   \n",
              "\n",
              "     Traveler age Traveler gender Traveler nationality Accommodation type  \\\n",
              "0            35.0            Male             American              Hotel   \n",
              "1            28.0          Female             Canadian             Resort   \n",
              "2            45.0            Male               Korean              Villa   \n",
              "3            29.0          Female              British              Hotel   \n",
              "4            26.0          Female           Vietnamese             Airbnb   \n",
              "..            ...             ...                  ...                ...   \n",
              "134          37.0            Male            Brazilian             Hostel   \n",
              "135          29.0          Female             Canadian              Hotel   \n",
              "136          34.0            Male              Chinese             Hostel   \n",
              "137          25.0          Female              Spanish             Airbnb   \n",
              "138          39.0            Male        New Zealander              Hotel   \n",
              "\n",
              "    Accommodation cost Transportation type Transportation cost  \n",
              "0                 1200              Flight                 600  \n",
              "1                  800              Flight                 500  \n",
              "2                 1000              Flight                 700  \n",
              "3                 2000              Flight                1000  \n",
              "4                  700               Train                 200  \n",
              "..                 ...                 ...                 ...  \n",
              "134               2500                 Car                2000  \n",
              "135               5000            Airplane                3000  \n",
              "136               2000               Train                1000  \n",
              "137               6000            Airplane                2500  \n",
              "138               7000               Train                2500  \n",
              "\n",
              "[139 rows x 12 columns]"
            ],
            "text/html": [
              "\n",
              "  <div id=\"df-e46dce2b-a8f6-40a9-8495-9834771bf8db\">\n",
              "    <div class=\"colab-df-container\">\n",
              "      <div>\n",
              "<style scoped>\n",
              "    .dataframe tbody tr th:only-of-type {\n",
              "        vertical-align: middle;\n",
              "    }\n",
              "\n",
              "    .dataframe tbody tr th {\n",
              "        vertical-align: top;\n",
              "    }\n",
              "\n",
              "    .dataframe thead th {\n",
              "        text-align: right;\n",
              "    }\n",
              "</style>\n",
              "<table border=\"1\" class=\"dataframe\">\n",
              "  <thead>\n",
              "    <tr style=\"text-align: right;\">\n",
              "      <th></th>\n",
              "      <th>Trip ID</th>\n",
              "      <th>Destination</th>\n",
              "      <th>Start date</th>\n",
              "      <th>End date</th>\n",
              "      <th>Duration (days)</th>\n",
              "      <th>Traveler age</th>\n",
              "      <th>Traveler gender</th>\n",
              "      <th>Traveler nationality</th>\n",
              "      <th>Accommodation type</th>\n",
              "      <th>Accommodation cost</th>\n",
              "      <th>Transportation type</th>\n",
              "      <th>Transportation cost</th>\n",
              "    </tr>\n",
              "  </thead>\n",
              "  <tbody>\n",
              "    <tr>\n",
              "      <th>0</th>\n",
              "      <td>1</td>\n",
              "      <td>London, UK</td>\n",
              "      <td>5/1/2023</td>\n",
              "      <td>5/8/2023</td>\n",
              "      <td>7.0</td>\n",
              "      <td>35.0</td>\n",
              "      <td>Male</td>\n",
              "      <td>American</td>\n",
              "      <td>Hotel</td>\n",
              "      <td>1200</td>\n",
              "      <td>Flight</td>\n",
              "      <td>600</td>\n",
              "    </tr>\n",
              "    <tr>\n",
              "      <th>1</th>\n",
              "      <td>2</td>\n",
              "      <td>Phuket, Thailand</td>\n",
              "      <td>6/15/2023</td>\n",
              "      <td>6/20/2023</td>\n",
              "      <td>5.0</td>\n",
              "      <td>28.0</td>\n",
              "      <td>Female</td>\n",
              "      <td>Canadian</td>\n",
              "      <td>Resort</td>\n",
              "      <td>800</td>\n",
              "      <td>Flight</td>\n",
              "      <td>500</td>\n",
              "    </tr>\n",
              "    <tr>\n",
              "      <th>2</th>\n",
              "      <td>3</td>\n",
              "      <td>Bali, Indonesia</td>\n",
              "      <td>7/1/2023</td>\n",
              "      <td>7/8/2023</td>\n",
              "      <td>7.0</td>\n",
              "      <td>45.0</td>\n",
              "      <td>Male</td>\n",
              "      <td>Korean</td>\n",
              "      <td>Villa</td>\n",
              "      <td>1000</td>\n",
              "      <td>Flight</td>\n",
              "      <td>700</td>\n",
              "    </tr>\n",
              "    <tr>\n",
              "      <th>3</th>\n",
              "      <td>4</td>\n",
              "      <td>New York, USA</td>\n",
              "      <td>8/15/2023</td>\n",
              "      <td>8/29/2023</td>\n",
              "      <td>14.0</td>\n",
              "      <td>29.0</td>\n",
              "      <td>Female</td>\n",
              "      <td>British</td>\n",
              "      <td>Hotel</td>\n",
              "      <td>2000</td>\n",
              "      <td>Flight</td>\n",
              "      <td>1000</td>\n",
              "    </tr>\n",
              "    <tr>\n",
              "      <th>4</th>\n",
              "      <td>5</td>\n",
              "      <td>Tokyo, Japan</td>\n",
              "      <td>9/10/2023</td>\n",
              "      <td>9/17/2023</td>\n",
              "      <td>7.0</td>\n",
              "      <td>26.0</td>\n",
              "      <td>Female</td>\n",
              "      <td>Vietnamese</td>\n",
              "      <td>Airbnb</td>\n",
              "      <td>700</td>\n",
              "      <td>Train</td>\n",
              "      <td>200</td>\n",
              "    </tr>\n",
              "    <tr>\n",
              "      <th>...</th>\n",
              "      <td>...</td>\n",
              "      <td>...</td>\n",
              "      <td>...</td>\n",
              "      <td>...</td>\n",
              "      <td>...</td>\n",
              "      <td>...</td>\n",
              "      <td>...</td>\n",
              "      <td>...</td>\n",
              "      <td>...</td>\n",
              "      <td>...</td>\n",
              "      <td>...</td>\n",
              "      <td>...</td>\n",
              "    </tr>\n",
              "    <tr>\n",
              "      <th>134</th>\n",
              "      <td>135</td>\n",
              "      <td>Rio de Janeiro, Brazil</td>\n",
              "      <td>8/1/2023</td>\n",
              "      <td>8/10/2023</td>\n",
              "      <td>9.0</td>\n",
              "      <td>37.0</td>\n",
              "      <td>Male</td>\n",
              "      <td>Brazilian</td>\n",
              "      <td>Hostel</td>\n",
              "      <td>2500</td>\n",
              "      <td>Car</td>\n",
              "      <td>2000</td>\n",
              "    </tr>\n",
              "    <tr>\n",
              "      <th>135</th>\n",
              "      <td>136</td>\n",
              "      <td>Vancouver, Canada</td>\n",
              "      <td>8/15/2023</td>\n",
              "      <td>8/21/2023</td>\n",
              "      <td>6.0</td>\n",
              "      <td>29.0</td>\n",
              "      <td>Female</td>\n",
              "      <td>Canadian</td>\n",
              "      <td>Hotel</td>\n",
              "      <td>5000</td>\n",
              "      <td>Airplane</td>\n",
              "      <td>3000</td>\n",
              "    </tr>\n",
              "    <tr>\n",
              "      <th>136</th>\n",
              "      <td>137</td>\n",
              "      <td>Bangkok, Thailand</td>\n",
              "      <td>9/1/2023</td>\n",
              "      <td>9/8/2023</td>\n",
              "      <td>7.0</td>\n",
              "      <td>34.0</td>\n",
              "      <td>Male</td>\n",
              "      <td>Chinese</td>\n",
              "      <td>Hostel</td>\n",
              "      <td>2000</td>\n",
              "      <td>Train</td>\n",
              "      <td>1000</td>\n",
              "    </tr>\n",
              "    <tr>\n",
              "      <th>137</th>\n",
              "      <td>138</td>\n",
              "      <td>Barcelona, Spain</td>\n",
              "      <td>9/15/2023</td>\n",
              "      <td>9/22/2023</td>\n",
              "      <td>7.0</td>\n",
              "      <td>25.0</td>\n",
              "      <td>Female</td>\n",
              "      <td>Spanish</td>\n",
              "      <td>Airbnb</td>\n",
              "      <td>6000</td>\n",
              "      <td>Airplane</td>\n",
              "      <td>2500</td>\n",
              "    </tr>\n",
              "    <tr>\n",
              "      <th>138</th>\n",
              "      <td>139</td>\n",
              "      <td>Auckland, New Zealand</td>\n",
              "      <td>10/1/2023</td>\n",
              "      <td>10/8/2023</td>\n",
              "      <td>7.0</td>\n",
              "      <td>39.0</td>\n",
              "      <td>Male</td>\n",
              "      <td>New Zealander</td>\n",
              "      <td>Hotel</td>\n",
              "      <td>7000</td>\n",
              "      <td>Train</td>\n",
              "      <td>2500</td>\n",
              "    </tr>\n",
              "  </tbody>\n",
              "</table>\n",
              "<p>139 rows × 12 columns</p>\n",
              "</div>\n",
              "      <button class=\"colab-df-convert\" onclick=\"convertToInteractive('df-e46dce2b-a8f6-40a9-8495-9834771bf8db')\"\n",
              "              title=\"Convert this dataframe to an interactive table.\"\n",
              "              style=\"display:none;\">\n",
              "        \n",
              "  <svg xmlns=\"http://www.w3.org/2000/svg\" height=\"24px\"viewBox=\"0 0 24 24\"\n",
              "       width=\"24px\">\n",
              "    <path d=\"M0 0h24v24H0V0z\" fill=\"none\"/>\n",
              "    <path d=\"M18.56 5.44l.94 2.06.94-2.06 2.06-.94-2.06-.94-.94-2.06-.94 2.06-2.06.94zm-11 1L8.5 8.5l.94-2.06 2.06-.94-2.06-.94L8.5 2.5l-.94 2.06-2.06.94zm10 10l.94 2.06.94-2.06 2.06-.94-2.06-.94-.94-2.06-.94 2.06-2.06.94z\"/><path d=\"M17.41 7.96l-1.37-1.37c-.4-.4-.92-.59-1.43-.59-.52 0-1.04.2-1.43.59L10.3 9.45l-7.72 7.72c-.78.78-.78 2.05 0 2.83L4 21.41c.39.39.9.59 1.41.59.51 0 1.02-.2 1.41-.59l7.78-7.78 2.81-2.81c.8-.78.8-2.07 0-2.86zM5.41 20L4 18.59l7.72-7.72 1.47 1.35L5.41 20z\"/>\n",
              "  </svg>\n",
              "      </button>\n",
              "      \n",
              "  <style>\n",
              "    .colab-df-container {\n",
              "      display:flex;\n",
              "      flex-wrap:wrap;\n",
              "      gap: 12px;\n",
              "    }\n",
              "\n",
              "    .colab-df-convert {\n",
              "      background-color: #E8F0FE;\n",
              "      border: none;\n",
              "      border-radius: 50%;\n",
              "      cursor: pointer;\n",
              "      display: none;\n",
              "      fill: #1967D2;\n",
              "      height: 32px;\n",
              "      padding: 0 0 0 0;\n",
              "      width: 32px;\n",
              "    }\n",
              "\n",
              "    .colab-df-convert:hover {\n",
              "      background-color: #E2EBFA;\n",
              "      box-shadow: 0px 1px 2px rgba(60, 64, 67, 0.3), 0px 1px 3px 1px rgba(60, 64, 67, 0.15);\n",
              "      fill: #174EA6;\n",
              "    }\n",
              "\n",
              "    [theme=dark] .colab-df-convert {\n",
              "      background-color: #3B4455;\n",
              "      fill: #D2E3FC;\n",
              "    }\n",
              "\n",
              "    [theme=dark] .colab-df-convert:hover {\n",
              "      background-color: #434B5C;\n",
              "      box-shadow: 0px 1px 3px 1px rgba(0, 0, 0, 0.15);\n",
              "      filter: drop-shadow(0px 1px 2px rgba(0, 0, 0, 0.3));\n",
              "      fill: #FFFFFF;\n",
              "    }\n",
              "  </style>\n",
              "\n",
              "      <script>\n",
              "        const buttonEl =\n",
              "          document.querySelector('#df-e46dce2b-a8f6-40a9-8495-9834771bf8db button.colab-df-convert');\n",
              "        buttonEl.style.display =\n",
              "          google.colab.kernel.accessAllowed ? 'block' : 'none';\n",
              "\n",
              "        async function convertToInteractive(key) {\n",
              "          const element = document.querySelector('#df-e46dce2b-a8f6-40a9-8495-9834771bf8db');\n",
              "          const dataTable =\n",
              "            await google.colab.kernel.invokeFunction('convertToInteractive',\n",
              "                                                     [key], {});\n",
              "          if (!dataTable) return;\n",
              "\n",
              "          const docLinkHtml = 'Like what you see? Visit the ' +\n",
              "            '<a target=\"_blank\" href=https://colab.research.google.com/notebooks/data_table.ipynb>data table notebook</a>'\n",
              "            + ' to learn more about interactive tables.';\n",
              "          element.innerHTML = '';\n",
              "          dataTable['output_type'] = 'display_data';\n",
              "          await google.colab.output.renderOutput(dataTable, element);\n",
              "          const docLink = document.createElement('div');\n",
              "          docLink.innerHTML = docLinkHtml;\n",
              "          element.appendChild(docLink);\n",
              "        }\n",
              "      </script>\n",
              "    </div>\n",
              "  </div>\n",
              "  "
            ]
          },
          "metadata": {},
          "execution_count": 658
        }
      ]
    },
    {
      "cell_type": "code",
      "source": [
        "# Renomeando colunas para o português, para facilitar o entendimento das mesmas.\n",
        "df = df.rename(columns={'Trip ID':'ID da viagem',\n",
        "                   'Destination':'Destino',\n",
        "                   'Start date':'Começo da viagem',\n",
        "                   'End date':'Fim da viagem',\n",
        "                   'Duration (days)':'Duração (dias)',\n",
        "                   'Traveler age':'Idade do viajante',\n",
        "                   'Traveler gender':'Sexo do viajante',\n",
        "                   'Traveler nationality':'Nacionalidade do viajante',\n",
        "                   'Accommodation type':'Tipo de acomodação',\n",
        "                   'Accommodation cost':'Custo da acomodação',\n",
        "                   'Transportation type':'Tipo de transporte',\n",
        "                   'Transportation cost':'Custo do transporte'})\n",
        "df"
      ],
      "metadata": {
        "colab": {
          "base_uri": "https://localhost:8080/",
          "height": 554
        },
        "id": "VqDM00hXfoa9",
        "outputId": "7f165b63-dfd6-4d32-df4e-604a91990487"
      },
      "execution_count": null,
      "outputs": [
        {
          "output_type": "execute_result",
          "data": {
            "text/plain": [
              "     ID da viagem                 Destino Começo da viagem Fim da viagem  \\\n",
              "0               1              London, UK         5/1/2023      5/8/2023   \n",
              "1               2        Phuket, Thailand        6/15/2023     6/20/2023   \n",
              "2               3         Bali, Indonesia         7/1/2023      7/8/2023   \n",
              "3               4           New York, USA        8/15/2023     8/29/2023   \n",
              "4               5            Tokyo, Japan        9/10/2023     9/17/2023   \n",
              "..            ...                     ...              ...           ...   \n",
              "134           135  Rio de Janeiro, Brazil         8/1/2023     8/10/2023   \n",
              "135           136       Vancouver, Canada        8/15/2023     8/21/2023   \n",
              "136           137       Bangkok, Thailand         9/1/2023      9/8/2023   \n",
              "137           138        Barcelona, Spain        9/15/2023     9/22/2023   \n",
              "138           139   Auckland, New Zealand        10/1/2023     10/8/2023   \n",
              "\n",
              "     Duração (dias)  Idade do viajante Sexo do viajante  \\\n",
              "0               7.0               35.0             Male   \n",
              "1               5.0               28.0           Female   \n",
              "2               7.0               45.0             Male   \n",
              "3              14.0               29.0           Female   \n",
              "4               7.0               26.0           Female   \n",
              "..              ...                ...              ...   \n",
              "134             9.0               37.0             Male   \n",
              "135             6.0               29.0           Female   \n",
              "136             7.0               34.0             Male   \n",
              "137             7.0               25.0           Female   \n",
              "138             7.0               39.0             Male   \n",
              "\n",
              "    Nacionalidade do viajante Tipo de acomodação Custo da acomodação  \\\n",
              "0                    American              Hotel                1200   \n",
              "1                    Canadian             Resort                 800   \n",
              "2                      Korean              Villa                1000   \n",
              "3                     British              Hotel                2000   \n",
              "4                  Vietnamese             Airbnb                 700   \n",
              "..                        ...                ...                 ...   \n",
              "134                 Brazilian             Hostel                2500   \n",
              "135                  Canadian              Hotel                5000   \n",
              "136                   Chinese             Hostel                2000   \n",
              "137                   Spanish             Airbnb                6000   \n",
              "138             New Zealander              Hotel                7000   \n",
              "\n",
              "    Tipo de transporte Custo do transporte  \n",
              "0               Flight                 600  \n",
              "1               Flight                 500  \n",
              "2               Flight                 700  \n",
              "3               Flight                1000  \n",
              "4                Train                 200  \n",
              "..                 ...                 ...  \n",
              "134                Car                2000  \n",
              "135           Airplane                3000  \n",
              "136              Train                1000  \n",
              "137           Airplane                2500  \n",
              "138              Train                2500  \n",
              "\n",
              "[139 rows x 12 columns]"
            ],
            "text/html": [
              "\n",
              "  <div id=\"df-b06f2d25-206e-433e-b2fa-7ae4708a35e9\">\n",
              "    <div class=\"colab-df-container\">\n",
              "      <div>\n",
              "<style scoped>\n",
              "    .dataframe tbody tr th:only-of-type {\n",
              "        vertical-align: middle;\n",
              "    }\n",
              "\n",
              "    .dataframe tbody tr th {\n",
              "        vertical-align: top;\n",
              "    }\n",
              "\n",
              "    .dataframe thead th {\n",
              "        text-align: right;\n",
              "    }\n",
              "</style>\n",
              "<table border=\"1\" class=\"dataframe\">\n",
              "  <thead>\n",
              "    <tr style=\"text-align: right;\">\n",
              "      <th></th>\n",
              "      <th>ID da viagem</th>\n",
              "      <th>Destino</th>\n",
              "      <th>Começo da viagem</th>\n",
              "      <th>Fim da viagem</th>\n",
              "      <th>Duração (dias)</th>\n",
              "      <th>Idade do viajante</th>\n",
              "      <th>Sexo do viajante</th>\n",
              "      <th>Nacionalidade do viajante</th>\n",
              "      <th>Tipo de acomodação</th>\n",
              "      <th>Custo da acomodação</th>\n",
              "      <th>Tipo de transporte</th>\n",
              "      <th>Custo do transporte</th>\n",
              "    </tr>\n",
              "  </thead>\n",
              "  <tbody>\n",
              "    <tr>\n",
              "      <th>0</th>\n",
              "      <td>1</td>\n",
              "      <td>London, UK</td>\n",
              "      <td>5/1/2023</td>\n",
              "      <td>5/8/2023</td>\n",
              "      <td>7.0</td>\n",
              "      <td>35.0</td>\n",
              "      <td>Male</td>\n",
              "      <td>American</td>\n",
              "      <td>Hotel</td>\n",
              "      <td>1200</td>\n",
              "      <td>Flight</td>\n",
              "      <td>600</td>\n",
              "    </tr>\n",
              "    <tr>\n",
              "      <th>1</th>\n",
              "      <td>2</td>\n",
              "      <td>Phuket, Thailand</td>\n",
              "      <td>6/15/2023</td>\n",
              "      <td>6/20/2023</td>\n",
              "      <td>5.0</td>\n",
              "      <td>28.0</td>\n",
              "      <td>Female</td>\n",
              "      <td>Canadian</td>\n",
              "      <td>Resort</td>\n",
              "      <td>800</td>\n",
              "      <td>Flight</td>\n",
              "      <td>500</td>\n",
              "    </tr>\n",
              "    <tr>\n",
              "      <th>2</th>\n",
              "      <td>3</td>\n",
              "      <td>Bali, Indonesia</td>\n",
              "      <td>7/1/2023</td>\n",
              "      <td>7/8/2023</td>\n",
              "      <td>7.0</td>\n",
              "      <td>45.0</td>\n",
              "      <td>Male</td>\n",
              "      <td>Korean</td>\n",
              "      <td>Villa</td>\n",
              "      <td>1000</td>\n",
              "      <td>Flight</td>\n",
              "      <td>700</td>\n",
              "    </tr>\n",
              "    <tr>\n",
              "      <th>3</th>\n",
              "      <td>4</td>\n",
              "      <td>New York, USA</td>\n",
              "      <td>8/15/2023</td>\n",
              "      <td>8/29/2023</td>\n",
              "      <td>14.0</td>\n",
              "      <td>29.0</td>\n",
              "      <td>Female</td>\n",
              "      <td>British</td>\n",
              "      <td>Hotel</td>\n",
              "      <td>2000</td>\n",
              "      <td>Flight</td>\n",
              "      <td>1000</td>\n",
              "    </tr>\n",
              "    <tr>\n",
              "      <th>4</th>\n",
              "      <td>5</td>\n",
              "      <td>Tokyo, Japan</td>\n",
              "      <td>9/10/2023</td>\n",
              "      <td>9/17/2023</td>\n",
              "      <td>7.0</td>\n",
              "      <td>26.0</td>\n",
              "      <td>Female</td>\n",
              "      <td>Vietnamese</td>\n",
              "      <td>Airbnb</td>\n",
              "      <td>700</td>\n",
              "      <td>Train</td>\n",
              "      <td>200</td>\n",
              "    </tr>\n",
              "    <tr>\n",
              "      <th>...</th>\n",
              "      <td>...</td>\n",
              "      <td>...</td>\n",
              "      <td>...</td>\n",
              "      <td>...</td>\n",
              "      <td>...</td>\n",
              "      <td>...</td>\n",
              "      <td>...</td>\n",
              "      <td>...</td>\n",
              "      <td>...</td>\n",
              "      <td>...</td>\n",
              "      <td>...</td>\n",
              "      <td>...</td>\n",
              "    </tr>\n",
              "    <tr>\n",
              "      <th>134</th>\n",
              "      <td>135</td>\n",
              "      <td>Rio de Janeiro, Brazil</td>\n",
              "      <td>8/1/2023</td>\n",
              "      <td>8/10/2023</td>\n",
              "      <td>9.0</td>\n",
              "      <td>37.0</td>\n",
              "      <td>Male</td>\n",
              "      <td>Brazilian</td>\n",
              "      <td>Hostel</td>\n",
              "      <td>2500</td>\n",
              "      <td>Car</td>\n",
              "      <td>2000</td>\n",
              "    </tr>\n",
              "    <tr>\n",
              "      <th>135</th>\n",
              "      <td>136</td>\n",
              "      <td>Vancouver, Canada</td>\n",
              "      <td>8/15/2023</td>\n",
              "      <td>8/21/2023</td>\n",
              "      <td>6.0</td>\n",
              "      <td>29.0</td>\n",
              "      <td>Female</td>\n",
              "      <td>Canadian</td>\n",
              "      <td>Hotel</td>\n",
              "      <td>5000</td>\n",
              "      <td>Airplane</td>\n",
              "      <td>3000</td>\n",
              "    </tr>\n",
              "    <tr>\n",
              "      <th>136</th>\n",
              "      <td>137</td>\n",
              "      <td>Bangkok, Thailand</td>\n",
              "      <td>9/1/2023</td>\n",
              "      <td>9/8/2023</td>\n",
              "      <td>7.0</td>\n",
              "      <td>34.0</td>\n",
              "      <td>Male</td>\n",
              "      <td>Chinese</td>\n",
              "      <td>Hostel</td>\n",
              "      <td>2000</td>\n",
              "      <td>Train</td>\n",
              "      <td>1000</td>\n",
              "    </tr>\n",
              "    <tr>\n",
              "      <th>137</th>\n",
              "      <td>138</td>\n",
              "      <td>Barcelona, Spain</td>\n",
              "      <td>9/15/2023</td>\n",
              "      <td>9/22/2023</td>\n",
              "      <td>7.0</td>\n",
              "      <td>25.0</td>\n",
              "      <td>Female</td>\n",
              "      <td>Spanish</td>\n",
              "      <td>Airbnb</td>\n",
              "      <td>6000</td>\n",
              "      <td>Airplane</td>\n",
              "      <td>2500</td>\n",
              "    </tr>\n",
              "    <tr>\n",
              "      <th>138</th>\n",
              "      <td>139</td>\n",
              "      <td>Auckland, New Zealand</td>\n",
              "      <td>10/1/2023</td>\n",
              "      <td>10/8/2023</td>\n",
              "      <td>7.0</td>\n",
              "      <td>39.0</td>\n",
              "      <td>Male</td>\n",
              "      <td>New Zealander</td>\n",
              "      <td>Hotel</td>\n",
              "      <td>7000</td>\n",
              "      <td>Train</td>\n",
              "      <td>2500</td>\n",
              "    </tr>\n",
              "  </tbody>\n",
              "</table>\n",
              "<p>139 rows × 12 columns</p>\n",
              "</div>\n",
              "      <button class=\"colab-df-convert\" onclick=\"convertToInteractive('df-b06f2d25-206e-433e-b2fa-7ae4708a35e9')\"\n",
              "              title=\"Convert this dataframe to an interactive table.\"\n",
              "              style=\"display:none;\">\n",
              "        \n",
              "  <svg xmlns=\"http://www.w3.org/2000/svg\" height=\"24px\"viewBox=\"0 0 24 24\"\n",
              "       width=\"24px\">\n",
              "    <path d=\"M0 0h24v24H0V0z\" fill=\"none\"/>\n",
              "    <path d=\"M18.56 5.44l.94 2.06.94-2.06 2.06-.94-2.06-.94-.94-2.06-.94 2.06-2.06.94zm-11 1L8.5 8.5l.94-2.06 2.06-.94-2.06-.94L8.5 2.5l-.94 2.06-2.06.94zm10 10l.94 2.06.94-2.06 2.06-.94-2.06-.94-.94-2.06-.94 2.06-2.06.94z\"/><path d=\"M17.41 7.96l-1.37-1.37c-.4-.4-.92-.59-1.43-.59-.52 0-1.04.2-1.43.59L10.3 9.45l-7.72 7.72c-.78.78-.78 2.05 0 2.83L4 21.41c.39.39.9.59 1.41.59.51 0 1.02-.2 1.41-.59l7.78-7.78 2.81-2.81c.8-.78.8-2.07 0-2.86zM5.41 20L4 18.59l7.72-7.72 1.47 1.35L5.41 20z\"/>\n",
              "  </svg>\n",
              "      </button>\n",
              "      \n",
              "  <style>\n",
              "    .colab-df-container {\n",
              "      display:flex;\n",
              "      flex-wrap:wrap;\n",
              "      gap: 12px;\n",
              "    }\n",
              "\n",
              "    .colab-df-convert {\n",
              "      background-color: #E8F0FE;\n",
              "      border: none;\n",
              "      border-radius: 50%;\n",
              "      cursor: pointer;\n",
              "      display: none;\n",
              "      fill: #1967D2;\n",
              "      height: 32px;\n",
              "      padding: 0 0 0 0;\n",
              "      width: 32px;\n",
              "    }\n",
              "\n",
              "    .colab-df-convert:hover {\n",
              "      background-color: #E2EBFA;\n",
              "      box-shadow: 0px 1px 2px rgba(60, 64, 67, 0.3), 0px 1px 3px 1px rgba(60, 64, 67, 0.15);\n",
              "      fill: #174EA6;\n",
              "    }\n",
              "\n",
              "    [theme=dark] .colab-df-convert {\n",
              "      background-color: #3B4455;\n",
              "      fill: #D2E3FC;\n",
              "    }\n",
              "\n",
              "    [theme=dark] .colab-df-convert:hover {\n",
              "      background-color: #434B5C;\n",
              "      box-shadow: 0px 1px 3px 1px rgba(0, 0, 0, 0.15);\n",
              "      filter: drop-shadow(0px 1px 2px rgba(0, 0, 0, 0.3));\n",
              "      fill: #FFFFFF;\n",
              "    }\n",
              "  </style>\n",
              "\n",
              "      <script>\n",
              "        const buttonEl =\n",
              "          document.querySelector('#df-b06f2d25-206e-433e-b2fa-7ae4708a35e9 button.colab-df-convert');\n",
              "        buttonEl.style.display =\n",
              "          google.colab.kernel.accessAllowed ? 'block' : 'none';\n",
              "\n",
              "        async function convertToInteractive(key) {\n",
              "          const element = document.querySelector('#df-b06f2d25-206e-433e-b2fa-7ae4708a35e9');\n",
              "          const dataTable =\n",
              "            await google.colab.kernel.invokeFunction('convertToInteractive',\n",
              "                                                     [key], {});\n",
              "          if (!dataTable) return;\n",
              "\n",
              "          const docLinkHtml = 'Like what you see? Visit the ' +\n",
              "            '<a target=\"_blank\" href=https://colab.research.google.com/notebooks/data_table.ipynb>data table notebook</a>'\n",
              "            + ' to learn more about interactive tables.';\n",
              "          element.innerHTML = '';\n",
              "          dataTable['output_type'] = 'display_data';\n",
              "          await google.colab.output.renderOutput(dataTable, element);\n",
              "          const docLink = document.createElement('div');\n",
              "          docLink.innerHTML = docLinkHtml;\n",
              "          element.appendChild(docLink);\n",
              "        }\n",
              "      </script>\n",
              "    </div>\n",
              "  </div>\n",
              "  "
            ]
          },
          "metadata": {},
          "execution_count": 659
        }
      ]
    },
    {
      "cell_type": "markdown",
      "source": [
        "Verificando as informações das colunas, foi possível ver que as colunas de custos então como tipo string, e para que seja possível fazer os cálculos, é necessário mudar o tipo delas para valor numérico.\n",
        "\n",
        "Para fazer essa alteração do tipo da coluna, primeiro é importante verificar se existem caracteres especiais nos registros, pois o tipo numérico não permite esses caracteres."
      ],
      "metadata": {
        "id": "dV_9NJ4QvbGH"
      }
    },
    {
      "cell_type": "code",
      "source": [
        "# Vendo os valores únicos existentes das colunas de custos.\n",
        "df['Custo da acomodação'].unique()"
      ],
      "metadata": {
        "colab": {
          "base_uri": "https://localhost:8080/"
        },
        "id": "SfUDNzc1C0Gg",
        "outputId": "c5787f85-8abe-4a3b-b98c-307330651c30"
      },
      "execution_count": null,
      "outputs": [
        {
          "output_type": "execute_result",
          "data": {
            "text/plain": [
              "array(['1200', '800', '1000', '2000', '700', '1500', '500', '900', '2500',\n",
              "       '3000', '1400', '600', '$900 ', '$1,500 ', '$1,200 ', '$600 ',\n",
              "       '$1,000 ', '$700 ', '$400 ', '$1,400 ', '$2,000 ', '$1,100 ',\n",
              "       '$800 ', '$200 ', '$150 ', '$500 ', '$180 ', '$350 ', '2200',\n",
              "       '400', '1100', '300', '1300', '1800', nan, '500 USD', '1000 USD',\n",
              "       '800 USD', '1200 USD', '400 USD', '600 USD', '900 USD', '1500 USD',\n",
              "       '700 USD', '100', '300 USD', '200 USD', '$300 ', '200', '5000',\n",
              "       '7000', '6000', '4000', '8000'], dtype=object)"
            ]
          },
          "metadata": {},
          "execution_count": 660
        }
      ]
    },
    {
      "cell_type": "code",
      "source": [
        " df['Custo do transporte'].unique()"
      ],
      "metadata": {
        "colab": {
          "base_uri": "https://localhost:8080/"
        },
        "id": "uzoqUqXyGaXa",
        "outputId": "ba1ca1fd-2b57-4263-bc02-2426466571b7"
      },
      "execution_count": null,
      "outputs": [
        {
          "output_type": "execute_result",
          "data": {
            "text/plain": [
              "array(['600', '500', '700', '1000', '200', '800', '1200', '100', '400',\n",
              "       '150', '$400 ', '$700 ', '$150 ', '$800 ', '$100 ', '$600 ',\n",
              "       '$80 ', '$500 ', '$300 ', '$50 ', '$120 ', '$75 ', '900', '50',\n",
              "       '$200 ', '$250 ', '$20 ', '300', nan, '800 USD', '200 USD',\n",
              "       '500 USD', '700 USD', '300 USD', '600 USD', '400 USD', '1000 USD',\n",
              "       '100 USD', '350 USD', '150 USD', '$1,200 ', '$900 ', '$1,500 ',\n",
              "       '$1,000 ', '250', '2500', '1500', '2000', '3000'], dtype=object)"
            ]
          },
          "metadata": {},
          "execution_count": 661
        }
      ]
    },
    {
      "cell_type": "markdown",
      "source": [
        "Nota-se que os registros não estão padronizados, alguns com $ outros com USD, então é necessário remover a identificação da moeda e deixar todos os registros padronizados para não dar erro nos cálculos que serão feitos mais adiante."
      ],
      "metadata": {
        "id": "4rjvq2mXptqx"
      }
    },
    {
      "cell_type": "code",
      "source": [
        "# Removendo caracteres $ e USD dos valores numéricos.\n",
        "df['Custo da acomodação'] = df['Custo da acomodação'].str.replace('$', '').str.replace('USD', '').str.replace(',', '').str.strip()"
      ],
      "metadata": {
        "colab": {
          "base_uri": "https://localhost:8080/"
        },
        "id": "wGgDZdkOoPtr",
        "outputId": "8400e9a3-462c-4054-bbaf-1cf6ceef15d0"
      },
      "execution_count": null,
      "outputs": [
        {
          "output_type": "stream",
          "name": "stderr",
          "text": [
            "<ipython-input-662-1fd399272865>:2: FutureWarning: The default value of regex will change from True to False in a future version. In addition, single character regular expressions will *not* be treated as literal strings when regex=True.\n",
            "  df['Custo da acomodação'] = df['Custo da acomodação'].str.replace('$', '').str.replace('USD', '').str.replace(',', '').str.strip()\n"
          ]
        }
      ]
    },
    {
      "cell_type": "code",
      "source": [
        "df['Custo do transporte'] = df['Custo do transporte'].str.replace('$', '').str.replace('USD', '').str.replace(',', '').str.strip()"
      ],
      "metadata": {
        "colab": {
          "base_uri": "https://localhost:8080/"
        },
        "id": "UMqEtqHvMTmV",
        "outputId": "69288202-78f3-4512-a9b5-91b56b901d37"
      },
      "execution_count": null,
      "outputs": [
        {
          "output_type": "stream",
          "name": "stderr",
          "text": [
            "<ipython-input-663-6a8ac3a5e6e2>:1: FutureWarning: The default value of regex will change from True to False in a future version. In addition, single character regular expressions will *not* be treated as literal strings when regex=True.\n",
            "  df['Custo do transporte'] = df['Custo do transporte'].str.replace('$', '').str.replace('USD', '').str.replace(',', '').str.strip()\n"
          ]
        }
      ]
    },
    {
      "cell_type": "markdown",
      "source": [
        "Ao verificar os valores únicos das colunas de custos, é possível observar também que existem alguns valores nulos informados pela sigla \"nan\". Então para que as métricas sejam justas, optei por substituir os valores nulos pelo valor mais frequênte em cada coluna, ou seja, substituir pela \"moda\".\n",
        "\n",
        "Para checar qual é a moda de cada coluna podemos verificar o número de registro para cada valor da coluna. Faremos isso com as colunas \"Custo da acomodação\", \"Custo do transporte\", \"Idade do viajante\" e \"Duração (dias)\"."
      ],
      "metadata": {
        "id": "oKfD0vqot3Sy"
      }
    },
    {
      "cell_type": "code",
      "source": [
        "# Entendendo as colunas de custos, idade e duração. Vendo a quantidade de cada valor existente na coluna para substituir o nan pela moda.\n",
        "df['Custo da acomodação'].value_counts()"
      ],
      "metadata": {
        "colab": {
          "base_uri": "https://localhost:8080/"
        },
        "id": "azqmhp5oLRNt",
        "outputId": "c846137c-409b-43f6-adf5-8e5a77929c11"
      },
      "execution_count": null,
      "outputs": [
        {
          "output_type": "execute_result",
          "data": {
            "text/plain": [
              "1200    14\n",
              "800     14\n",
              "900     13\n",
              "1000    11\n",
              "500     11\n",
              "400     10\n",
              "700      8\n",
              "1500     8\n",
              "600      7\n",
              "300      4\n",
              "1100     4\n",
              "200      4\n",
              "1400     4\n",
              "2000     4\n",
              "3000     2\n",
              "2500     2\n",
              "2200     2\n",
              "1300     2\n",
              "5000     2\n",
              "7000     2\n",
              "6000     2\n",
              "150      1\n",
              "180      1\n",
              "350      1\n",
              "1800     1\n",
              "100      1\n",
              "4000     1\n",
              "8000     1\n",
              "Name: Custo da acomodação, dtype: int64"
            ]
          },
          "metadata": {},
          "execution_count": 664
        }
      ]
    },
    {
      "cell_type": "code",
      "source": [
        "df['Custo do transporte'].value_counts()"
      ],
      "metadata": {
        "colab": {
          "base_uri": "https://localhost:8080/"
        },
        "id": "en0ymcHbNFQt",
        "outputId": "33b14ed5-0bee-4f96-bdb0-000e89058605"
      },
      "execution_count": null,
      "outputs": [
        {
          "output_type": "execute_result",
          "data": {
            "text/plain": [
              "800     16\n",
              "700     15\n",
              "500     11\n",
              "150     11\n",
              "100     10\n",
              "200     10\n",
              "600      9\n",
              "300      9\n",
              "1000     8\n",
              "400      7\n",
              "1200     5\n",
              "900      4\n",
              "2500     4\n",
              "50       3\n",
              "1500     3\n",
              "250      2\n",
              "2000     2\n",
              "3000     2\n",
              "80       1\n",
              "120      1\n",
              "75       1\n",
              "20       1\n",
              "350      1\n",
              "Name: Custo do transporte, dtype: int64"
            ]
          },
          "metadata": {},
          "execution_count": 665
        }
      ]
    },
    {
      "cell_type": "code",
      "source": [
        "df['Idade do viajante'].value_counts()"
      ],
      "metadata": {
        "colab": {
          "base_uri": "https://localhost:8080/"
        },
        "id": "25ecsj-sSy8D",
        "outputId": "81f180ad-b991-4a13-f5e8-b81779192d26"
      },
      "execution_count": null,
      "outputs": [
        {
          "output_type": "execute_result",
          "data": {
            "text/plain": [
              "29.0    12\n",
              "27.0    12\n",
              "31.0    11\n",
              "28.0    11\n",
              "35.0    10\n",
              "33.0     9\n",
              "45.0     8\n",
              "30.0     7\n",
              "25.0     7\n",
              "42.0     7\n",
              "26.0     6\n",
              "41.0     5\n",
              "32.0     4\n",
              "24.0     4\n",
              "37.0     4\n",
              "38.0     4\n",
              "39.0     3\n",
              "34.0     2\n",
              "23.0     1\n",
              "50.0     1\n",
              "60.0     1\n",
              "46.0     1\n",
              "43.0     1\n",
              "20.0     1\n",
              "55.0     1\n",
              "40.0     1\n",
              "48.0     1\n",
              "36.0     1\n",
              "47.0     1\n",
              "Name: Idade do viajante, dtype: int64"
            ]
          },
          "metadata": {},
          "execution_count": 666
        }
      ]
    },
    {
      "cell_type": "code",
      "source": [
        "df['Duração (dias)'].value_counts()"
      ],
      "metadata": {
        "colab": {
          "base_uri": "https://localhost:8080/"
        },
        "id": "pMwz2HFAUhJ4",
        "outputId": "31905686-90c9-4110-80c0-d6211ba03870"
      },
      "execution_count": null,
      "outputs": [
        {
          "output_type": "execute_result",
          "data": {
            "text/plain": [
              "7.0     54\n",
              "8.0     24\n",
              "9.0     16\n",
              "6.0     16\n",
              "5.0     10\n",
              "10.0    10\n",
              "11.0     5\n",
              "14.0     1\n",
              "13.0     1\n",
              "Name: Duração (dias), dtype: int64"
            ]
          },
          "metadata": {},
          "execution_count": 667
        }
      ]
    },
    {
      "cell_type": "code",
      "source": [
        "# Alterando registros nan pela moda.\n",
        "df['Custo da acomodação'] = df['Custo da acomodação'].fillna('1200')"
      ],
      "metadata": {
        "id": "W69m6oqpOEY7"
      },
      "execution_count": null,
      "outputs": []
    },
    {
      "cell_type": "code",
      "source": [
        "df['Custo do transporte'] = df['Custo do transporte'].fillna('800')"
      ],
      "metadata": {
        "id": "e7edVrBOObsW"
      },
      "execution_count": null,
      "outputs": []
    },
    {
      "cell_type": "code",
      "source": [
        "df['Idade do viajante'] = df['Idade do viajante'].fillna(29.0)"
      ],
      "metadata": {
        "id": "cUBgDeiOTon8"
      },
      "execution_count": null,
      "outputs": []
    },
    {
      "cell_type": "code",
      "source": [
        "df['Duração (dias)'] = df['Duração (dias)'].fillna(7.0)"
      ],
      "metadata": {
        "id": "KZinXw0JVfrh"
      },
      "execution_count": null,
      "outputs": []
    },
    {
      "cell_type": "markdown",
      "source": [
        "Agora já é possível fazer a alteração do tipo das colunas, todas de uma só vez. Iremos alterar o tipo das colunas com valores numéricos e datas."
      ],
      "metadata": {
        "id": "_eqQWkITzK3Y"
      }
    },
    {
      "cell_type": "code",
      "source": [
        "# Alterando o tipo das colunas com valor numérico para int.\n",
        "df[['Duração (dias)','Idade do viajante','Custo da acomodação','Custo do transporte']] = df[['Duração (dias)','Idade do viajante','Custo da acomodação', 'Custo do transporte']].astype(int)"
      ],
      "metadata": {
        "id": "tt_kOC_Fl87A"
      },
      "execution_count": null,
      "outputs": []
    },
    {
      "cell_type": "code",
      "source": [
        "# Alterando o tipo das colunas com datas para datetime64.\n",
        "df['Começo da viagem'] = pd.to_datetime(df['Começo da viagem'], format='%m/%d/%Y')"
      ],
      "metadata": {
        "id": "PUKErIzmuBQD"
      },
      "execution_count": null,
      "outputs": []
    },
    {
      "cell_type": "code",
      "source": [
        "df['Fim da viagem'] = pd.to_datetime(df['Fim da viagem'], format='%m/%d/%Y')"
      ],
      "metadata": {
        "id": "F4xR_jSCuaqu"
      },
      "execution_count": null,
      "outputs": []
    },
    {
      "cell_type": "markdown",
      "source": [
        "Para responder as perguntas levantadas, é necessário saber o custo total da viagem e para isso vamos criar uma nova coluna que será o resultado da soma entre as colunas \"Custo da acomodação\" e \"Custo do transporte\"."
      ],
      "metadata": {
        "id": "-vCfgqog0Vku"
      }
    },
    {
      "cell_type": "code",
      "source": [
        "# Criando nova coluna com o custo total.\n",
        "df['Custo total'] = df['Custo da acomodação'] + df['Custo do transporte']\n",
        "df"
      ],
      "metadata": {
        "colab": {
          "base_uri": "https://localhost:8080/",
          "height": 658
        },
        "id": "aV8GB8fuhAba",
        "outputId": "9b74f0d8-b268-40ce-d507-01c24599cbb7"
      },
      "execution_count": null,
      "outputs": [
        {
          "output_type": "execute_result",
          "data": {
            "text/plain": [
              "     ID da viagem                 Destino Começo da viagem Fim da viagem  \\\n",
              "0               1              London, UK       2023-05-01    2023-05-08   \n",
              "1               2        Phuket, Thailand       2023-06-15    2023-06-20   \n",
              "2               3         Bali, Indonesia       2023-07-01    2023-07-08   \n",
              "3               4           New York, USA       2023-08-15    2023-08-29   \n",
              "4               5            Tokyo, Japan       2023-09-10    2023-09-17   \n",
              "..            ...                     ...              ...           ...   \n",
              "134           135  Rio de Janeiro, Brazil       2023-08-01    2023-08-10   \n",
              "135           136       Vancouver, Canada       2023-08-15    2023-08-21   \n",
              "136           137       Bangkok, Thailand       2023-09-01    2023-09-08   \n",
              "137           138        Barcelona, Spain       2023-09-15    2023-09-22   \n",
              "138           139   Auckland, New Zealand       2023-10-01    2023-10-08   \n",
              "\n",
              "     Duração (dias)  Idade do viajante Sexo do viajante  \\\n",
              "0                 7                 35             Male   \n",
              "1                 5                 28           Female   \n",
              "2                 7                 45             Male   \n",
              "3                14                 29           Female   \n",
              "4                 7                 26           Female   \n",
              "..              ...                ...              ...   \n",
              "134               9                 37             Male   \n",
              "135               6                 29           Female   \n",
              "136               7                 34             Male   \n",
              "137               7                 25           Female   \n",
              "138               7                 39             Male   \n",
              "\n",
              "    Nacionalidade do viajante Tipo de acomodação  Custo da acomodação  \\\n",
              "0                    American              Hotel                 1200   \n",
              "1                    Canadian             Resort                  800   \n",
              "2                      Korean              Villa                 1000   \n",
              "3                     British              Hotel                 2000   \n",
              "4                  Vietnamese             Airbnb                  700   \n",
              "..                        ...                ...                  ...   \n",
              "134                 Brazilian             Hostel                 2500   \n",
              "135                  Canadian              Hotel                 5000   \n",
              "136                   Chinese             Hostel                 2000   \n",
              "137                   Spanish             Airbnb                 6000   \n",
              "138             New Zealander              Hotel                 7000   \n",
              "\n",
              "    Tipo de transporte  Custo do transporte  Custo total  \n",
              "0               Flight                  600         1800  \n",
              "1               Flight                  500         1300  \n",
              "2               Flight                  700         1700  \n",
              "3               Flight                 1000         3000  \n",
              "4                Train                  200          900  \n",
              "..                 ...                  ...          ...  \n",
              "134                Car                 2000         4500  \n",
              "135           Airplane                 3000         8000  \n",
              "136              Train                 1000         3000  \n",
              "137           Airplane                 2500         8500  \n",
              "138              Train                 2500         9500  \n",
              "\n",
              "[139 rows x 13 columns]"
            ],
            "text/html": [
              "\n",
              "  <div id=\"df-7f83fff9-3802-490e-9c7e-48f7f7849af5\">\n",
              "    <div class=\"colab-df-container\">\n",
              "      <div>\n",
              "<style scoped>\n",
              "    .dataframe tbody tr th:only-of-type {\n",
              "        vertical-align: middle;\n",
              "    }\n",
              "\n",
              "    .dataframe tbody tr th {\n",
              "        vertical-align: top;\n",
              "    }\n",
              "\n",
              "    .dataframe thead th {\n",
              "        text-align: right;\n",
              "    }\n",
              "</style>\n",
              "<table border=\"1\" class=\"dataframe\">\n",
              "  <thead>\n",
              "    <tr style=\"text-align: right;\">\n",
              "      <th></th>\n",
              "      <th>ID da viagem</th>\n",
              "      <th>Destino</th>\n",
              "      <th>Começo da viagem</th>\n",
              "      <th>Fim da viagem</th>\n",
              "      <th>Duração (dias)</th>\n",
              "      <th>Idade do viajante</th>\n",
              "      <th>Sexo do viajante</th>\n",
              "      <th>Nacionalidade do viajante</th>\n",
              "      <th>Tipo de acomodação</th>\n",
              "      <th>Custo da acomodação</th>\n",
              "      <th>Tipo de transporte</th>\n",
              "      <th>Custo do transporte</th>\n",
              "      <th>Custo total</th>\n",
              "    </tr>\n",
              "  </thead>\n",
              "  <tbody>\n",
              "    <tr>\n",
              "      <th>0</th>\n",
              "      <td>1</td>\n",
              "      <td>London, UK</td>\n",
              "      <td>2023-05-01</td>\n",
              "      <td>2023-05-08</td>\n",
              "      <td>7</td>\n",
              "      <td>35</td>\n",
              "      <td>Male</td>\n",
              "      <td>American</td>\n",
              "      <td>Hotel</td>\n",
              "      <td>1200</td>\n",
              "      <td>Flight</td>\n",
              "      <td>600</td>\n",
              "      <td>1800</td>\n",
              "    </tr>\n",
              "    <tr>\n",
              "      <th>1</th>\n",
              "      <td>2</td>\n",
              "      <td>Phuket, Thailand</td>\n",
              "      <td>2023-06-15</td>\n",
              "      <td>2023-06-20</td>\n",
              "      <td>5</td>\n",
              "      <td>28</td>\n",
              "      <td>Female</td>\n",
              "      <td>Canadian</td>\n",
              "      <td>Resort</td>\n",
              "      <td>800</td>\n",
              "      <td>Flight</td>\n",
              "      <td>500</td>\n",
              "      <td>1300</td>\n",
              "    </tr>\n",
              "    <tr>\n",
              "      <th>2</th>\n",
              "      <td>3</td>\n",
              "      <td>Bali, Indonesia</td>\n",
              "      <td>2023-07-01</td>\n",
              "      <td>2023-07-08</td>\n",
              "      <td>7</td>\n",
              "      <td>45</td>\n",
              "      <td>Male</td>\n",
              "      <td>Korean</td>\n",
              "      <td>Villa</td>\n",
              "      <td>1000</td>\n",
              "      <td>Flight</td>\n",
              "      <td>700</td>\n",
              "      <td>1700</td>\n",
              "    </tr>\n",
              "    <tr>\n",
              "      <th>3</th>\n",
              "      <td>4</td>\n",
              "      <td>New York, USA</td>\n",
              "      <td>2023-08-15</td>\n",
              "      <td>2023-08-29</td>\n",
              "      <td>14</td>\n",
              "      <td>29</td>\n",
              "      <td>Female</td>\n",
              "      <td>British</td>\n",
              "      <td>Hotel</td>\n",
              "      <td>2000</td>\n",
              "      <td>Flight</td>\n",
              "      <td>1000</td>\n",
              "      <td>3000</td>\n",
              "    </tr>\n",
              "    <tr>\n",
              "      <th>4</th>\n",
              "      <td>5</td>\n",
              "      <td>Tokyo, Japan</td>\n",
              "      <td>2023-09-10</td>\n",
              "      <td>2023-09-17</td>\n",
              "      <td>7</td>\n",
              "      <td>26</td>\n",
              "      <td>Female</td>\n",
              "      <td>Vietnamese</td>\n",
              "      <td>Airbnb</td>\n",
              "      <td>700</td>\n",
              "      <td>Train</td>\n",
              "      <td>200</td>\n",
              "      <td>900</td>\n",
              "    </tr>\n",
              "    <tr>\n",
              "      <th>...</th>\n",
              "      <td>...</td>\n",
              "      <td>...</td>\n",
              "      <td>...</td>\n",
              "      <td>...</td>\n",
              "      <td>...</td>\n",
              "      <td>...</td>\n",
              "      <td>...</td>\n",
              "      <td>...</td>\n",
              "      <td>...</td>\n",
              "      <td>...</td>\n",
              "      <td>...</td>\n",
              "      <td>...</td>\n",
              "      <td>...</td>\n",
              "    </tr>\n",
              "    <tr>\n",
              "      <th>134</th>\n",
              "      <td>135</td>\n",
              "      <td>Rio de Janeiro, Brazil</td>\n",
              "      <td>2023-08-01</td>\n",
              "      <td>2023-08-10</td>\n",
              "      <td>9</td>\n",
              "      <td>37</td>\n",
              "      <td>Male</td>\n",
              "      <td>Brazilian</td>\n",
              "      <td>Hostel</td>\n",
              "      <td>2500</td>\n",
              "      <td>Car</td>\n",
              "      <td>2000</td>\n",
              "      <td>4500</td>\n",
              "    </tr>\n",
              "    <tr>\n",
              "      <th>135</th>\n",
              "      <td>136</td>\n",
              "      <td>Vancouver, Canada</td>\n",
              "      <td>2023-08-15</td>\n",
              "      <td>2023-08-21</td>\n",
              "      <td>6</td>\n",
              "      <td>29</td>\n",
              "      <td>Female</td>\n",
              "      <td>Canadian</td>\n",
              "      <td>Hotel</td>\n",
              "      <td>5000</td>\n",
              "      <td>Airplane</td>\n",
              "      <td>3000</td>\n",
              "      <td>8000</td>\n",
              "    </tr>\n",
              "    <tr>\n",
              "      <th>136</th>\n",
              "      <td>137</td>\n",
              "      <td>Bangkok, Thailand</td>\n",
              "      <td>2023-09-01</td>\n",
              "      <td>2023-09-08</td>\n",
              "      <td>7</td>\n",
              "      <td>34</td>\n",
              "      <td>Male</td>\n",
              "      <td>Chinese</td>\n",
              "      <td>Hostel</td>\n",
              "      <td>2000</td>\n",
              "      <td>Train</td>\n",
              "      <td>1000</td>\n",
              "      <td>3000</td>\n",
              "    </tr>\n",
              "    <tr>\n",
              "      <th>137</th>\n",
              "      <td>138</td>\n",
              "      <td>Barcelona, Spain</td>\n",
              "      <td>2023-09-15</td>\n",
              "      <td>2023-09-22</td>\n",
              "      <td>7</td>\n",
              "      <td>25</td>\n",
              "      <td>Female</td>\n",
              "      <td>Spanish</td>\n",
              "      <td>Airbnb</td>\n",
              "      <td>6000</td>\n",
              "      <td>Airplane</td>\n",
              "      <td>2500</td>\n",
              "      <td>8500</td>\n",
              "    </tr>\n",
              "    <tr>\n",
              "      <th>138</th>\n",
              "      <td>139</td>\n",
              "      <td>Auckland, New Zealand</td>\n",
              "      <td>2023-10-01</td>\n",
              "      <td>2023-10-08</td>\n",
              "      <td>7</td>\n",
              "      <td>39</td>\n",
              "      <td>Male</td>\n",
              "      <td>New Zealander</td>\n",
              "      <td>Hotel</td>\n",
              "      <td>7000</td>\n",
              "      <td>Train</td>\n",
              "      <td>2500</td>\n",
              "      <td>9500</td>\n",
              "    </tr>\n",
              "  </tbody>\n",
              "</table>\n",
              "<p>139 rows × 13 columns</p>\n",
              "</div>\n",
              "      <button class=\"colab-df-convert\" onclick=\"convertToInteractive('df-7f83fff9-3802-490e-9c7e-48f7f7849af5')\"\n",
              "              title=\"Convert this dataframe to an interactive table.\"\n",
              "              style=\"display:none;\">\n",
              "        \n",
              "  <svg xmlns=\"http://www.w3.org/2000/svg\" height=\"24px\"viewBox=\"0 0 24 24\"\n",
              "       width=\"24px\">\n",
              "    <path d=\"M0 0h24v24H0V0z\" fill=\"none\"/>\n",
              "    <path d=\"M18.56 5.44l.94 2.06.94-2.06 2.06-.94-2.06-.94-.94-2.06-.94 2.06-2.06.94zm-11 1L8.5 8.5l.94-2.06 2.06-.94-2.06-.94L8.5 2.5l-.94 2.06-2.06.94zm10 10l.94 2.06.94-2.06 2.06-.94-2.06-.94-.94-2.06-.94 2.06-2.06.94z\"/><path d=\"M17.41 7.96l-1.37-1.37c-.4-.4-.92-.59-1.43-.59-.52 0-1.04.2-1.43.59L10.3 9.45l-7.72 7.72c-.78.78-.78 2.05 0 2.83L4 21.41c.39.39.9.59 1.41.59.51 0 1.02-.2 1.41-.59l7.78-7.78 2.81-2.81c.8-.78.8-2.07 0-2.86zM5.41 20L4 18.59l7.72-7.72 1.47 1.35L5.41 20z\"/>\n",
              "  </svg>\n",
              "      </button>\n",
              "      \n",
              "  <style>\n",
              "    .colab-df-container {\n",
              "      display:flex;\n",
              "      flex-wrap:wrap;\n",
              "      gap: 12px;\n",
              "    }\n",
              "\n",
              "    .colab-df-convert {\n",
              "      background-color: #E8F0FE;\n",
              "      border: none;\n",
              "      border-radius: 50%;\n",
              "      cursor: pointer;\n",
              "      display: none;\n",
              "      fill: #1967D2;\n",
              "      height: 32px;\n",
              "      padding: 0 0 0 0;\n",
              "      width: 32px;\n",
              "    }\n",
              "\n",
              "    .colab-df-convert:hover {\n",
              "      background-color: #E2EBFA;\n",
              "      box-shadow: 0px 1px 2px rgba(60, 64, 67, 0.3), 0px 1px 3px 1px rgba(60, 64, 67, 0.15);\n",
              "      fill: #174EA6;\n",
              "    }\n",
              "\n",
              "    [theme=dark] .colab-df-convert {\n",
              "      background-color: #3B4455;\n",
              "      fill: #D2E3FC;\n",
              "    }\n",
              "\n",
              "    [theme=dark] .colab-df-convert:hover {\n",
              "      background-color: #434B5C;\n",
              "      box-shadow: 0px 1px 3px 1px rgba(0, 0, 0, 0.15);\n",
              "      filter: drop-shadow(0px 1px 2px rgba(0, 0, 0, 0.3));\n",
              "      fill: #FFFFFF;\n",
              "    }\n",
              "  </style>\n",
              "\n",
              "      <script>\n",
              "        const buttonEl =\n",
              "          document.querySelector('#df-7f83fff9-3802-490e-9c7e-48f7f7849af5 button.colab-df-convert');\n",
              "        buttonEl.style.display =\n",
              "          google.colab.kernel.accessAllowed ? 'block' : 'none';\n",
              "\n",
              "        async function convertToInteractive(key) {\n",
              "          const element = document.querySelector('#df-7f83fff9-3802-490e-9c7e-48f7f7849af5');\n",
              "          const dataTable =\n",
              "            await google.colab.kernel.invokeFunction('convertToInteractive',\n",
              "                                                     [key], {});\n",
              "          if (!dataTable) return;\n",
              "\n",
              "          const docLinkHtml = 'Like what you see? Visit the ' +\n",
              "            '<a target=\"_blank\" href=https://colab.research.google.com/notebooks/data_table.ipynb>data table notebook</a>'\n",
              "            + ' to learn more about interactive tables.';\n",
              "          element.innerHTML = '';\n",
              "          dataTable['output_type'] = 'display_data';\n",
              "          await google.colab.output.renderOutput(dataTable, element);\n",
              "          const docLink = document.createElement('div');\n",
              "          docLink.innerHTML = docLinkHtml;\n",
              "          element.appendChild(docLink);\n",
              "        }\n",
              "      </script>\n",
              "    </div>\n",
              "  </div>\n",
              "  "
            ]
          },
          "metadata": {},
          "execution_count": 675
        }
      ]
    },
    {
      "cell_type": "markdown",
      "source": [
        "Analisando o dataset, foi possível notar que existem alguns registros com nomes similares, que eu considerei como registros duplicados, pois se referem à mesma coisa, porém com nome ligeiramente diferente. Então faremos o tratamento desses registros modificando o nome para padronizar tudo."
      ],
      "metadata": {
        "id": "qYWkLCYW008O"
      }
    },
    {
      "cell_type": "code",
      "source": [
        "# Ajustando registros duplicados com nomes incorretos.\n",
        "df['Destino'] = df['Destino'].replace('Paris', 'Paris, France').replace('Bali', 'Bali, Indonesia').replace('Tokyo', 'Tokyo, Japan').replace('Sydney', 'Sydney, Aus').replace('Rome', 'Rome, Italy').replace('New York', 'New York, USA').replace('Bangkok', 'Bangkok, Thailand').replace('Barcelona', 'Barcelona, Spain').replace('Cape Town', 'Cape Town, SA').replace('Dubai', 'Dubai, United Arab Emirates').replace('Bangkok, Thai', 'Bangkok, Thailand').replace('Phuket', 'Phuket, Thailand').replace('Santorini', 'Santorini, Greece').replace('Seoul', 'Seoul, South Korea').replace('Rio de Janeiro', 'Rio de Janeiro, Brazil').replace('Amsterdam', 'Amsterdam, Netherlands').replace('Sydney, AUS', 'Sydney, Aus').replace('Phuket, Thai', 'Phuket, Thailand').replace('London', 'London, UK').replace('Cape Town, SA', 'Cape Town, South Africa').replace('Sydney, Aus', 'Sydney, Australia').replace('New York, USA', 'New York City, USA').str.strip()"
      ],
      "metadata": {
        "id": "qiJC2EBLacCt"
      },
      "execution_count": null,
      "outputs": []
    },
    {
      "cell_type": "code",
      "source": [
        "df['Nacionalidade do viajante'] = df['Nacionalidade do viajante'].replace('USA', 'American').replace('United Kingdom', 'British').replace('UK', 'British').replace('South Korea', 'South Korean').replace('Taiwan', 'Taiwanese').replace('Canada', 'Canadian').replace('Brazil', 'Brazilian').replace('United Arab Emirates', 'Emirati').replace('Italy', 'Italian').replace('Germany', 'German').replace('Japan', 'Japanese').replace('Spain', 'Spanish').replace('China', 'Chinese').replace('Seoul', 'Seoul, South Korea').replace('Rio de Janeiro', 'Rio de Janeiro, Brazil').replace('Amsterdam', 'Amsterdam, Netherlands').replace('Sydney, AUS', 'Sydney, Aus').replace('Phuket, Thai', 'Phuket, Thailand').replace('London', 'London, UK').replace('Cape Town, SA', 'Cape Town, South Africa').replace('Sydney, Aus', 'Sydney, Australia').replace('New York, USA', 'New York City, USA').str.strip()"
      ],
      "metadata": {
        "id": "dtHVp_MVfZiT"
      },
      "execution_count": null,
      "outputs": []
    },
    {
      "cell_type": "code",
      "source": [
        "df['Tipo de transporte'] = df['Tipo de transporte'].replace('Plane', 'Airplane').replace('Flight', 'Airplane').str.strip()"
      ],
      "metadata": {
        "id": "S2Cih-OUgHap"
      },
      "execution_count": null,
      "outputs": []
    },
    {
      "cell_type": "markdown",
      "source": [
        "Como anteriormente só tratamos os valores nulos das colunas específicas de números, é importante checar se existem valores nulos nas outras colunas também."
      ],
      "metadata": {
        "id": "rMtea0IZ1ptb"
      }
    },
    {
      "cell_type": "code",
      "source": [
        "# Verificando se ainda existem valores nulos.\n",
        "df.isna().sum()"
      ],
      "metadata": {
        "colab": {
          "base_uri": "https://localhost:8080/"
        },
        "id": "hDcFS_8AJNYT",
        "outputId": "b195fadb-7da9-48a5-ccbf-d50aea8f4c84"
      },
      "execution_count": null,
      "outputs": [
        {
          "output_type": "execute_result",
          "data": {
            "text/plain": [
              "ID da viagem                 0\n",
              "Destino                      2\n",
              "Começo da viagem             2\n",
              "Fim da viagem                2\n",
              "Duração (dias)               0\n",
              "Idade do viajante            0\n",
              "Sexo do viajante             2\n",
              "Nacionalidade do viajante    2\n",
              "Tipo de acomodação           2\n",
              "Custo da acomodação          0\n",
              "Tipo de transporte           3\n",
              "Custo do transporte          0\n",
              "Custo total                  0\n",
              "dtype: int64"
            ]
          },
          "metadata": {},
          "execution_count": 679
        }
      ]
    },
    {
      "cell_type": "code",
      "source": [
        "# Substituindo valores valores nulos pela moda.\n",
        "df['Destino'] = df['Destino'].fillna('Paris, France')\n",
        "df['Começo da viagem'] = df['Começo da viagem'].fillna('1/1/2023')\n",
        "df['Fim da viagem'] = df['Fim da viagem'].fillna('1/8/2023')\n",
        "df['Sexo do viajante'] = df['Sexo do viajante'].fillna('Female')\n",
        "df['Nacionalidade do viajante'] = df['Nacionalidade do viajante'].fillna('American')\n",
        "df['Tipo de acomodação'] = df['Tipo de acomodação'].fillna('Hotel')\n",
        "df['Tipo de transporte'] = df['Tipo de transporte'].fillna('Airplane')"
      ],
      "metadata": {
        "id": "pjqOSK9lWJwb"
      },
      "execution_count": null,
      "outputs": []
    },
    {
      "cell_type": "code",
      "source": [
        "# Verificando se ainda existem valores nulos depois da transformação.\n",
        "df.isna().sum()"
      ],
      "metadata": {
        "colab": {
          "base_uri": "https://localhost:8080/"
        },
        "id": "ANkkBVIHhMam",
        "outputId": "2cb0c604-997d-45d5-f8f8-a211f20713fc"
      },
      "execution_count": null,
      "outputs": [
        {
          "output_type": "execute_result",
          "data": {
            "text/plain": [
              "ID da viagem                 0\n",
              "Destino                      0\n",
              "Começo da viagem             0\n",
              "Fim da viagem                0\n",
              "Duração (dias)               0\n",
              "Idade do viajante            0\n",
              "Sexo do viajante             0\n",
              "Nacionalidade do viajante    0\n",
              "Tipo de acomodação           0\n",
              "Custo da acomodação          0\n",
              "Tipo de transporte           0\n",
              "Custo do transporte          0\n",
              "Custo total                  0\n",
              "dtype: int64"
            ]
          },
          "metadata": {},
          "execution_count": 681
        }
      ]
    },
    {
      "cell_type": "markdown",
      "source": [
        "### **4.3 Análise dos Dados**\n",
        "\n",
        "Vamos analisar os dados respondendo às perguntas propostas no começo desse notebook."
      ],
      "metadata": {
        "id": "141OYqv7hqOx"
      }
    },
    {
      "cell_type": "code",
      "source": [
        "df"
      ],
      "metadata": {
        "colab": {
          "base_uri": "https://localhost:8080/",
          "height": 658
        },
        "id": "gndDPSfphSO8",
        "outputId": "c60ed99f-945d-4ca2-cca6-8a303eefd716"
      },
      "execution_count": null,
      "outputs": [
        {
          "output_type": "execute_result",
          "data": {
            "text/plain": [
              "     ID da viagem                 Destino Começo da viagem Fim da viagem  \\\n",
              "0               1              London, UK       2023-05-01    2023-05-08   \n",
              "1               2        Phuket, Thailand       2023-06-15    2023-06-20   \n",
              "2               3         Bali, Indonesia       2023-07-01    2023-07-08   \n",
              "3               4      New York City, USA       2023-08-15    2023-08-29   \n",
              "4               5            Tokyo, Japan       2023-09-10    2023-09-17   \n",
              "..            ...                     ...              ...           ...   \n",
              "134           135  Rio de Janeiro, Brazil       2023-08-01    2023-08-10   \n",
              "135           136       Vancouver, Canada       2023-08-15    2023-08-21   \n",
              "136           137       Bangkok, Thailand       2023-09-01    2023-09-08   \n",
              "137           138        Barcelona, Spain       2023-09-15    2023-09-22   \n",
              "138           139   Auckland, New Zealand       2023-10-01    2023-10-08   \n",
              "\n",
              "     Duração (dias)  Idade do viajante Sexo do viajante  \\\n",
              "0                 7                 35             Male   \n",
              "1                 5                 28           Female   \n",
              "2                 7                 45             Male   \n",
              "3                14                 29           Female   \n",
              "4                 7                 26           Female   \n",
              "..              ...                ...              ...   \n",
              "134               9                 37             Male   \n",
              "135               6                 29           Female   \n",
              "136               7                 34             Male   \n",
              "137               7                 25           Female   \n",
              "138               7                 39             Male   \n",
              "\n",
              "    Nacionalidade do viajante Tipo de acomodação  Custo da acomodação  \\\n",
              "0                    American              Hotel                 1200   \n",
              "1                    Canadian             Resort                  800   \n",
              "2                      Korean              Villa                 1000   \n",
              "3                     British              Hotel                 2000   \n",
              "4                  Vietnamese             Airbnb                  700   \n",
              "..                        ...                ...                  ...   \n",
              "134                 Brazilian             Hostel                 2500   \n",
              "135                  Canadian              Hotel                 5000   \n",
              "136                   Chinese             Hostel                 2000   \n",
              "137                   Spanish             Airbnb                 6000   \n",
              "138             New Zealander              Hotel                 7000   \n",
              "\n",
              "    Tipo de transporte  Custo do transporte  Custo total  \n",
              "0             Airplane                  600         1800  \n",
              "1             Airplane                  500         1300  \n",
              "2             Airplane                  700         1700  \n",
              "3             Airplane                 1000         3000  \n",
              "4                Train                  200          900  \n",
              "..                 ...                  ...          ...  \n",
              "134                Car                 2000         4500  \n",
              "135           Airplane                 3000         8000  \n",
              "136              Train                 1000         3000  \n",
              "137           Airplane                 2500         8500  \n",
              "138              Train                 2500         9500  \n",
              "\n",
              "[139 rows x 13 columns]"
            ],
            "text/html": [
              "\n",
              "  <div id=\"df-d66c1e8b-61ab-4fa6-bead-91887a5e0005\">\n",
              "    <div class=\"colab-df-container\">\n",
              "      <div>\n",
              "<style scoped>\n",
              "    .dataframe tbody tr th:only-of-type {\n",
              "        vertical-align: middle;\n",
              "    }\n",
              "\n",
              "    .dataframe tbody tr th {\n",
              "        vertical-align: top;\n",
              "    }\n",
              "\n",
              "    .dataframe thead th {\n",
              "        text-align: right;\n",
              "    }\n",
              "</style>\n",
              "<table border=\"1\" class=\"dataframe\">\n",
              "  <thead>\n",
              "    <tr style=\"text-align: right;\">\n",
              "      <th></th>\n",
              "      <th>ID da viagem</th>\n",
              "      <th>Destino</th>\n",
              "      <th>Começo da viagem</th>\n",
              "      <th>Fim da viagem</th>\n",
              "      <th>Duração (dias)</th>\n",
              "      <th>Idade do viajante</th>\n",
              "      <th>Sexo do viajante</th>\n",
              "      <th>Nacionalidade do viajante</th>\n",
              "      <th>Tipo de acomodação</th>\n",
              "      <th>Custo da acomodação</th>\n",
              "      <th>Tipo de transporte</th>\n",
              "      <th>Custo do transporte</th>\n",
              "      <th>Custo total</th>\n",
              "    </tr>\n",
              "  </thead>\n",
              "  <tbody>\n",
              "    <tr>\n",
              "      <th>0</th>\n",
              "      <td>1</td>\n",
              "      <td>London, UK</td>\n",
              "      <td>2023-05-01</td>\n",
              "      <td>2023-05-08</td>\n",
              "      <td>7</td>\n",
              "      <td>35</td>\n",
              "      <td>Male</td>\n",
              "      <td>American</td>\n",
              "      <td>Hotel</td>\n",
              "      <td>1200</td>\n",
              "      <td>Airplane</td>\n",
              "      <td>600</td>\n",
              "      <td>1800</td>\n",
              "    </tr>\n",
              "    <tr>\n",
              "      <th>1</th>\n",
              "      <td>2</td>\n",
              "      <td>Phuket, Thailand</td>\n",
              "      <td>2023-06-15</td>\n",
              "      <td>2023-06-20</td>\n",
              "      <td>5</td>\n",
              "      <td>28</td>\n",
              "      <td>Female</td>\n",
              "      <td>Canadian</td>\n",
              "      <td>Resort</td>\n",
              "      <td>800</td>\n",
              "      <td>Airplane</td>\n",
              "      <td>500</td>\n",
              "      <td>1300</td>\n",
              "    </tr>\n",
              "    <tr>\n",
              "      <th>2</th>\n",
              "      <td>3</td>\n",
              "      <td>Bali, Indonesia</td>\n",
              "      <td>2023-07-01</td>\n",
              "      <td>2023-07-08</td>\n",
              "      <td>7</td>\n",
              "      <td>45</td>\n",
              "      <td>Male</td>\n",
              "      <td>Korean</td>\n",
              "      <td>Villa</td>\n",
              "      <td>1000</td>\n",
              "      <td>Airplane</td>\n",
              "      <td>700</td>\n",
              "      <td>1700</td>\n",
              "    </tr>\n",
              "    <tr>\n",
              "      <th>3</th>\n",
              "      <td>4</td>\n",
              "      <td>New York City, USA</td>\n",
              "      <td>2023-08-15</td>\n",
              "      <td>2023-08-29</td>\n",
              "      <td>14</td>\n",
              "      <td>29</td>\n",
              "      <td>Female</td>\n",
              "      <td>British</td>\n",
              "      <td>Hotel</td>\n",
              "      <td>2000</td>\n",
              "      <td>Airplane</td>\n",
              "      <td>1000</td>\n",
              "      <td>3000</td>\n",
              "    </tr>\n",
              "    <tr>\n",
              "      <th>4</th>\n",
              "      <td>5</td>\n",
              "      <td>Tokyo, Japan</td>\n",
              "      <td>2023-09-10</td>\n",
              "      <td>2023-09-17</td>\n",
              "      <td>7</td>\n",
              "      <td>26</td>\n",
              "      <td>Female</td>\n",
              "      <td>Vietnamese</td>\n",
              "      <td>Airbnb</td>\n",
              "      <td>700</td>\n",
              "      <td>Train</td>\n",
              "      <td>200</td>\n",
              "      <td>900</td>\n",
              "    </tr>\n",
              "    <tr>\n",
              "      <th>...</th>\n",
              "      <td>...</td>\n",
              "      <td>...</td>\n",
              "      <td>...</td>\n",
              "      <td>...</td>\n",
              "      <td>...</td>\n",
              "      <td>...</td>\n",
              "      <td>...</td>\n",
              "      <td>...</td>\n",
              "      <td>...</td>\n",
              "      <td>...</td>\n",
              "      <td>...</td>\n",
              "      <td>...</td>\n",
              "      <td>...</td>\n",
              "    </tr>\n",
              "    <tr>\n",
              "      <th>134</th>\n",
              "      <td>135</td>\n",
              "      <td>Rio de Janeiro, Brazil</td>\n",
              "      <td>2023-08-01</td>\n",
              "      <td>2023-08-10</td>\n",
              "      <td>9</td>\n",
              "      <td>37</td>\n",
              "      <td>Male</td>\n",
              "      <td>Brazilian</td>\n",
              "      <td>Hostel</td>\n",
              "      <td>2500</td>\n",
              "      <td>Car</td>\n",
              "      <td>2000</td>\n",
              "      <td>4500</td>\n",
              "    </tr>\n",
              "    <tr>\n",
              "      <th>135</th>\n",
              "      <td>136</td>\n",
              "      <td>Vancouver, Canada</td>\n",
              "      <td>2023-08-15</td>\n",
              "      <td>2023-08-21</td>\n",
              "      <td>6</td>\n",
              "      <td>29</td>\n",
              "      <td>Female</td>\n",
              "      <td>Canadian</td>\n",
              "      <td>Hotel</td>\n",
              "      <td>5000</td>\n",
              "      <td>Airplane</td>\n",
              "      <td>3000</td>\n",
              "      <td>8000</td>\n",
              "    </tr>\n",
              "    <tr>\n",
              "      <th>136</th>\n",
              "      <td>137</td>\n",
              "      <td>Bangkok, Thailand</td>\n",
              "      <td>2023-09-01</td>\n",
              "      <td>2023-09-08</td>\n",
              "      <td>7</td>\n",
              "      <td>34</td>\n",
              "      <td>Male</td>\n",
              "      <td>Chinese</td>\n",
              "      <td>Hostel</td>\n",
              "      <td>2000</td>\n",
              "      <td>Train</td>\n",
              "      <td>1000</td>\n",
              "      <td>3000</td>\n",
              "    </tr>\n",
              "    <tr>\n",
              "      <th>137</th>\n",
              "      <td>138</td>\n",
              "      <td>Barcelona, Spain</td>\n",
              "      <td>2023-09-15</td>\n",
              "      <td>2023-09-22</td>\n",
              "      <td>7</td>\n",
              "      <td>25</td>\n",
              "      <td>Female</td>\n",
              "      <td>Spanish</td>\n",
              "      <td>Airbnb</td>\n",
              "      <td>6000</td>\n",
              "      <td>Airplane</td>\n",
              "      <td>2500</td>\n",
              "      <td>8500</td>\n",
              "    </tr>\n",
              "    <tr>\n",
              "      <th>138</th>\n",
              "      <td>139</td>\n",
              "      <td>Auckland, New Zealand</td>\n",
              "      <td>2023-10-01</td>\n",
              "      <td>2023-10-08</td>\n",
              "      <td>7</td>\n",
              "      <td>39</td>\n",
              "      <td>Male</td>\n",
              "      <td>New Zealander</td>\n",
              "      <td>Hotel</td>\n",
              "      <td>7000</td>\n",
              "      <td>Train</td>\n",
              "      <td>2500</td>\n",
              "      <td>9500</td>\n",
              "    </tr>\n",
              "  </tbody>\n",
              "</table>\n",
              "<p>139 rows × 13 columns</p>\n",
              "</div>\n",
              "      <button class=\"colab-df-convert\" onclick=\"convertToInteractive('df-d66c1e8b-61ab-4fa6-bead-91887a5e0005')\"\n",
              "              title=\"Convert this dataframe to an interactive table.\"\n",
              "              style=\"display:none;\">\n",
              "        \n",
              "  <svg xmlns=\"http://www.w3.org/2000/svg\" height=\"24px\"viewBox=\"0 0 24 24\"\n",
              "       width=\"24px\">\n",
              "    <path d=\"M0 0h24v24H0V0z\" fill=\"none\"/>\n",
              "    <path d=\"M18.56 5.44l.94 2.06.94-2.06 2.06-.94-2.06-.94-.94-2.06-.94 2.06-2.06.94zm-11 1L8.5 8.5l.94-2.06 2.06-.94-2.06-.94L8.5 2.5l-.94 2.06-2.06.94zm10 10l.94 2.06.94-2.06 2.06-.94-2.06-.94-.94-2.06-.94 2.06-2.06.94z\"/><path d=\"M17.41 7.96l-1.37-1.37c-.4-.4-.92-.59-1.43-.59-.52 0-1.04.2-1.43.59L10.3 9.45l-7.72 7.72c-.78.78-.78 2.05 0 2.83L4 21.41c.39.39.9.59 1.41.59.51 0 1.02-.2 1.41-.59l7.78-7.78 2.81-2.81c.8-.78.8-2.07 0-2.86zM5.41 20L4 18.59l7.72-7.72 1.47 1.35L5.41 20z\"/>\n",
              "  </svg>\n",
              "      </button>\n",
              "      \n",
              "  <style>\n",
              "    .colab-df-container {\n",
              "      display:flex;\n",
              "      flex-wrap:wrap;\n",
              "      gap: 12px;\n",
              "    }\n",
              "\n",
              "    .colab-df-convert {\n",
              "      background-color: #E8F0FE;\n",
              "      border: none;\n",
              "      border-radius: 50%;\n",
              "      cursor: pointer;\n",
              "      display: none;\n",
              "      fill: #1967D2;\n",
              "      height: 32px;\n",
              "      padding: 0 0 0 0;\n",
              "      width: 32px;\n",
              "    }\n",
              "\n",
              "    .colab-df-convert:hover {\n",
              "      background-color: #E2EBFA;\n",
              "      box-shadow: 0px 1px 2px rgba(60, 64, 67, 0.3), 0px 1px 3px 1px rgba(60, 64, 67, 0.15);\n",
              "      fill: #174EA6;\n",
              "    }\n",
              "\n",
              "    [theme=dark] .colab-df-convert {\n",
              "      background-color: #3B4455;\n",
              "      fill: #D2E3FC;\n",
              "    }\n",
              "\n",
              "    [theme=dark] .colab-df-convert:hover {\n",
              "      background-color: #434B5C;\n",
              "      box-shadow: 0px 1px 3px 1px rgba(0, 0, 0, 0.15);\n",
              "      filter: drop-shadow(0px 1px 2px rgba(0, 0, 0, 0.3));\n",
              "      fill: #FFFFFF;\n",
              "    }\n",
              "  </style>\n",
              "\n",
              "      <script>\n",
              "        const buttonEl =\n",
              "          document.querySelector('#df-d66c1e8b-61ab-4fa6-bead-91887a5e0005 button.colab-df-convert');\n",
              "        buttonEl.style.display =\n",
              "          google.colab.kernel.accessAllowed ? 'block' : 'none';\n",
              "\n",
              "        async function convertToInteractive(key) {\n",
              "          const element = document.querySelector('#df-d66c1e8b-61ab-4fa6-bead-91887a5e0005');\n",
              "          const dataTable =\n",
              "            await google.colab.kernel.invokeFunction('convertToInteractive',\n",
              "                                                     [key], {});\n",
              "          if (!dataTable) return;\n",
              "\n",
              "          const docLinkHtml = 'Like what you see? Visit the ' +\n",
              "            '<a target=\"_blank\" href=https://colab.research.google.com/notebooks/data_table.ipynb>data table notebook</a>'\n",
              "            + ' to learn more about interactive tables.';\n",
              "          element.innerHTML = '';\n",
              "          dataTable['output_type'] = 'display_data';\n",
              "          await google.colab.output.renderOutput(dataTable, element);\n",
              "          const docLink = document.createElement('div');\n",
              "          docLink.innerHTML = docLinkHtml;\n",
              "          element.appendChild(docLink);\n",
              "        }\n",
              "      </script>\n",
              "    </div>\n",
              "  </div>\n",
              "  "
            ]
          },
          "metadata": {},
          "execution_count": 682
        }
      ]
    },
    {
      "cell_type": "markdown",
      "source": [
        "**1) Qual a primeira e última data de viagem registrada?**"
      ],
      "metadata": {
        "id": "ElYrpWpk3RNn"
      }
    },
    {
      "cell_type": "code",
      "source": [
        "print('Primeira data de viagem registrada: ',df['Começo da viagem'].min())\n",
        "print('Última data de viagem registrada: ',df['Começo da viagem'].max())"
      ],
      "metadata": {
        "colab": {
          "base_uri": "https://localhost:8080/"
        },
        "id": "9vr8j1gbiCCC",
        "outputId": "b9f585b2-f14c-40d5-b595-6ba56b401b41"
      },
      "execution_count": null,
      "outputs": [
        {
          "output_type": "stream",
          "name": "stdout",
          "text": [
            "Primeira data de viagem registrada:  2021-06-15 00:00:00\n",
            "Última data de viagem registrada:  2025-05-21 00:00:00\n"
          ]
        }
      ]
    },
    {
      "cell_type": "markdown",
      "source": [
        "Podemos supor que se trata de um dataset com dados fictícios, pois tem data de viagem em 2024 e 2025 e essa análise está sendo feito em Abril de 2023, ou então o dataset contém dados de viajens programadas que ainda não foram concretizadas. A amostragem é bem pequena também, pois os dados são de viagens feitas entre os anos de 2021 e 2025."
      ],
      "metadata": {
        "id": "iaAazpmivIoG"
      }
    },
    {
      "cell_type": "markdown",
      "source": [
        "**2) Qual o destino mais visitado?**"
      ],
      "metadata": {
        "id": "PauOcpJz3hMD"
      }
    },
    {
      "cell_type": "code",
      "source": [
        "dest_qtd = dict(df['Destino'].value_counts())\n",
        "\n",
        "fig, ax = plt.subplots(figsize=(15, 5))\n",
        "ax.bar(dest_qtd.keys(), dest_qtd.values(), width=1, edgecolor=\"white\", linewidth=0.7)\n",
        "plt.xticks(rotation=90)\n",
        "\n",
        "for i, v in enumerate(dest_qtd.values()):\n",
        "    ax.text(i, v + 0.2, str(v), ha='center')\n",
        "\n",
        "ax.set_title('Contagem de visitas por destino')\n",
        "ax.set_xlabel('Destino')\n",
        "ax.set_ylabel('Visitas')\n",
        "\n",
        "plt.show()"
      ],
      "metadata": {
        "colab": {
          "base_uri": "https://localhost:8080/",
          "height": 714
        },
        "id": "nIo08KxGi1QP",
        "outputId": "83951cbd-ca63-4de8-cc64-3e9a1a5a48f2"
      },
      "execution_count": null,
      "outputs": [
        {
          "output_type": "display_data",
          "data": {
            "text/plain": [
              "<Figure size 1500x500 with 1 Axes>"
            ],
            "image/png": "[encoded data removed]"
          },
          "metadata": {}
        }
      ]
    },
    {
      "cell_type": "markdown",
      "source": [
        "O destino mais visitado foi Paris, na França com 16 registros."
      ],
      "metadata": {
        "id": "JZWbHfdi4EoI"
      }
    },
    {
      "cell_type": "markdown",
      "source": [
        "**3) Desse destino mais visitado, quais foram as nacionalidades que mais visitaram?**"
      ],
      "metadata": {
        "id": "6YTR-60I3plo"
      }
    },
    {
      "cell_type": "code",
      "source": [
        "visitas_paris = df[ df['Destino'] == 'Paris, France' ]\n",
        "visit_paris_qtd = dict(visitas_paris['Nacionalidade do viajante'].value_counts())\n",
        "\n",
        "fig, ax = plt.subplots(figsize=(10, 5))\n",
        "ax.bar(visit_paris_qtd.keys(), visit_paris_qtd.values())\n",
        "plt.xticks(rotation=50, fontsize = 'small')\n",
        "\n",
        "for i, v in enumerate(visit_paris_qtd.values()):\n",
        "    ax.text(i, v + 0.2, str(v), ha='center')\n",
        "\n",
        "ax.set_title('Contagem de nacionalidades que visitaram Paris, France')\n",
        "ax.set_xlabel('Nacionalidade')\n",
        "ax.set_ylabel('Visitas')\n",
        "\n",
        "ax.set(ylim=(0, 12), yticks=np.arange(1, 12))\n",
        "\n",
        "plt.show()"
      ],
      "metadata": {
        "colab": {
          "base_uri": "https://localhost:8080/",
          "height": 634
        },
        "id": "K1pkY7ln9i37",
        "outputId": "3d7c7887-19aa-49c9-b035-c65c9aa4dc6d"
      },
      "execution_count": null,
      "outputs": [
        {
          "output_type": "display_data",
          "data": {
            "text/plain": [
              "<Figure size 1000x500 with 1 Axes>"
            ],
            "image/png": "[encoded data removed]"
          },
          "metadata": {}
        }
      ]
    },
    {
      "cell_type": "markdown",
      "source": [
        "Os Americanos são os que mais visitam Paris na França, com 11 registros."
      ],
      "metadata": {
        "id": "k4g5x68Q-On3"
      }
    },
    {
      "cell_type": "markdown",
      "source": [
        "**4) Qual a duração média das viagens?**"
      ],
      "metadata": {
        "id": "bhj8IbtY3vyf"
      }
    },
    {
      "cell_type": "code",
      "source": [
        "dur_med = round(df['Duração (dias)'].mean())\n",
        "print('A duração média das viagens é de:', dur_med, 'dias')"
      ],
      "metadata": {
        "colab": {
          "base_uri": "https://localhost:8080/"
        },
        "id": "ld-tMNac96UR",
        "outputId": "6961fd8f-ed7f-49b3-e609-982487eec149"
      },
      "execution_count": null,
      "outputs": [
        {
          "output_type": "stream",
          "name": "stdout",
          "text": [
            "A duração média das viagens é de: 8 dias\n"
          ]
        }
      ]
    },
    {
      "cell_type": "markdown",
      "source": [
        "**5) Qual a duração de viagem mais comum?**"
      ],
      "metadata": {
        "id": "g-i1DzfC38YH"
      }
    },
    {
      "cell_type": "code",
      "source": [
        "dur_mod = df['Duração (dias)'].mode().tolist()[0]\n",
        "print('A duração de viagem mais frequente é de:', dur_mod, 'dias')"
      ],
      "metadata": {
        "colab": {
          "base_uri": "https://localhost:8080/"
        },
        "id": "J-QVv1bP_5pq",
        "outputId": "2aac27f6-3dbc-442b-844d-8613e43951d2"
      },
      "execution_count": null,
      "outputs": [
        {
          "output_type": "stream",
          "name": "stdout",
          "text": [
            "A duração de viagem mais frequente é de: 7 dias\n"
          ]
        }
      ]
    },
    {
      "cell_type": "markdown",
      "source": [
        "**6) Qual a média da idade dos viajantes?**"
      ],
      "metadata": {
        "id": "krlGCwBj4Cwj"
      }
    },
    {
      "cell_type": "code",
      "source": [
        "idade_med = round(df['Idade do viajante'].mean())\n",
        "print('A idade média dos viajantes é de:', idade_med, 'anos')"
      ],
      "metadata": {
        "colab": {
          "base_uri": "https://localhost:8080/"
        },
        "id": "0frMaB0M-41w",
        "outputId": "83439d3c-9f2b-4030-9e25-4a358aa8ebb3"
      },
      "execution_count": null,
      "outputs": [
        {
          "output_type": "stream",
          "name": "stdout",
          "text": [
            "A idade média dos viajantes é de: 33 anos\n"
          ]
        }
      ]
    },
    {
      "cell_type": "markdown",
      "source": [
        "**7) Quem viaja mais, homens ou mulheres?**"
      ],
      "metadata": {
        "id": "qmn4pRB94Ha3"
      }
    },
    {
      "cell_type": "code",
      "source": [
        "labels = df[\"Sexo do viajante\"].value_counts().index\n",
        "sizes = df[\"Sexo do viajante\"].value_counts()\n",
        "\n",
        "plt.figure(figsize = (3,3))\n",
        "plt.pie(sizes, labels=labels, rotatelabels=False, autopct='%1.1f%%')\n",
        "\n",
        "plt.title('Sexo do viajante',color = 'black',fontsize = 15)\n",
        "\n",
        "plt.show()"
      ],
      "metadata": {
        "colab": {
          "base_uri": "https://localhost:8080/",
          "height": 355
        },
        "id": "pp6fwzD7BukQ",
        "outputId": "3bee54b0-7e9e-4b0e-d010-43f547e637ec"
      },
      "execution_count": null,
      "outputs": [
        {
          "output_type": "display_data",
          "data": {
            "text/plain": [
              "<Figure size 300x300 with 1 Axes>"
            ],
            "image/png": "[encoded data removed]"
          },
          "metadata": {}
        }
      ]
    },
    {
      "cell_type": "markdown",
      "source": [
        "O sexo feminino é o que mais viaja, porém a diferença é bem pequena (3,6%)."
      ],
      "metadata": {
        "id": "Mqc2-EXwJtOh"
      }
    },
    {
      "cell_type": "markdown",
      "source": [
        "**8) Qual o tipo de acomodação preferida?**"
      ],
      "metadata": {
        "id": "4iX6eQfj7Lka"
      }
    },
    {
      "cell_type": "code",
      "source": [
        "acomodacao_qtd = dict(df['Tipo de acomodação'].value_counts())\n",
        "\n",
        "fig, ax = plt.subplots(figsize=(10, 5))\n",
        "ax.bar(acomodacao_qtd.keys(), acomodacao_qtd.values())\n",
        "plt.xticks(rotation=50)\n",
        "\n",
        "for i, v in enumerate(acomodacao_qtd.values()):\n",
        "    ax.text(i, v + 0.7, str(v), ha='center')\n",
        "\n",
        "ax.set_title('Tipo de acomodação')\n",
        "ax.set_xlabel('Tipo')\n",
        "ax.set_ylabel('Quantidade')\n",
        "\n",
        "plt.show()"
      ],
      "metadata": {
        "colab": {
          "base_uri": "https://localhost:8080/",
          "height": 663
        },
        "id": "Aydn9OaODjCx",
        "outputId": "c59c6d84-b48d-4700-d28f-7e48d85cb31c"
      },
      "execution_count": null,
      "outputs": [
        {
          "output_type": "display_data",
          "data": {
            "text/plain": [
              "<Figure size 1000x500 with 1 Axes>"
            ],
            "image/png": "[encoded data removed]"
          },
          "metadata": {}
        }
      ]
    },
    {
      "cell_type": "markdown",
      "source": [
        "O Hotel é disparado o tipo de hospedagem mais escolhido pelos viajantes, com mais que o dobro de registros do segundo colocado, o Airbnb. Isso mostra que as pessoas buscam por conforto e praticidade."
      ],
      "metadata": {
        "id": "0AwgcgulMetH"
      }
    },
    {
      "cell_type": "markdown",
      "source": [
        "**9) Qual o meio de transporte preferido?**"
      ],
      "metadata": {
        "id": "ipUGTdL87SuY"
      }
    },
    {
      "cell_type": "code",
      "source": [
        "tnsp_qtd = dict(df['Tipo de transporte'].value_counts())\n",
        "\n",
        "fig, ax = plt.subplots(figsize=(10, 5))\n",
        "ax.bar(tnsp_qtd.keys(), tnsp_qtd.values())\n",
        "plt.xticks(rotation=50)\n",
        "\n",
        "for i, v in enumerate(tnsp_qtd.values()):\n",
        "    ax.text(i, v + 0.7, str(v), ha='center')\n",
        "\n",
        "ax.set_title('Tipo de transporte')\n",
        "ax.set_xlabel('Tipo')\n",
        "ax.set_ylabel('Quantidade')\n",
        "\n",
        "plt.show()"
      ],
      "metadata": {
        "colab": {
          "base_uri": "https://localhost:8080/",
          "height": 635
        },
        "id": "6IHMdZDoMbqb",
        "outputId": "db55bdf7-1a9c-4da8-fa08-0e2d1d9f2156"
      },
      "execution_count": null,
      "outputs": [
        {
          "output_type": "display_data",
          "data": {
            "text/plain": [
              "<Figure size 1000x500 with 1 Axes>"
            ],
            "image/png": "[encoded data removed]"
          },
          "metadata": {}
        }
      ]
    },
    {
      "cell_type": "markdown",
      "source": [
        "O Avião é o meio de transporte mais utilizado pelos viajantes, com mais da metade dos registros. Isso mostra que as viagens são para destinos mais distantes, que não são acessíveis apenas por trêm, carro e ônibus."
      ],
      "metadata": {
        "id": "hcZXUP0yOBNr"
      }
    },
    {
      "cell_type": "markdown",
      "source": [
        "**10) Qual é o custo médio com a viagem (considerando apenas acomodação e transporte)?**"
      ],
      "metadata": {
        "id": "oJbqWHfS7a6_"
      }
    },
    {
      "cell_type": "code",
      "source": [
        "custo_med = round(df['Custo total'].mean())\n",
        "print('O custo médio com as viagens é de:', custo_med, 'dólares')"
      ],
      "metadata": {
        "colab": {
          "base_uri": "https://localhost:8080/"
        },
        "id": "I7Vfan_6GzWr",
        "outputId": "338228db-309c-4756-ca42-46e6b0b5c512"
      },
      "execution_count": null,
      "outputs": [
        {
          "output_type": "stream",
          "name": "stdout",
          "text": [
            "O custo médio com as viagens é de: 1893 dólares\n"
          ]
        }
      ]
    },
    {
      "cell_type": "markdown",
      "source": [
        "**11) Qual a porcentagem dos viajantes que visitaram o Brasil?**"
      ],
      "metadata": {
        "id": "nw_ZH10K7f8U"
      }
    },
    {
      "cell_type": "code",
      "source": [
        "df_copy = df.copy()\n",
        "df_copy['Destino'] = df_copy['Destino'].apply(lambda x: 'Brasil' if x == 'Rio de Janeiro, Brazil' or x == 'Brazil' else 'Outros')\n",
        "\n",
        "labels2 = df_copy[\"Destino\"].value_counts().index\n",
        "sizes2 = df_copy[\"Destino\"].value_counts()\n",
        "\n",
        "plt.figure(figsize = (3,3))\n",
        "plt.pie(sizes2, labels=labels2, rotatelabels=False, autopct='%1.1f%%')\n",
        "\n",
        "plt.title('Porcentagem dos viajantes que visitaram o Brasil',color = 'black',fontsize = 15)\n",
        "\n",
        "plt.show()"
      ],
      "metadata": {
        "colab": {
          "base_uri": "https://localhost:8080/",
          "height": 355
        },
        "id": "f5SeCGC4W1PJ",
        "outputId": "56bcb72c-b31b-4894-ea8f-e7367e1dd0fa"
      },
      "execution_count": null,
      "outputs": [
        {
          "output_type": "display_data",
          "data": {
            "text/plain": [
              "<Figure size 300x300 with 1 Axes>"
            ],
            "image/png": "[encoded data removed]"
          },
          "metadata": {}
        }
      ]
    },
    {
      "cell_type": "markdown",
      "source": [
        "**12) Quais as nacionalidades que mais visitaram o Brasil?**"
      ],
      "metadata": {
        "id": "A5_edJbo7l1O"
      }
    },
    {
      "cell_type": "code",
      "source": [
        "visitas_brasil = df_copy[ df_copy['Destino'] == 'Brasil' ]\n",
        "visit_brasil_qtd = dict(visitas_brasil['Nacionalidade do viajante'].value_counts())\n",
        "\n",
        "fig, ax = plt.subplots(figsize=(5, 2))\n",
        "ax.bar(visit_brasil_qtd.keys(), visit_brasil_qtd.values())\n",
        "plt.xticks(rotation=50, fontsize = 'small')\n",
        "\n",
        "for i, v in enumerate(visit_brasil_qtd.values()):\n",
        "    ax.text(i, v + 0.2, str(v), ha='center')\n",
        "\n",
        "ax.set_title('Contagem de nacionalidades que visitaram o Brasil')\n",
        "ax.set_xlabel('Nacionalidade')\n",
        "ax.set_ylabel('Visitas')\n",
        "\n",
        "ax.set(ylim=(0, 6), yticks=np.arange(1, 6))\n",
        "\n",
        "plt.show()"
      ],
      "metadata": {
        "colab": {
          "base_uri": "https://localhost:8080/",
          "height": 333
        },
        "id": "ec43trlzWDa9",
        "outputId": "22c5df5e-bcf4-4a42-878e-3d9a5efe40f7"
      },
      "execution_count": null,
      "outputs": [
        {
          "output_type": "display_data",
          "data": {
            "text/plain": [
              "<Figure size 500x200 with 1 Axes>"
            ],
            "image/png": "[encoded data removed]"
          },
          "metadata": {}
        }
      ]
    },
    {
      "cell_type": "markdown",
      "source": [
        "Nota-se que a maioria dos visitantes do Brasil foram os próprios brasileiros, ou seja, há uma forte tendência de turismo doméstico. Por outro lado, nota-se que os viajantes de outros países não têm muito interesse em visitar o Brasil."
      ],
      "metadata": {
        "id": "QRuooIggaHkW"
      }
    },
    {
      "cell_type": "markdown",
      "source": [
        "**13) Qual é a duração mais comum dos visitantes do Brasil?**"
      ],
      "metadata": {
        "id": "aQSZjInd7trT"
      }
    },
    {
      "cell_type": "code",
      "source": [
        "df_copy_bra = df_copy[ df_copy['Destino'] == 'Brasil' ]\n",
        "dur_bra_mod = df_copy_bra['Duração (dias)'].mode().tolist()[0:2]\n",
        "print('A duração de viagem mais frequente para o Brasil é de:', dur_bra_mod, 'dias')\n"
      ],
      "metadata": {
        "colab": {
          "base_uri": "https://localhost:8080/"
        },
        "id": "Bd-J3NbJZ5_k",
        "outputId": "86655ade-ba56-48a0-a9bd-cdea09888996"
      },
      "execution_count": null,
      "outputs": [
        {
          "output_type": "stream",
          "name": "stdout",
          "text": [
            "A duração de viagem mais frequente para o Brasil é de: [7, 9] dias\n"
          ]
        }
      ]
    },
    {
      "cell_type": "markdown",
      "source": [
        "Nesse caso são mais frequentes o períodos de 7 dias e 9 dias de estadia. Seguindo uma tendência global que é de 7 dias de estadia."
      ],
      "metadata": {
        "id": "_FeDfALic6FD"
      }
    },
    {
      "cell_type": "markdown",
      "source": [
        "**14) Qual a média de idade dos viajantes que visitaram o Brasil?**"
      ],
      "metadata": {
        "id": "8B7FcTka7zUA"
      }
    },
    {
      "cell_type": "code",
      "source": [
        "idade_bra_med = round(df_copy_bra['Idade do viajante'].mean())\n",
        "print('A idade média dos viajantes é de:', idade_bra_med, 'anos')"
      ],
      "metadata": {
        "colab": {
          "base_uri": "https://localhost:8080/"
        },
        "id": "rVAtCNqGbLcB",
        "outputId": "f1c0e1d9-26fb-4b81-a3e5-c6711422836e"
      },
      "execution_count": null,
      "outputs": [
        {
          "output_type": "stream",
          "name": "stdout",
          "text": [
            "A idade média dos viajantes é de: 31 anos\n"
          ]
        }
      ]
    },
    {
      "cell_type": "markdown",
      "source": [
        "A idade média dos que viajam ao Brasil fica abaixo da idade média dos viajantes global que é de 33 anos."
      ],
      "metadata": {
        "id": "mFuhmIWfdI4J"
      }
    },
    {
      "cell_type": "markdown",
      "source": [
        "**15) Qual o tipo de acomodação mais escolhido pelos visitantes do Brasil?**"
      ],
      "metadata": {
        "id": "s90P9g4-73qK"
      }
    },
    {
      "cell_type": "code",
      "source": [
        "acomodacao_bra_qtd = dict(df_copy_bra['Tipo de acomodação'].value_counts())\n",
        "\n",
        "fig, ax = plt.subplots(figsize=(5, 3))\n",
        "ax.bar(acomodacao_bra_qtd.keys(), acomodacao_bra_qtd.values())\n",
        "plt.xticks(rotation=50)\n",
        "\n",
        "for i, v in enumerate(acomodacao_bra_qtd.values()):\n",
        "    ax.text(i, v + 0.1, str(v), ha='center')\n",
        "\n",
        "ax.set_title('Tipo de acomodação dos que viajaram ao Brasil')\n",
        "ax.set_xlabel('Tipo')\n",
        "ax.set_ylabel('Quantidade')\n",
        "\n",
        "ax.set(ylim=(0, 3), yticks=np.arange(1, 3))\n",
        "\n",
        "plt.show()"
      ],
      "metadata": {
        "colab": {
          "base_uri": "https://localhost:8080/",
          "height": 421
        },
        "id": "ZGTfFhSMcsBk",
        "outputId": "c60f3b05-9aa9-48c4-a62b-9d2dbad0ee81"
      },
      "execution_count": null,
      "outputs": [
        {
          "output_type": "display_data",
          "data": {
            "text/plain": [
              "<Figure size 500x300 with 1 Axes>"
            ],
            "image/png": "[encoded data removed]"
          },
          "metadata": {}
        }
      ]
    },
    {
      "cell_type": "markdown",
      "source": [
        "A preferência é igual por Airbnb, Hostel e Hotel. Bem diferente do que vemos sobre os viajantes globais."
      ],
      "metadata": {
        "id": "WwvXgk03hAOd"
      }
    },
    {
      "cell_type": "markdown",
      "source": [
        "**16) Qual o tipo de transporte mais escolhido pelos visitantes do Brasil?**"
      ],
      "metadata": {
        "id": "xKv2rmlG78Zz"
      }
    },
    {
      "cell_type": "code",
      "source": [
        "transporte_bra_qtd = dict(df_copy_bra['Tipo de transporte'].value_counts())\n",
        "\n",
        "fig, ax = plt.subplots(figsize=(5, 3))\n",
        "ax.bar(transporte_bra_qtd.keys(), transporte_bra_qtd.values())\n",
        "plt.xticks(rotation=50)\n",
        "\n",
        "for i, v in enumerate(transporte_bra_qtd.values()):\n",
        "    ax.text(i, v + 0.1, str(v), ha='center')\n",
        "\n",
        "ax.set_title('Tipo de transporte dos que viajaram ao Brasil')\n",
        "ax.set_xlabel('Tipo')\n",
        "ax.set_ylabel('Quantidade')\n",
        "\n",
        "ax.set(ylim=(0, 3), yticks=np.arange(1, 3))\n",
        "\n",
        "plt.show()"
      ],
      "metadata": {
        "colab": {
          "base_uri": "https://localhost:8080/",
          "height": 439
        },
        "id": "smIyo5G3g_fX",
        "outputId": "f28f2e2f-6f22-4b3e-8c5e-75bff34d6ff4"
      },
      "execution_count": null,
      "outputs": [
        {
          "output_type": "display_data",
          "data": {
            "text/plain": [
              "<Figure size 500x300 with 1 Axes>"
            ],
            "image/png": "[encoded data removed]"
          },
          "metadata": {}
        }
      ]
    },
    {
      "cell_type": "markdown",
      "source": [
        "A preferência do tipo de transporte é bem equilibrada também, isso é explicado devido aos viajantes serem de dentro do próprio Brasil, como vimos anteriormente, assim sendo, é viável viajar de ônibus, trêm e carro, ao contrário do que vemos sobre os viajantes globais."
      ],
      "metadata": {
        "id": "eqNe9S1lht3e"
      }
    },
    {
      "cell_type": "markdown",
      "source": [
        "**17) Qual é o custo médio com a viagem ao Brasil (considerando apenas acomodação e transporte)?**"
      ],
      "metadata": {
        "id": "V7uUFERq8GKV"
      }
    },
    {
      "cell_type": "code",
      "source": [
        "custo_bra_med = round(df_copy_bra['Custo total'].mean())\n",
        "print('O custo médio com as viagens é de:', custo_bra_med, 'dólares')"
      ],
      "metadata": {
        "colab": {
          "base_uri": "https://localhost:8080/"
        },
        "id": "_IA4itWfd3VC",
        "outputId": "60b42ed8-4f8c-4e05-868c-c979ee430c2c"
      },
      "execution_count": null,
      "outputs": [
        {
          "output_type": "stream",
          "name": "stdout",
          "text": [
            "O custo médio com as viagens é de: 1725 dólares\n"
          ]
        }
      ]
    },
    {
      "cell_type": "markdown",
      "source": [
        "A média do custo das viagens ao Brasil segue bem próxima da média global."
      ],
      "metadata": {
        "id": "lJ3bSYxiizGi"
      }
    },
    {
      "cell_type": "markdown",
      "source": [
        "## **5. Relatório - Pandas Profiling**"
      ],
      "metadata": {
        "id": "p3eE54nkjNXl"
      }
    },
    {
      "cell_type": "code",
      "source": [
        "# Instalação.\n",
        "!pip install -q pandas-profiling\n",
        "!pip install -q ipywidgets\n",
        "\n",
        "# Uso.\n",
        "import ydata_profiling\n",
        "profile = ProfileReport(df, title='EDA - Relatório sobre Viagens')\n",
        "profile.to_file(output_file='eda_relatorio_sobre_viagens.html')"
      ],
      "metadata": {
        "colab": {
          "base_uri": "https://localhost:8080/",
          "height": 145,
          "referenced_widgets": [
            "690a1d72bd8346f4bb43206dec530428",
            "baea0e2a8a6649679d6c64ef3f784f3b",
            "4ff7dfeac2654010b64a59c9598be10a",
            "6ae38e3b06be4215a6cdac113df52269",
            "efab4e28ce7145908ba8e5a7802612ec",
            "c65632f01c4b430982909e93d7717660",
            "e9e8b8a8b9344a159c5a30d502a1e949",
            "7d2a751018654109bc824f2c89dbaa21",
            "8d322db6af5f4391af39a4b421011d7e",
            "ca123ec50c194772b64f0a85c423d9ea",
            "f24698bcb6d14936a5db97a6f7a87100",
            "dc3ae884ad604331b31278894707b5fc",
            "4f4ab89853824b89b5d5f3611e4f2a7a",
            "93fa6e95782947b5a2a86c3f09309364",
            "7cfcf953ab914b9da0d36dd556f90f0a",
            "9b3afd056e39429d95ea533b99435920",
            "c261363e99934febb6506a1555d0458b",
            "ae30bf6259684aedbf5149b430a31adc",
            "fab980e1fee042eea79f90a7f48db79c",
            "09f6876cca2447f887e132ebff2aec82",
            "ae10972d17104b78abe95b5bf202ff88",
            "3a8f1d7b5fa44f5d959084bbb46af1d8",
            "575ee93015894b6fa49662a2a842ab0b",
            "044084057394404188b0ceb32afea1ba",
            "84d525c7352246ada980e40ebadc9f8a",
            "9382a69784744d4981245e42e48424bf",
            "affb0b0a77f24f3d866e53c1639a088d",
            "ebc7f398003645d5be1ea4326c76b877",
            "65ed0e20cb314718a1893198d292ba39",
            "c40a5965a64a4645a793c6ba3ff29fb6",
            "27c45105b167442fa0c79cd84a5fd6a1",
            "de01ebc7985e428f925a899814a4836b",
            "18c47d08697e4ce2825b94d3f03fb279",
            "a39b59a75ee44d1eb42c387648d9be0f",
            "90e3ae81a77a49f5943b3daf1579a8f4",
            "75439f6293374e079aa14417790857bc",
            "9318efc4be5f43f19f688eef1e81369a",
            "e435d159ce9847e6916848a54b3b82c9",
            "e4e9d55a204b45e196e2ff2b01b44246",
            "6bdb5a1f0c2c4621b1b3d3de4617458f",
            "cea1c143a034432fb265f124b2d37656",
            "6fd5ad3a347444808acb6980edc6a0b2",
            "7f3c44bc85f44a9a8cfb839480164171",
            "bfa2ea1b25c54a5995cb6c18952a9312"
          ]
        },
        "id": "1dLrrouBiWln",
        "outputId": "bfcfc3b1-1ee8-46c2-f181-4da19b0c1590"
      },
      "execution_count": null,
      "outputs": [
        {
          "output_type": "display_data",
          "data": {
            "text/plain": [
              "Summarize dataset:   0%|          | 0/5 [00:00<?, ?it/s]"
            ],
            "application/vnd.jupyter.widget-view+json": {
              "version_major": 2,
              "version_minor": 0,
              "model_id": "690a1d72bd8346f4bb43206dec530428"
            }
          },
          "metadata": {}
        },
        {
          "output_type": "display_data",
          "data": {
            "text/plain": [
              "Generate report structure:   0%|          | 0/1 [00:00<?, ?it/s]"
            ],
            "application/vnd.jupyter.widget-view+json": {
              "version_major": 2,
              "version_minor": 0,
              "model_id": "dc3ae884ad604331b31278894707b5fc"
            }
          },
          "metadata": {}
        },
        {
          "output_type": "display_data",
          "data": {
            "text/plain": [
              "Render HTML:   0%|          | 0/1 [00:00<?, ?it/s]"
            ],
            "application/vnd.jupyter.widget-view+json": {
              "version_major": 2,
              "version_minor": 0,
              "model_id": "575ee93015894b6fa49662a2a842ab0b"
            }
          },
          "metadata": {}
        },
        {
          "output_type": "display_data",
          "data": {
            "text/plain": [
              "Export report to file:   0%|          | 0/1 [00:00<?, ?it/s]"
            ],
            "application/vnd.jupyter.widget-view+json": {
              "version_major": 2,
              "version_minor": 0,
              "model_id": "a39b59a75ee44d1eb42c387648d9be0f"
            }
          },
          "metadata": {}
        }
      ]
    },
    {
      "cell_type": "code",
      "source": [
        "# Baixando relatório para o computador.\n",
        "from google.colab import files\n",
        "files.download('eda_relatorio_sobre_viagens.html')"
      ],
      "metadata": {
        "colab": {
          "base_uri": "https://localhost:8080/",
          "height": 17
        },
        "id": "IC3jR6egj1ek",
        "outputId": "48da5d0c-1e1d-435f-a9e2-949673c2b764"
      },
      "execution_count": null,
      "outputs": [
        {
          "output_type": "display_data",
          "data": {
            "text/plain": [
              "<IPython.core.display.Javascript object>"
            ],
            "application/javascript": [
              "\n",
              "    async function download(id, filename, size) {\n",
              "      if (!google.colab.kernel.accessAllowed) {\n",
              "        return;\n",
              "      }\n",
              "      const div = document.createElement('div');\n",
              "      const label = document.createElement('label');\n",
              "      label.textContent = `Downloading \"${filename}\": `;\n",
              "      div.appendChild(label);\n",
              "      const progress = document.createElement('progress');\n",
              "      progress.max = size;\n",
              "      div.appendChild(progress);\n",
              "      document.body.appendChild(div);\n",
              "\n",
              "      const buffers = [];\n",
              "      let downloaded = 0;\n",
              "\n",
              "      const channel = await google.colab.kernel.comms.open(id);\n",
              "      // Send a message to notify the kernel that we're ready.\n",
              "      channel.send({})\n",
              "\n",
              "      for await (const message of channel.messages) {\n",
              "        // Send a message to notify the kernel that we're ready.\n",
              "        channel.send({})\n",
              "        if (message.buffers) {\n",
              "          for (const buffer of message.buffers) {\n",
              "            buffers.push(buffer);\n",
              "            downloaded += buffer.byteLength;\n",
              "            progress.value = downloaded;\n",
              "          }\n",
              "        }\n",
              "      }\n",
              "      const blob = new Blob(buffers, {type: 'application/binary'});\n",
              "      const a = document.createElement('a');\n",
              "      a.href = window.URL.createObjectURL(blob);\n",
              "      a.download = filename;\n",
              "      div.appendChild(a);\n",
              "      a.click();\n",
              "      div.remove();\n",
              "    }\n",
              "  "
            ]
          },
          "metadata": {}
        },
        {
          "output_type": "display_data",
          "data": {
            "text/plain": [
              "<IPython.core.display.Javascript object>"
            ],
            "application/javascript": [
              "download(\"download_ddf1a278-c606-4d43-af19-dd07f261f548\", \"eda_relatorio_sobre_viagens.html\", 2179680)"
            ]
          },
          "metadata": {}
        }
      ]
    },
    {
      "cell_type": "markdown",
      "source": [
        "## **6. Conclusão**\n",
        "\n",
        "Com base na análise efetuada é possível supor que se trata de um **dataset com dados fictícios** **e com poucos registros**, sendo assim será utilizado apenas para fins de estudos de Python, bibliotecas Pandas e Matplotlib, limpeza e transformação de dados, análise exploratória de dados e Pandas profiling.<br>\n",
        "<br>\n",
        "De acordo com os dados, **há 139 registros de viagens**, sendo que **a primeira viagem iniciou-se em 15/06/2021 e a última em 21/05/2025**, por essa razão podemos supor que se tratam de dados fictícios ou que existam dados de viagens futuras no dataset.<br>\n",
        "<br>\n",
        "O destino mais visitado é **Paris, na França, com 16 registros**. Bali (Indonésia), Tokyo (Japão) e Sidney (Austrália), vêm logo em seguida, empatados com 12 registros cada. Dos viajantes que visitaram Paris, a grande maioria são Americanos.<br>\n",
        "\n",
        "A duração média das viagens é de **8 dias** e a média de idade dos viajantes é de **33 anos**. Quanto ao sexo dos viajantes, há um bom equilibrio, porém os **viajantes do sexo feminino acabam levando uma leve vantagem com 3,6% a mais**.<br>\n",
        "<br>\n",
        "O tipo de acomodação preferida é o **Hotel** e o transporte peferido é o **Avião**. Isso mostra que a maioria dos viajantes preferem conforto, comodidade, praticidade e buscam destinos mais distantes de seu destino de origem, por isso é necessário viajar de avião. Isso reflete no custo médio das viagens que fica em torno de **1.893 dólares por viagem** (considerando apenas o transporte e hospedagem).<br>\n",
        "<br>\n",
        "Quando analisamos as viagens feita para o Brasil, notamos que ela representa uma pequena parcela de **4,3%** do total de registros, **sendo que quase todos os viajantes que visitaram o Brasil são brasileiros**, ou seja, há uma grande predominância do turismo doméstico no Brasil. Eles permanecem em viagem por **7 ou 9 dias** e tem média de idade de **31 anos**, pouco abaixo da média global.<br>\n",
        "<br>\n",
        "Os viajantes que visitam o Brasil **não tem uma preferência clara por tipo de hospedagem e meio de transporte**. Há um empate entre Airbnb, Hostel e Hotel com 3 regsitros cada, e o meio de transporte é o mais variado possível e bem equilibrado, além Avião, as viagens são feitas de Ônibus, Carro e Trêm.  Isso é explicado devido aos viajantes serem de dentro do próprio Brasil, como vimos anteriormente, assim sendo, as distâncias podem ser menores e utilizar diversos meios de transporte.<br>\n",
        "<br>\n",
        "Mesmo com viagem para destino próximo (viagem nacional), tipos de hospedagem mais econômicas (como Hostel e Airbnb) e meios de transportes mais variados e mais econômicos (como carro, ônibus e trêm), o custo médio das viagens ainda é elevado e fica bem próximo do custo médio das viagens globais, ficando em média **1.725 dólares por viagem** (considerando apenas o transporte e hospedagem)."
      ],
      "metadata": {
        "id": "qhByHOARnsvy"
      }
    }
  ]
}